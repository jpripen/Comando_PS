{
 "cells": [
  {
   "cell_type": "markdown",
   "metadata": {},
   "source": [
    "# Kaggle Titanic Project\n",
    "## by Comando PS"
   ]
  },
  {
   "cell_type": "markdown",
   "metadata": {},
   "source": [
    "## 1. Table of contents\n",
    "\n",
    "1. Table of Contents  \n",
    "2. [Introduction](#Introduction)  \n",
    "3. [Business Understanding](#Business_understanding)  \n",
    "    3.1. [Background](#Background)  \n",
    "    3.2. [Problem description](#Problem_description)  \n",
    "    3.3. [Target audience](#Target_audience)  \n",
    "    3.4. [Success criteria](#Success_criteria)  \n",
    "4. [Data Understanding](#Data_understanding)  \n",
    "    4.1. [Structure of training and test sets](#Data_structure)  \n",
    "    4.2. [Submission set](#Submission_set)  \n",
    "    4.3. [Exploratory data analysis](#EDA)  \n",
    "        4.3.1.  Survival  \n",
    "        4.3.2.  Name\n",
    "        4.3.3.  Sex  \n",
    "        4.3.4.  Passenger class  \n",
    "        4.3.5.  Age  \n",
    "        4.3.6.  Ticket fare\n",
    "        4.3.7.  Ticket\n",
    "        4.3.8.  Family size\n",
    "        4.3.9.  Cabin\n",
    "        4.3.10. Port of embarkation\n",
    "5. [Feature engineering](#Feature_engineering)    \n",
    "    5.1. [Title information](#Title_information)  \n",
    "    5.2. [Age](#Age_FE)  \n",
    "        5.2.1. Segmentation of age bands\n",
    "        5.2.2. Filling of missing age values\n",
    "        5.2.3. Age band feature \n",
    "    5.3. [Family size](#Fsize_FE)  \n",
    "    5.4. [Ticket occurence](#Toccurence_FE)  \n",
    "        5.4.1. Lone travellers\n",
    "    5.5. [Fare per person](#Farepp_FE)  \n",
    "    5.6. [Port of embarkation](#Portemb_FE)  \n",
    "    5.7. [Making dummies of categorical variables](#Dummies_FE)  \n",
    "6. [Modeling](#Modeling)  \n",
    "7. [Evaluation](#Evaluation)\n",
    "8. [Conclusion](#Conclusion)\n"
   ]
  },
  {
   "cell_type": "markdown",
   "metadata": {
    "_cell_guid": "79c7e3d0-c299-4dcb-8224-4455121ee9b0",
    "_uuid": "d629ff2d2480ee46fbb7e2d37f6b5fab8052498a",
    "collapsed": true
   },
   "source": [
    "<a id='Introduction'></a>\n",
    "## 2. Introduction\n",
    "\n",
    "In this notebook we will try to complete the introductory project for kaggle, which is trying to predict if a group of passengers on board of RMS Titanic survived or not the [tragic sinking of the ship in the early hours of 15 April 1912](https://en.wikipedia.org/wiki/Sinking_of_the_RMS_Titanic). This notebook is intended to start learning ML so it will be based on some notebooks we have deemed interesting on the internet. References will be provided when needed."
   ]
  },
  {
   "cell_type": "markdown",
   "metadata": {},
   "source": [
    "![RMS Titanic][RMS]\n",
    "\n",
    "[RMS]: https://upload.wikimedia.org/wikipedia/commons/thumb/3/3c/RMS_Titanic_sea_trials_April_2%2C_1912.jpg/637px-RMS_Titanic_sea_trials_April_2%2C_1912.jpg \"RMS Titanic\"\n",
    "\n",
    "To collect insights from data we will be applying the [CRISP-DM](https://en.wikipedia.org/wiki/Cross_Industry_Standard_Process_for_Data_Mining \"Wikipedia CRISP-DM page\") (Cross Industry Standard Process for Data Mining) methodology.\n",
    "\n",
    "![CRISP-DM][MET]\n",
    "\n",
    "[MET]: https://upload.wikimedia.org/wikipedia/commons/thumb/b/b9/CRISP-DM_Process_Diagram.png/599px-CRISP-DM_Process_Diagram.png \"CRISP-DM Methodology\"\n",
    "\n",
    "CRISP-DM methodology breaks the process of data mining into six phases:\n",
    "\n",
    "1. Business understanding: Understand what we need from the data.\n",
    "2. Data understanding: See how is the data formatted, what tools we need to operate with it and extract some basic insights (Exploratory Data Analysis, or EDA).\n",
    "3. Data preparation: Data wrangling and feature engineering.\n",
    "4. Modeling: Build a model to extract the answers needed from our data.\n",
    "5. Evaluation: Use a metric to compare our results and gain some feedback from our model to further improve it.\n",
    "6. Deployment: Submit our result to Kaggle."
   ]
  },
  {
   "cell_type": "markdown",
   "metadata": {},
   "source": [
    "<a id='Business_understanding'></a>\n",
    "## 3. Business understanding\n",
    "\n",
    "<a id='Background'></a>\n",
    "### 3.1. Background\n",
    "\n",
    "The sinking of RMS Titanic is one of the most infamous sinkings in contemporary history. The RMS Titanic sank in the early hours of 15 April 1912, four days into her maiden's voyage after she struck an iceberg. Of the 2224 estimated people on board approximately 1500 people died in the accident, making it one of the most lethal peacetime maritimal disasters in history.\n",
    "\n",
    "One of the reasons for such lethality was that there was not enough lifeboats for everyone. There was some element of luck involved in the survival probability, but there is evidence that some groups of people were more fortunate than others.\n",
    "\n",
    "<a id='Problem_description'></a>\n",
    "### 3.2. Problem description\n",
    "\n",
    "Using some data from the RMS Titanic passenger list we have to predict whether or not a given passenger had survived the sinking or not. Kaggle is asking us to build a predictive model answering the following question: “what sorts of people were more likely to survive? using passenger data (ie name, age, gender, socio-economic class, etc)\". \n",
    "\n",
    "<a id='Target_audience'></a>\n",
    "### 3.3. Target audience\n",
    "\n",
    "This notebook will be used to learn some machine learning techniques and how to manage a successful team. The primary audience will be ourselves, but when it is finished it will be published for anyone to read. Any constructive criticism will be welcome.\n",
    "\n",
    "<a id='Success_criteria'></a>\n",
    "### 3.4. Success criteria\n",
    "\n",
    "The main metric employed to decide our model is successful or not is the accuracy of the model (i.e. in how many passengers the outcome was correctly predicted)."
   ]
  },
  {
   "cell_type": "markdown",
   "metadata": {},
   "source": [
    "<a id='Data_understanding'></a>\n",
    "## 4. Data understanding\n",
    "\n",
    "Kaggle gives us two different csv files. One will be used to train our model (called train.csv) whereas the other will be used to test the model (unsurprisingly called test.csv). Test.csv does not contain information about the survival outcome of the passenger and we need to infer it from our model.\n",
    "\n",
    "<a id='Data_structure'></a>\n",
    "### 4.1. Structure of training and test sets\n",
    "\n",
    "Train.csv contains data from 891 different passengers of the titanic with unique ID and full name, stating if they survived or not (column 'survived'), the ticket class ('Pclass'), sex ('Sex'), number of siblings/spouses aboard ('Sibsp'), number of parents/children aboard ('parch'), ticket number ('ticket'), fare ('fare'), cabin number aboard ('cabin') and port of embarcation ('embarked').\n",
    "\n",
    "Some notes from the documentation:\n",
    "\n",
    "age: Age is fractional if less than 1. If the age is estimated, is it in the form of xx.5\n",
    "\n",
    "sibsp: The dataset defines family relations in this way...\n",
    "Sibling = brother, sister, stepbrother, stepsister\n",
    "Spouse = husband, wife (mistresses and fiancés were ignored)\n",
    "\n",
    "parch: The dataset defines family relations in this way...\n",
    "Parent = mother, father\n",
    "Child = daughter, son, stepdaughter, stepson\n",
    "Some children travelled only with a nanny, therefore parch=0 for them.\n",
    "\n",
    "Port of Embarkation C = Cherbourg, Q = Queenstown, S = Southampton\n",
    "\n",
    "<a id='Submission_set'></a>\n",
    "### 4.2. Submission set\n",
    "\n",
    "The submission set shall be composed of only two columns: The passenger id from the test set and a column indicating if that passenger survived or not.\n",
    "\n",
    "<a id='EDA'></a>\n",
    "### 4.3. Exploratory Data Analysis (EDA)\n",
    "\n",
    "First, some libraries will be imported:"
   ]
  },
  {
   "cell_type": "code",
   "execution_count": 1,
   "metadata": {},
   "outputs": [],
   "source": [
    "import pandas as pd #pandas is a data analysis and manipulation tool.\n",
    "import numpy as np #Package for scientific computing with Python.\n",
    "import matplotlib.pyplot as plt #Python data visualization library.\n",
    "import seaborn as sns #Python data visualization library based on matplotlib.\n",
    "import re #regular expressions\n",
    "\n",
    "#Matlplotlib and seaborn options:\n",
    "%matplotlib inline\n",
    "sns.set(style=\"whitegrid\")"
   ]
  },
  {
   "cell_type": "markdown",
   "metadata": {},
   "source": [
    "To study the full set, let's merge both datasets. In the case of the test data, the survival value will be set to NaN. The passenger ID is a unique number, different for every passenger on board. This ID will be set as the index of the dataframe."
   ]
  },
  {
   "cell_type": "code",
   "execution_count": 2,
   "metadata": {},
   "outputs": [
    {
     "name": "stdout",
     "output_type": "stream",
     "text": [
      "Dataset sizes: \n",
      " df_train:  (891, 12) \n",
      " df_test:   (418, 12) \n",
      " df_full:   (1309, 12)\n"
     ]
    },
    {
     "data": {
      "text/html": [
       "<div>\n",
       "<style scoped>\n",
       "    .dataframe tbody tr th:only-of-type {\n",
       "        vertical-align: middle;\n",
       "    }\n",
       "\n",
       "    .dataframe tbody tr th {\n",
       "        vertical-align: top;\n",
       "    }\n",
       "\n",
       "    .dataframe thead th {\n",
       "        text-align: right;\n",
       "    }\n",
       "</style>\n",
       "<table border=\"1\" class=\"dataframe\">\n",
       "  <thead>\n",
       "    <tr style=\"text-align: right;\">\n",
       "      <th></th>\n",
       "      <th>Survived</th>\n",
       "      <th>Pclass</th>\n",
       "      <th>Name</th>\n",
       "      <th>Sex</th>\n",
       "      <th>Age</th>\n",
       "      <th>SibSp</th>\n",
       "      <th>Parch</th>\n",
       "      <th>Ticket</th>\n",
       "      <th>Fare</th>\n",
       "      <th>Cabin</th>\n",
       "      <th>Embarked</th>\n",
       "    </tr>\n",
       "    <tr>\n",
       "      <th>PassengerId</th>\n",
       "      <th></th>\n",
       "      <th></th>\n",
       "      <th></th>\n",
       "      <th></th>\n",
       "      <th></th>\n",
       "      <th></th>\n",
       "      <th></th>\n",
       "      <th></th>\n",
       "      <th></th>\n",
       "      <th></th>\n",
       "      <th></th>\n",
       "    </tr>\n",
       "  </thead>\n",
       "  <tbody>\n",
       "    <tr>\n",
       "      <th>1</th>\n",
       "      <td>0.0</td>\n",
       "      <td>3</td>\n",
       "      <td>Braund, Mr. Owen Harris</td>\n",
       "      <td>male</td>\n",
       "      <td>22.0</td>\n",
       "      <td>1</td>\n",
       "      <td>0</td>\n",
       "      <td>A/5 21171</td>\n",
       "      <td>7.2500</td>\n",
       "      <td>NaN</td>\n",
       "      <td>S</td>\n",
       "    </tr>\n",
       "    <tr>\n",
       "      <th>2</th>\n",
       "      <td>1.0</td>\n",
       "      <td>1</td>\n",
       "      <td>Cumings, Mrs. John Bradley (Florence Briggs Th...</td>\n",
       "      <td>female</td>\n",
       "      <td>38.0</td>\n",
       "      <td>1</td>\n",
       "      <td>0</td>\n",
       "      <td>PC 17599</td>\n",
       "      <td>71.2833</td>\n",
       "      <td>C85</td>\n",
       "      <td>C</td>\n",
       "    </tr>\n",
       "    <tr>\n",
       "      <th>3</th>\n",
       "      <td>1.0</td>\n",
       "      <td>3</td>\n",
       "      <td>Heikkinen, Miss. Laina</td>\n",
       "      <td>female</td>\n",
       "      <td>26.0</td>\n",
       "      <td>0</td>\n",
       "      <td>0</td>\n",
       "      <td>STON/O2. 3101282</td>\n",
       "      <td>7.9250</td>\n",
       "      <td>NaN</td>\n",
       "      <td>S</td>\n",
       "    </tr>\n",
       "    <tr>\n",
       "      <th>4</th>\n",
       "      <td>1.0</td>\n",
       "      <td>1</td>\n",
       "      <td>Futrelle, Mrs. Jacques Heath (Lily May Peel)</td>\n",
       "      <td>female</td>\n",
       "      <td>35.0</td>\n",
       "      <td>1</td>\n",
       "      <td>0</td>\n",
       "      <td>113803</td>\n",
       "      <td>53.1000</td>\n",
       "      <td>C123</td>\n",
       "      <td>S</td>\n",
       "    </tr>\n",
       "    <tr>\n",
       "      <th>5</th>\n",
       "      <td>0.0</td>\n",
       "      <td>3</td>\n",
       "      <td>Allen, Mr. William Henry</td>\n",
       "      <td>male</td>\n",
       "      <td>35.0</td>\n",
       "      <td>0</td>\n",
       "      <td>0</td>\n",
       "      <td>373450</td>\n",
       "      <td>8.0500</td>\n",
       "      <td>NaN</td>\n",
       "      <td>S</td>\n",
       "    </tr>\n",
       "  </tbody>\n",
       "</table>\n",
       "</div>"
      ],
      "text/plain": [
       "             Survived  Pclass  \\\n",
       "PassengerId                     \n",
       "1                 0.0       3   \n",
       "2                 1.0       1   \n",
       "3                 1.0       3   \n",
       "4                 1.0       1   \n",
       "5                 0.0       3   \n",
       "\n",
       "                                                          Name     Sex   Age  \\\n",
       "PassengerId                                                                    \n",
       "1                                      Braund, Mr. Owen Harris    male  22.0   \n",
       "2            Cumings, Mrs. John Bradley (Florence Briggs Th...  female  38.0   \n",
       "3                                       Heikkinen, Miss. Laina  female  26.0   \n",
       "4                 Futrelle, Mrs. Jacques Heath (Lily May Peel)  female  35.0   \n",
       "5                                     Allen, Mr. William Henry    male  35.0   \n",
       "\n",
       "             SibSp  Parch            Ticket     Fare Cabin Embarked  \n",
       "PassengerId                                                          \n",
       "1                1      0         A/5 21171   7.2500   NaN        S  \n",
       "2                1      0          PC 17599  71.2833   C85        C  \n",
       "3                0      0  STON/O2. 3101282   7.9250   NaN        S  \n",
       "4                1      0            113803  53.1000  C123        S  \n",
       "5                0      0            373450   8.0500   NaN        S  "
      ]
     },
     "execution_count": 2,
     "metadata": {},
     "output_type": "execute_result"
    }
   ],
   "source": [
    "df_train=pd.read_csv('data/train.csv')\n",
    "df_test=pd.read_csv('data/test.csv')\n",
    "\n",
    "survive=np.empty((418,1))\n",
    "survive[:]=np.nan\n",
    "df_test.insert(1,'Survived',survive)\n",
    "\n",
    "df_full=df_train.append(df_test,ignore_index=True)\n",
    "print('Dataset sizes:','\\n df_train: ',df_train.shape,'\\n df_test:  ',df_test.shape,'\\n df_full:  ',df_full.shape)\n",
    "\n",
    "df_full.reset_index()\n",
    "df_full.set_index('PassengerId', inplace=True) #Set the passenger id as index in both the test and train sets\n",
    "\n",
    "df_full.head()"
   ]
  },
  {
   "cell_type": "markdown",
   "metadata": {},
   "source": [
    "The data type for each column is shown below."
   ]
  },
  {
   "cell_type": "code",
   "execution_count": 3,
   "metadata": {},
   "outputs": [
    {
     "data": {
      "text/plain": [
       "Survived    float64\n",
       "Pclass        int64\n",
       "Name         object\n",
       "Sex          object\n",
       "Age         float64\n",
       "SibSp         int64\n",
       "Parch         int64\n",
       "Ticket       object\n",
       "Fare        float64\n",
       "Cabin        object\n",
       "Embarked     object\n",
       "dtype: object"
      ]
     },
     "execution_count": 3,
     "metadata": {},
     "output_type": "execute_result"
    }
   ],
   "source": [
    "df_full.dtypes"
   ]
  },
  {
   "cell_type": "markdown",
   "metadata": {},
   "source": [
    "In the dataset there are both numerical variables (survived, pclass...) and categorical variables (sex, embarked). Categorical variables will be transformed to something the models can use using dummy variables. This means that the categorical variables will be transformed into dichotomic categorical variables in form of a number (1 for yes, 0 for no). This will be performed before the modeling section.\n",
    "\n",
    "Since survived is either 1 or 0, it will be transformed into an integer type (int64), as is Pclass. Name is comprised of different strings, as the Sex column, but that one will be transformed. Age is float, since there are some estimation in the ages and those are indicated with a \".5\". SibSp and Parch are people counts, so they are integers. Ticket is another string. Fare is a floating point number with sometimes a lot of decimals. This is due to the fact that the currency used in 1912 in the United Kingdom did not follow base-10 numbers. More information can be found in the [pre-decimal currency Wikipedia article](https://en.wikipedia.org/wiki/%C2%A3sd). Cabin is another string, and, finally, Embarked is a categorical variable with each letter indicating where the passenger boarded the ship.\n",
    "\n",
    "In the next cell, a brief statistical description of both categorical and numerical variables can be seen"
   ]
  },
  {
   "cell_type": "code",
   "execution_count": 4,
   "metadata": {},
   "outputs": [
    {
     "data": {
      "text/html": [
       "<div>\n",
       "<style scoped>\n",
       "    .dataframe tbody tr th:only-of-type {\n",
       "        vertical-align: middle;\n",
       "    }\n",
       "\n",
       "    .dataframe tbody tr th {\n",
       "        vertical-align: top;\n",
       "    }\n",
       "\n",
       "    .dataframe thead th {\n",
       "        text-align: right;\n",
       "    }\n",
       "</style>\n",
       "<table border=\"1\" class=\"dataframe\">\n",
       "  <thead>\n",
       "    <tr style=\"text-align: right;\">\n",
       "      <th></th>\n",
       "      <th>Survived</th>\n",
       "      <th>Pclass</th>\n",
       "      <th>Name</th>\n",
       "      <th>Sex</th>\n",
       "      <th>Age</th>\n",
       "      <th>SibSp</th>\n",
       "      <th>Parch</th>\n",
       "      <th>Ticket</th>\n",
       "      <th>Fare</th>\n",
       "      <th>Cabin</th>\n",
       "      <th>Embarked</th>\n",
       "    </tr>\n",
       "  </thead>\n",
       "  <tbody>\n",
       "    <tr>\n",
       "      <th>count</th>\n",
       "      <td>891.000000</td>\n",
       "      <td>1309.000000</td>\n",
       "      <td>1309</td>\n",
       "      <td>1309</td>\n",
       "      <td>1046.000000</td>\n",
       "      <td>1309.000000</td>\n",
       "      <td>1309.000000</td>\n",
       "      <td>1309</td>\n",
       "      <td>1308.000000</td>\n",
       "      <td>295</td>\n",
       "      <td>1307</td>\n",
       "    </tr>\n",
       "    <tr>\n",
       "      <th>unique</th>\n",
       "      <td>NaN</td>\n",
       "      <td>NaN</td>\n",
       "      <td>1307</td>\n",
       "      <td>2</td>\n",
       "      <td>NaN</td>\n",
       "      <td>NaN</td>\n",
       "      <td>NaN</td>\n",
       "      <td>929</td>\n",
       "      <td>NaN</td>\n",
       "      <td>186</td>\n",
       "      <td>3</td>\n",
       "    </tr>\n",
       "    <tr>\n",
       "      <th>top</th>\n",
       "      <td>NaN</td>\n",
       "      <td>NaN</td>\n",
       "      <td>Kelly, Mr. James</td>\n",
       "      <td>male</td>\n",
       "      <td>NaN</td>\n",
       "      <td>NaN</td>\n",
       "      <td>NaN</td>\n",
       "      <td>CA. 2343</td>\n",
       "      <td>NaN</td>\n",
       "      <td>C23 C25 C27</td>\n",
       "      <td>S</td>\n",
       "    </tr>\n",
       "    <tr>\n",
       "      <th>freq</th>\n",
       "      <td>NaN</td>\n",
       "      <td>NaN</td>\n",
       "      <td>2</td>\n",
       "      <td>843</td>\n",
       "      <td>NaN</td>\n",
       "      <td>NaN</td>\n",
       "      <td>NaN</td>\n",
       "      <td>11</td>\n",
       "      <td>NaN</td>\n",
       "      <td>6</td>\n",
       "      <td>914</td>\n",
       "    </tr>\n",
       "    <tr>\n",
       "      <th>mean</th>\n",
       "      <td>0.383838</td>\n",
       "      <td>2.294882</td>\n",
       "      <td>NaN</td>\n",
       "      <td>NaN</td>\n",
       "      <td>29.881138</td>\n",
       "      <td>0.498854</td>\n",
       "      <td>0.385027</td>\n",
       "      <td>NaN</td>\n",
       "      <td>33.295479</td>\n",
       "      <td>NaN</td>\n",
       "      <td>NaN</td>\n",
       "    </tr>\n",
       "    <tr>\n",
       "      <th>std</th>\n",
       "      <td>0.486592</td>\n",
       "      <td>0.837836</td>\n",
       "      <td>NaN</td>\n",
       "      <td>NaN</td>\n",
       "      <td>14.413493</td>\n",
       "      <td>1.041658</td>\n",
       "      <td>0.865560</td>\n",
       "      <td>NaN</td>\n",
       "      <td>51.758668</td>\n",
       "      <td>NaN</td>\n",
       "      <td>NaN</td>\n",
       "    </tr>\n",
       "    <tr>\n",
       "      <th>min</th>\n",
       "      <td>0.000000</td>\n",
       "      <td>1.000000</td>\n",
       "      <td>NaN</td>\n",
       "      <td>NaN</td>\n",
       "      <td>0.170000</td>\n",
       "      <td>0.000000</td>\n",
       "      <td>0.000000</td>\n",
       "      <td>NaN</td>\n",
       "      <td>0.000000</td>\n",
       "      <td>NaN</td>\n",
       "      <td>NaN</td>\n",
       "    </tr>\n",
       "    <tr>\n",
       "      <th>25%</th>\n",
       "      <td>0.000000</td>\n",
       "      <td>2.000000</td>\n",
       "      <td>NaN</td>\n",
       "      <td>NaN</td>\n",
       "      <td>21.000000</td>\n",
       "      <td>0.000000</td>\n",
       "      <td>0.000000</td>\n",
       "      <td>NaN</td>\n",
       "      <td>7.895800</td>\n",
       "      <td>NaN</td>\n",
       "      <td>NaN</td>\n",
       "    </tr>\n",
       "    <tr>\n",
       "      <th>50%</th>\n",
       "      <td>0.000000</td>\n",
       "      <td>3.000000</td>\n",
       "      <td>NaN</td>\n",
       "      <td>NaN</td>\n",
       "      <td>28.000000</td>\n",
       "      <td>0.000000</td>\n",
       "      <td>0.000000</td>\n",
       "      <td>NaN</td>\n",
       "      <td>14.454200</td>\n",
       "      <td>NaN</td>\n",
       "      <td>NaN</td>\n",
       "    </tr>\n",
       "    <tr>\n",
       "      <th>75%</th>\n",
       "      <td>1.000000</td>\n",
       "      <td>3.000000</td>\n",
       "      <td>NaN</td>\n",
       "      <td>NaN</td>\n",
       "      <td>39.000000</td>\n",
       "      <td>1.000000</td>\n",
       "      <td>0.000000</td>\n",
       "      <td>NaN</td>\n",
       "      <td>31.275000</td>\n",
       "      <td>NaN</td>\n",
       "      <td>NaN</td>\n",
       "    </tr>\n",
       "    <tr>\n",
       "      <th>max</th>\n",
       "      <td>1.000000</td>\n",
       "      <td>3.000000</td>\n",
       "      <td>NaN</td>\n",
       "      <td>NaN</td>\n",
       "      <td>80.000000</td>\n",
       "      <td>8.000000</td>\n",
       "      <td>9.000000</td>\n",
       "      <td>NaN</td>\n",
       "      <td>512.329200</td>\n",
       "      <td>NaN</td>\n",
       "      <td>NaN</td>\n",
       "    </tr>\n",
       "  </tbody>\n",
       "</table>\n",
       "</div>"
      ],
      "text/plain": [
       "          Survived       Pclass              Name   Sex          Age  \\\n",
       "count   891.000000  1309.000000              1309  1309  1046.000000   \n",
       "unique         NaN          NaN              1307     2          NaN   \n",
       "top            NaN          NaN  Kelly, Mr. James  male          NaN   \n",
       "freq           NaN          NaN                 2   843          NaN   \n",
       "mean      0.383838     2.294882               NaN   NaN    29.881138   \n",
       "std       0.486592     0.837836               NaN   NaN    14.413493   \n",
       "min       0.000000     1.000000               NaN   NaN     0.170000   \n",
       "25%       0.000000     2.000000               NaN   NaN    21.000000   \n",
       "50%       0.000000     3.000000               NaN   NaN    28.000000   \n",
       "75%       1.000000     3.000000               NaN   NaN    39.000000   \n",
       "max       1.000000     3.000000               NaN   NaN    80.000000   \n",
       "\n",
       "              SibSp        Parch    Ticket         Fare        Cabin Embarked  \n",
       "count   1309.000000  1309.000000      1309  1308.000000          295     1307  \n",
       "unique          NaN          NaN       929          NaN          186        3  \n",
       "top             NaN          NaN  CA. 2343          NaN  C23 C25 C27        S  \n",
       "freq            NaN          NaN        11          NaN            6      914  \n",
       "mean       0.498854     0.385027       NaN    33.295479          NaN      NaN  \n",
       "std        1.041658     0.865560       NaN    51.758668          NaN      NaN  \n",
       "min        0.000000     0.000000       NaN     0.000000          NaN      NaN  \n",
       "25%        0.000000     0.000000       NaN     7.895800          NaN      NaN  \n",
       "50%        0.000000     0.000000       NaN    14.454200          NaN      NaN  \n",
       "75%        1.000000     0.000000       NaN    31.275000          NaN      NaN  \n",
       "max        8.000000     9.000000       NaN   512.329200          NaN      NaN  "
      ]
     },
     "execution_count": 4,
     "metadata": {},
     "output_type": "execute_result"
    }
   ],
   "source": [
    "df_full.describe(include='all')"
   ]
  },
  {
   "cell_type": "markdown",
   "metadata": {},
   "source": [
    "#### 4.3.1. Survival"
   ]
  },
  {
   "cell_type": "code",
   "execution_count": 5,
   "metadata": {},
   "outputs": [
    {
     "data": {
      "text/plain": [
       "count    891.000000\n",
       "mean       0.383838\n",
       "std        0.486592\n",
       "min        0.000000\n",
       "25%        0.000000\n",
       "50%        0.000000\n",
       "75%        1.000000\n",
       "max        1.000000\n",
       "Name: Survived, dtype: float64"
      ]
     },
     "execution_count": 5,
     "metadata": {},
     "output_type": "execute_result"
    }
   ],
   "source": [
    "df_full['Survived'].describe()"
   ]
  },
  {
   "cell_type": "markdown",
   "metadata": {},
   "source": [
    "The data for the survival outcome of the passengers is only known for the passengers in the training set (891 out of 1309 people). Only the 38% of passengers in the set have survived the sinking. In the following sections we will explore how survival correlates with other variables."
   ]
  },
  {
   "cell_type": "markdown",
   "metadata": {},
   "source": [
    "#### 4.3.2. Name"
   ]
  },
  {
   "cell_type": "code",
   "execution_count": 6,
   "metadata": {},
   "outputs": [
    {
     "data": {
      "text/plain": [
       "count                 1309\n",
       "unique                1307\n",
       "top       Kelly, Mr. James\n",
       "freq                     2\n",
       "Name: Name, dtype: object"
      ]
     },
     "execution_count": 6,
     "metadata": {},
     "output_type": "execute_result"
    }
   ],
   "source": [
    "df_full['Name'].describe()"
   ]
  },
  {
   "cell_type": "markdown",
   "metadata": {},
   "source": [
    "All the passenger names are on the list correctly. There are two passengers with the same name."
   ]
  },
  {
   "cell_type": "code",
   "execution_count": 7,
   "metadata": {},
   "outputs": [
    {
     "data": {
      "text/html": [
       "<div>\n",
       "<style scoped>\n",
       "    .dataframe tbody tr th:only-of-type {\n",
       "        vertical-align: middle;\n",
       "    }\n",
       "\n",
       "    .dataframe tbody tr th {\n",
       "        vertical-align: top;\n",
       "    }\n",
       "\n",
       "    .dataframe thead th {\n",
       "        text-align: right;\n",
       "    }\n",
       "</style>\n",
       "<table border=\"1\" class=\"dataframe\">\n",
       "  <thead>\n",
       "    <tr style=\"text-align: right;\">\n",
       "      <th></th>\n",
       "      <th>Survived</th>\n",
       "      <th>Pclass</th>\n",
       "      <th>Name</th>\n",
       "      <th>Sex</th>\n",
       "      <th>Age</th>\n",
       "      <th>SibSp</th>\n",
       "      <th>Parch</th>\n",
       "      <th>Ticket</th>\n",
       "      <th>Fare</th>\n",
       "      <th>Cabin</th>\n",
       "      <th>Embarked</th>\n",
       "    </tr>\n",
       "    <tr>\n",
       "      <th>PassengerId</th>\n",
       "      <th></th>\n",
       "      <th></th>\n",
       "      <th></th>\n",
       "      <th></th>\n",
       "      <th></th>\n",
       "      <th></th>\n",
       "      <th></th>\n",
       "      <th></th>\n",
       "      <th></th>\n",
       "      <th></th>\n",
       "      <th></th>\n",
       "    </tr>\n",
       "  </thead>\n",
       "  <tbody>\n",
       "    <tr>\n",
       "      <th>697</th>\n",
       "      <td>0.0</td>\n",
       "      <td>3</td>\n",
       "      <td>Kelly, Mr. James</td>\n",
       "      <td>male</td>\n",
       "      <td>44.0</td>\n",
       "      <td>0</td>\n",
       "      <td>0</td>\n",
       "      <td>363592</td>\n",
       "      <td>8.0500</td>\n",
       "      <td>NaN</td>\n",
       "      <td>S</td>\n",
       "    </tr>\n",
       "    <tr>\n",
       "      <th>892</th>\n",
       "      <td>NaN</td>\n",
       "      <td>3</td>\n",
       "      <td>Kelly, Mr. James</td>\n",
       "      <td>male</td>\n",
       "      <td>34.5</td>\n",
       "      <td>0</td>\n",
       "      <td>0</td>\n",
       "      <td>330911</td>\n",
       "      <td>7.8292</td>\n",
       "      <td>NaN</td>\n",
       "      <td>Q</td>\n",
       "    </tr>\n",
       "  </tbody>\n",
       "</table>\n",
       "</div>"
      ],
      "text/plain": [
       "             Survived  Pclass              Name   Sex   Age  SibSp  Parch  \\\n",
       "PassengerId                                                                 \n",
       "697               0.0       3  Kelly, Mr. James  male  44.0      0      0   \n",
       "892               NaN       3  Kelly, Mr. James  male  34.5      0      0   \n",
       "\n",
       "             Ticket    Fare Cabin Embarked  \n",
       "PassengerId                                 \n",
       "697          363592  8.0500   NaN        S  \n",
       "892          330911  7.8292   NaN        Q  "
      ]
     },
     "execution_count": 7,
     "metadata": {},
     "output_type": "execute_result"
    }
   ],
   "source": [
    "df_full[df_full['Name']=='Kelly, Mr. James']"
   ]
  },
  {
   "cell_type": "markdown",
   "metadata": {},
   "source": [
    "One interesting thing we can use from this field is the title of the passenger. The title can indicate social position and sex of the bearer."
   ]
  },
  {
   "cell_type": "markdown",
   "metadata": {},
   "source": [
    "#### 4.3.3. Sex"
   ]
  },
  {
   "cell_type": "code",
   "execution_count": 8,
   "metadata": {},
   "outputs": [
    {
     "data": {
      "text/plain": [
       "count     1309\n",
       "unique       2\n",
       "top       male\n",
       "freq       843\n",
       "Name: Sex, dtype: object"
      ]
     },
     "execution_count": 8,
     "metadata": {},
     "output_type": "execute_result"
    }
   ],
   "source": [
    "df_full['Sex'].describe()"
   ]
  },
  {
   "cell_type": "code",
   "execution_count": 9,
   "metadata": {},
   "outputs": [
    {
     "name": "stdout",
     "output_type": "stream",
     "text": [
      "Number of females: 466\n",
      "Number of males: 843\n"
     ]
    }
   ],
   "source": [
    "print(\"Number of females:\", df_full.loc[df_full.Sex=='female'].shape[0])\n",
    "print(\"Number of males:\", df_full.loc[df_full.Sex=='male'].shape[0])"
   ]
  },
  {
   "cell_type": "markdown",
   "metadata": {},
   "source": [
    "There are no missing values, with 466 females and 843 males in our dataset."
   ]
  },
  {
   "cell_type": "markdown",
   "metadata": {},
   "source": [
    "In the kaggle tutorial it is explained that gender played a key role in regards of survival probability, even creating a model that only looked at the sex of the passenger and then assigning the label survived=1 to females only, obtaining an impressive punctuation in the leaderboard. Let us explore how sex correlates with survival probability."
   ]
  },
  {
   "cell_type": "code",
   "execution_count": 10,
   "metadata": {},
   "outputs": [
    {
     "name": "stdout",
     "output_type": "stream",
     "text": [
      "Percentage of women who survived: 74.2 %\n",
      "Percentage of men who survived: 18.89 %\n"
     ]
    },
    {
     "data": {
      "image/png": "[encoded data removed]",
      "text/plain": [
       "<Figure size 432x288 with 1 Axes>"
      ]
     },
     "metadata": {},
     "output_type": "display_data"
    }
   ],
   "source": [
    "rate_women=100 * df_train.loc[df_train.Sex == 'female'][\"Survived\"].sum()/df_train.loc[df_train.Sex=='female'].shape[0]\n",
    "rate_men=100 * df_train.loc[df_train.Sex == 'male'][\"Survived\"].sum()/df_train.loc[df_train.Sex=='male'].shape[0]\n",
    "\n",
    "print(\"Percentage of women who survived:\", round(rate_women,2),'%')\n",
    "print(\"Percentage of men who survived:\", round(rate_men,2),'%')\n",
    "\n",
    "fig1=sns.barplot(x=\"Sex\", y=\"Survived\", data=df_full)"
   ]
  },
  {
   "cell_type": "markdown",
   "metadata": {},
   "source": [
    "Only 18.89 % of men survived, compared with the 74.2 % of women. Is it true the \"Women and children first\" saying? Apparently, in 1912 it was _en vogue_."
   ]
  },
  {
   "cell_type": "markdown",
   "metadata": {},
   "source": [
    "#### 4.3.4. Passenger class"
   ]
  },
  {
   "cell_type": "code",
   "execution_count": 11,
   "metadata": {},
   "outputs": [
    {
     "data": {
      "text/plain": [
       "count    1309.000000\n",
       "mean        2.294882\n",
       "std         0.837836\n",
       "min         1.000000\n",
       "25%         2.000000\n",
       "50%         3.000000\n",
       "75%         3.000000\n",
       "max         3.000000\n",
       "Name: Pclass, dtype: float64"
      ]
     },
     "execution_count": 11,
     "metadata": {},
     "output_type": "execute_result"
    }
   ],
   "source": [
    "df_full['Pclass'].describe()"
   ]
  },
  {
   "cell_type": "markdown",
   "metadata": {},
   "source": [
    "There are no missing values in the passenger class feature. Let us see if there is some correlation between the passenger class and the survival rate."
   ]
  },
  {
   "cell_type": "code",
   "execution_count": 12,
   "metadata": {},
   "outputs": [
    {
     "data": {
      "image/png": "[encoded data removed]",
      "text/plain": [
       "<Figure size 432x288 with 1 Axes>"
      ]
     },
     "metadata": {},
     "output_type": "display_data"
    }
   ],
   "source": [
    "fig1=sns.barplot(x=\"Pclass\", y=\"Survived\", data=df_full)"
   ]
  },
  {
   "cell_type": "markdown",
   "metadata": {},
   "source": [
    "People in first class have more survival rate than the other two ticket classes. It is possible that the social class can be used as a feature of our survival prediction model. How is distributed by sex and class?"
   ]
  },
  {
   "cell_type": "code",
   "execution_count": 13,
   "metadata": {},
   "outputs": [
    {
     "data": {
      "image/png": "[encoded data removed]",
      "text/plain": [
       "<Figure size 432x288 with 1 Axes>"
      ]
     },
     "metadata": {},
     "output_type": "display_data"
    }
   ],
   "source": [
    "fig2=sns.barplot(x=\"Sex\", y=\"Survived\", hue=\"Pclass\", data=df_full)"
   ]
  },
  {
   "cell_type": "markdown",
   "metadata": {},
   "source": [
    "#### 4.3.5 Age"
   ]
  },
  {
   "cell_type": "code",
   "execution_count": 14,
   "metadata": {},
   "outputs": [
    {
     "data": {
      "text/plain": [
       "count    1046.000000\n",
       "mean       29.881138\n",
       "std        14.413493\n",
       "min         0.170000\n",
       "25%        21.000000\n",
       "50%        28.000000\n",
       "75%        39.000000\n",
       "max        80.000000\n",
       "Name: Age, dtype: float64"
      ]
     },
     "execution_count": 14,
     "metadata": {},
     "output_type": "execute_result"
    }
   ],
   "source": [
    "df_full['Age'].describe()"
   ]
  },
  {
   "cell_type": "markdown",
   "metadata": {},
   "source": [
    "Ther are 1046 values of 1309 possible values. This indicates that some age values are missing. Value imputation will be done in the next section (Data preparation). The average age is less than 30 years old (29.9 years), with a standard deviation of 14.4 years. The youngest recorded passenger was a little older than 2 months (0.17 years) old, whereas the oldest passenger was 80 years old. More than 75% of the passengers were less than 40 years old. "
   ]
  },
  {
   "cell_type": "code",
   "execution_count": 15,
   "metadata": {},
   "outputs": [
    {
     "data": {
      "image/png": "[encoded data removed]",
      "text/plain": [
       "<Figure size 432x288 with 1 Axes>"
      ]
     },
     "metadata": {},
     "output_type": "display_data"
    }
   ],
   "source": [
    "fig3, ax3 = plt.subplots()\n",
    "sns.distplot(df_full['Age'], bins=range(0, 81, 10), ax=ax3, kde=False, label='Age')\n",
    "ax3.set_xlim([0, 80])\n",
    "plt.legend()\n",
    "plt.show()"
   ]
  },
  {
   "cell_type": "markdown",
   "metadata": {},
   "source": [
    "We can see from the age histogram that the distribution is right-skewed. A little bit more of 200 passengers are less than 20 years old, and the age mode is between 20 and 30 years old, as the mean (29.9, as we said before)."
   ]
  },
  {
   "cell_type": "markdown",
   "metadata": {},
   "source": [
    "How are age and survival outcome correlated?"
   ]
  },
  {
   "cell_type": "code",
   "execution_count": 16,
   "metadata": {},
   "outputs": [
    {
     "data": {
      "image/png": "[encoded data removed]",
      "text/plain": [
       "<Figure size 432x288 with 1 Axes>"
      ]
     },
     "metadata": {},
     "output_type": "display_data"
    }
   ],
   "source": [
    "fig4, ax4 = plt.subplots()\n",
    "labels=['Survived','Not survived']\n",
    "for a,lab in zip([df_full[df_full['Survived']==1]['Age'], df_full[df_full['Survived']==0]['Age']],labels):\n",
    "    sns.distplot(a, bins=range(0, 81, 10), ax=ax4, kde=False, label=lab)\n",
    "ax4.set_xlim([0, 80])\n",
    "plt.legend()\n",
    "plt.show()"
   ]
  },
  {
   "cell_type": "markdown",
   "metadata": {},
   "source": [
    "This histogram shows us how the survival probability correlates with age. We can see that is more probable to survive for people from 0 to 10 years old. In the other groups of age it is more probable to not survive than leaving the sinking boat alive. This is specially significant in the 20-40 year brackets."
   ]
  },
  {
   "cell_type": "code",
   "execution_count": 17,
   "metadata": {},
   "outputs": [
    {
     "data": {
      "text/plain": [
       "Text(0.5, 1.0, 'Male')"
      ]
     },
     "execution_count": 17,
     "metadata": {},
     "output_type": "execute_result"
    },
    {
     "data": {
      "image/png": "[encoded data removed]",
      "text/plain": [
       "<Figure size 720x288 with 2 Axes>"
      ]
     },
     "metadata": {},
     "output_type": "display_data"
    }
   ],
   "source": [
    "fig5, ax5= plt.subplots(nrows=1, ncols=2,figsize=(10, 4))\n",
    "women = df_full[df_full['Sex']=='female']\n",
    "men = df_full[df_full['Sex']=='male']\n",
    "ax = sns.distplot(women[women['Survived']==1].Age.dropna(), bins=range(0, int(np.ceil(df_full['Age'].max())), 2), label = 'Survived', ax = ax5[0], kde =False)\n",
    "ax = sns.distplot(women[women['Survived']==0].Age.dropna(), bins=range(0, int(np.ceil(df_full['Age'].max())), 2), label = 'Not Survived', ax = ax5[0], kde =False)\n",
    "ax.legend()\n",
    "ax.set_title('Female')\n",
    "ax = sns.distplot(men[men['Survived']==1].Age.dropna(), bins=range(0, int(np.ceil(df_full['Age'].max())), 2), label = 'Survived', ax = ax5[1], kde = False)\n",
    "ax = sns.distplot(men[men['Survived']==0].Age.dropna(), bins=range(0, int(np.ceil(df_full['Age'].max())), 2), label = 'Not Survived', ax = ax5[1], kde = False)\n",
    "ax.legend()\n",
    "ax.set_title('Male')"
   ]
  },
  {
   "cell_type": "markdown",
   "metadata": {},
   "source": [
    "For both sexes, the bulk of people surviving (and dying) concentrates in the ages between 20 and 40 years old. We have discussed before that most of the Titanic population was less than 40 years old. This can be seen clearly in the graphs above.\n",
    "\n",
    "Young males tend to survive more than their adult counterparts. Both survival distributions are right skewed. It is possible that age plays a significant role in survival probability. It can be seen that survival probabilities for elderly people are not very good, even though there are some elderly males surviving in the 60-80 age bracket."
   ]
  },
  {
   "cell_type": "markdown",
   "metadata": {},
   "source": [
    "#### 4.3.6. Ticket Fare"
   ]
  },
  {
   "cell_type": "code",
   "execution_count": 18,
   "metadata": {},
   "outputs": [
    {
     "data": {
      "text/plain": [
       "count    1308.000000\n",
       "mean       33.295479\n",
       "std        51.758668\n",
       "min         0.000000\n",
       "25%         7.895800\n",
       "50%        14.454200\n",
       "75%        31.275000\n",
       "max       512.329200\n",
       "Name: Fare, dtype: float64"
      ]
     },
     "execution_count": 18,
     "metadata": {},
     "output_type": "execute_result"
    }
   ],
   "source": [
    "df_full['Fare'].describe()"
   ]
  },
  {
   "cell_type": "markdown",
   "metadata": {},
   "source": [
    "There is only one value missing for the fare in the dataset. Our main hypothesis in this notebook is that social class is an indicator of survival in the Titanic passenger list. That is, if you are rich, you are more likely to survive, as we have seen in the passenger class section. Ticket fare is directly correlated with this, as first class tickets are more expensive than third class tickets."
   ]
  },
  {
   "cell_type": "code",
   "execution_count": 19,
   "metadata": {},
   "outputs": [
    {
     "data": {
      "image/png": "[encoded data removed]",
      "text/plain": [
       "<Figure size 432x288 with 1 Axes>"
      ]
     },
     "metadata": {},
     "output_type": "display_data"
    }
   ],
   "source": [
    "fig6, ax6 = plt.subplots()\n",
    "labels = ['First class','Second class','Third class']\n",
    "pclass = [1,2,3]\n",
    "\n",
    "for pcls,lab in zip(pclass,labels):\n",
    "    sns.distplot(df_full[df_full['Pclass']==pcls].Fare, bins=range(0, int(np.ceil(df_full['Fare'].max())), 10), ax=ax6, kde=False, label=lab)\n",
    "\n",
    "ax6.set_xlim([0, np.ceil(df_full['Fare'].max())])\n",
    "plt.legend()\n",
    "plt.show()"
   ]
  },
  {
   "cell_type": "markdown",
   "metadata": {},
   "source": [
    "The results in this histogram are a bit puzzling. There are people in fist class with a fare equal to 0, people in third class paying more than people in second class, and people in second class paying more than some first class tickets! The reason is that these are not prices per person. Groups of people bought tickets in bulk, and that is why some third class tickets are more expensive than second class tickets. A new feature will be engineering taking into account the ticket ocurrences to calculate the average ticket price per person belonging to that ticket.\n",
    "\n",
    "The pricing of the Titanic tickets is a complicated matter. It seems that the ticket also includes the rail ticket to arrive to port, and prices for children under 12 and babies are reduced. Since we do not know the individual information, the engineered variable will show the average ticket fare per person on the group. All this will be done in the Data Engineering section."
   ]
  },
  {
   "cell_type": "markdown",
   "metadata": {},
   "source": [
    "Regarding the zero value tickets, a search of the names in [Encyclopedia Titanica](https://www.encyclopedia-titanica.org/) indicates that the people that did not pay anything for their ticket are employees from the White Star Line company, the shipyard or affiliated companies. Even though at first sight it seems like a data input error, we can see that this is not the case."
   ]
  },
  {
   "cell_type": "code",
   "execution_count": 20,
   "metadata": {},
   "outputs": [
    {
     "data": {
      "text/html": [
       "<div>\n",
       "<style scoped>\n",
       "    .dataframe tbody tr th:only-of-type {\n",
       "        vertical-align: middle;\n",
       "    }\n",
       "\n",
       "    .dataframe tbody tr th {\n",
       "        vertical-align: top;\n",
       "    }\n",
       "\n",
       "    .dataframe thead th {\n",
       "        text-align: right;\n",
       "    }\n",
       "</style>\n",
       "<table border=\"1\" class=\"dataframe\">\n",
       "  <thead>\n",
       "    <tr style=\"text-align: right;\">\n",
       "      <th></th>\n",
       "      <th>Survived</th>\n",
       "      <th>Pclass</th>\n",
       "      <th>Name</th>\n",
       "      <th>Sex</th>\n",
       "      <th>Age</th>\n",
       "      <th>SibSp</th>\n",
       "      <th>Parch</th>\n",
       "      <th>Ticket</th>\n",
       "      <th>Fare</th>\n",
       "      <th>Cabin</th>\n",
       "      <th>Embarked</th>\n",
       "    </tr>\n",
       "    <tr>\n",
       "      <th>PassengerId</th>\n",
       "      <th></th>\n",
       "      <th></th>\n",
       "      <th></th>\n",
       "      <th></th>\n",
       "      <th></th>\n",
       "      <th></th>\n",
       "      <th></th>\n",
       "      <th></th>\n",
       "      <th></th>\n",
       "      <th></th>\n",
       "      <th></th>\n",
       "    </tr>\n",
       "  </thead>\n",
       "  <tbody>\n",
       "    <tr>\n",
       "      <th>180</th>\n",
       "      <td>0.0</td>\n",
       "      <td>3</td>\n",
       "      <td>Leonard, Mr. Lionel</td>\n",
       "      <td>male</td>\n",
       "      <td>36.0</td>\n",
       "      <td>0</td>\n",
       "      <td>0</td>\n",
       "      <td>LINE</td>\n",
       "      <td>0.0</td>\n",
       "      <td>NaN</td>\n",
       "      <td>S</td>\n",
       "    </tr>\n",
       "    <tr>\n",
       "      <th>264</th>\n",
       "      <td>0.0</td>\n",
       "      <td>1</td>\n",
       "      <td>Harrison, Mr. William</td>\n",
       "      <td>male</td>\n",
       "      <td>40.0</td>\n",
       "      <td>0</td>\n",
       "      <td>0</td>\n",
       "      <td>112059</td>\n",
       "      <td>0.0</td>\n",
       "      <td>B94</td>\n",
       "      <td>S</td>\n",
       "    </tr>\n",
       "    <tr>\n",
       "      <th>272</th>\n",
       "      <td>1.0</td>\n",
       "      <td>3</td>\n",
       "      <td>Tornquist, Mr. William Henry</td>\n",
       "      <td>male</td>\n",
       "      <td>25.0</td>\n",
       "      <td>0</td>\n",
       "      <td>0</td>\n",
       "      <td>LINE</td>\n",
       "      <td>0.0</td>\n",
       "      <td>NaN</td>\n",
       "      <td>S</td>\n",
       "    </tr>\n",
       "    <tr>\n",
       "      <th>278</th>\n",
       "      <td>0.0</td>\n",
       "      <td>2</td>\n",
       "      <td>Parkes, Mr. Francis \"Frank\"</td>\n",
       "      <td>male</td>\n",
       "      <td>NaN</td>\n",
       "      <td>0</td>\n",
       "      <td>0</td>\n",
       "      <td>239853</td>\n",
       "      <td>0.0</td>\n",
       "      <td>NaN</td>\n",
       "      <td>S</td>\n",
       "    </tr>\n",
       "    <tr>\n",
       "      <th>303</th>\n",
       "      <td>0.0</td>\n",
       "      <td>3</td>\n",
       "      <td>Johnson, Mr. William Cahoone Jr</td>\n",
       "      <td>male</td>\n",
       "      <td>19.0</td>\n",
       "      <td>0</td>\n",
       "      <td>0</td>\n",
       "      <td>LINE</td>\n",
       "      <td>0.0</td>\n",
       "      <td>NaN</td>\n",
       "      <td>S</td>\n",
       "    </tr>\n",
       "    <tr>\n",
       "      <th>414</th>\n",
       "      <td>0.0</td>\n",
       "      <td>2</td>\n",
       "      <td>Cunningham, Mr. Alfred Fleming</td>\n",
       "      <td>male</td>\n",
       "      <td>NaN</td>\n",
       "      <td>0</td>\n",
       "      <td>0</td>\n",
       "      <td>239853</td>\n",
       "      <td>0.0</td>\n",
       "      <td>NaN</td>\n",
       "      <td>S</td>\n",
       "    </tr>\n",
       "    <tr>\n",
       "      <th>467</th>\n",
       "      <td>0.0</td>\n",
       "      <td>2</td>\n",
       "      <td>Campbell, Mr. William</td>\n",
       "      <td>male</td>\n",
       "      <td>NaN</td>\n",
       "      <td>0</td>\n",
       "      <td>0</td>\n",
       "      <td>239853</td>\n",
       "      <td>0.0</td>\n",
       "      <td>NaN</td>\n",
       "      <td>S</td>\n",
       "    </tr>\n",
       "    <tr>\n",
       "      <th>482</th>\n",
       "      <td>0.0</td>\n",
       "      <td>2</td>\n",
       "      <td>Frost, Mr. Anthony Wood \"Archie\"</td>\n",
       "      <td>male</td>\n",
       "      <td>NaN</td>\n",
       "      <td>0</td>\n",
       "      <td>0</td>\n",
       "      <td>239854</td>\n",
       "      <td>0.0</td>\n",
       "      <td>NaN</td>\n",
       "      <td>S</td>\n",
       "    </tr>\n",
       "    <tr>\n",
       "      <th>598</th>\n",
       "      <td>0.0</td>\n",
       "      <td>3</td>\n",
       "      <td>Johnson, Mr. Alfred</td>\n",
       "      <td>male</td>\n",
       "      <td>49.0</td>\n",
       "      <td>0</td>\n",
       "      <td>0</td>\n",
       "      <td>LINE</td>\n",
       "      <td>0.0</td>\n",
       "      <td>NaN</td>\n",
       "      <td>S</td>\n",
       "    </tr>\n",
       "    <tr>\n",
       "      <th>634</th>\n",
       "      <td>0.0</td>\n",
       "      <td>1</td>\n",
       "      <td>Parr, Mr. William Henry Marsh</td>\n",
       "      <td>male</td>\n",
       "      <td>NaN</td>\n",
       "      <td>0</td>\n",
       "      <td>0</td>\n",
       "      <td>112052</td>\n",
       "      <td>0.0</td>\n",
       "      <td>NaN</td>\n",
       "      <td>S</td>\n",
       "    </tr>\n",
       "    <tr>\n",
       "      <th>675</th>\n",
       "      <td>0.0</td>\n",
       "      <td>2</td>\n",
       "      <td>Watson, Mr. Ennis Hastings</td>\n",
       "      <td>male</td>\n",
       "      <td>NaN</td>\n",
       "      <td>0</td>\n",
       "      <td>0</td>\n",
       "      <td>239856</td>\n",
       "      <td>0.0</td>\n",
       "      <td>NaN</td>\n",
       "      <td>S</td>\n",
       "    </tr>\n",
       "    <tr>\n",
       "      <th>733</th>\n",
       "      <td>0.0</td>\n",
       "      <td>2</td>\n",
       "      <td>Knight, Mr. Robert J</td>\n",
       "      <td>male</td>\n",
       "      <td>NaN</td>\n",
       "      <td>0</td>\n",
       "      <td>0</td>\n",
       "      <td>239855</td>\n",
       "      <td>0.0</td>\n",
       "      <td>NaN</td>\n",
       "      <td>S</td>\n",
       "    </tr>\n",
       "    <tr>\n",
       "      <th>807</th>\n",
       "      <td>0.0</td>\n",
       "      <td>1</td>\n",
       "      <td>Andrews, Mr. Thomas Jr</td>\n",
       "      <td>male</td>\n",
       "      <td>39.0</td>\n",
       "      <td>0</td>\n",
       "      <td>0</td>\n",
       "      <td>112050</td>\n",
       "      <td>0.0</td>\n",
       "      <td>A36</td>\n",
       "      <td>S</td>\n",
       "    </tr>\n",
       "    <tr>\n",
       "      <th>816</th>\n",
       "      <td>0.0</td>\n",
       "      <td>1</td>\n",
       "      <td>Fry, Mr. Richard</td>\n",
       "      <td>male</td>\n",
       "      <td>NaN</td>\n",
       "      <td>0</td>\n",
       "      <td>0</td>\n",
       "      <td>112058</td>\n",
       "      <td>0.0</td>\n",
       "      <td>B102</td>\n",
       "      <td>S</td>\n",
       "    </tr>\n",
       "    <tr>\n",
       "      <th>823</th>\n",
       "      <td>0.0</td>\n",
       "      <td>1</td>\n",
       "      <td>Reuchlin, Jonkheer. John George</td>\n",
       "      <td>male</td>\n",
       "      <td>38.0</td>\n",
       "      <td>0</td>\n",
       "      <td>0</td>\n",
       "      <td>19972</td>\n",
       "      <td>0.0</td>\n",
       "      <td>NaN</td>\n",
       "      <td>S</td>\n",
       "    </tr>\n",
       "    <tr>\n",
       "      <th>1158</th>\n",
       "      <td>NaN</td>\n",
       "      <td>1</td>\n",
       "      <td>Chisholm, Mr. Roderick Robert Crispin</td>\n",
       "      <td>male</td>\n",
       "      <td>NaN</td>\n",
       "      <td>0</td>\n",
       "      <td>0</td>\n",
       "      <td>112051</td>\n",
       "      <td>0.0</td>\n",
       "      <td>NaN</td>\n",
       "      <td>S</td>\n",
       "    </tr>\n",
       "    <tr>\n",
       "      <th>1264</th>\n",
       "      <td>NaN</td>\n",
       "      <td>1</td>\n",
       "      <td>Ismay, Mr. Joseph Bruce</td>\n",
       "      <td>male</td>\n",
       "      <td>49.0</td>\n",
       "      <td>0</td>\n",
       "      <td>0</td>\n",
       "      <td>112058</td>\n",
       "      <td>0.0</td>\n",
       "      <td>B52 B54 B56</td>\n",
       "      <td>S</td>\n",
       "    </tr>\n",
       "  </tbody>\n",
       "</table>\n",
       "</div>"
      ],
      "text/plain": [
       "             Survived  Pclass                                   Name   Sex  \\\n",
       "PassengerId                                                                  \n",
       "180               0.0       3                    Leonard, Mr. Lionel  male   \n",
       "264               0.0       1                  Harrison, Mr. William  male   \n",
       "272               1.0       3           Tornquist, Mr. William Henry  male   \n",
       "278               0.0       2            Parkes, Mr. Francis \"Frank\"  male   \n",
       "303               0.0       3        Johnson, Mr. William Cahoone Jr  male   \n",
       "414               0.0       2         Cunningham, Mr. Alfred Fleming  male   \n",
       "467               0.0       2                  Campbell, Mr. William  male   \n",
       "482               0.0       2       Frost, Mr. Anthony Wood \"Archie\"  male   \n",
       "598               0.0       3                    Johnson, Mr. Alfred  male   \n",
       "634               0.0       1          Parr, Mr. William Henry Marsh  male   \n",
       "675               0.0       2             Watson, Mr. Ennis Hastings  male   \n",
       "733               0.0       2                   Knight, Mr. Robert J  male   \n",
       "807               0.0       1                 Andrews, Mr. Thomas Jr  male   \n",
       "816               0.0       1                       Fry, Mr. Richard  male   \n",
       "823               0.0       1        Reuchlin, Jonkheer. John George  male   \n",
       "1158              NaN       1  Chisholm, Mr. Roderick Robert Crispin  male   \n",
       "1264              NaN       1                Ismay, Mr. Joseph Bruce  male   \n",
       "\n",
       "              Age  SibSp  Parch  Ticket  Fare        Cabin Embarked  \n",
       "PassengerId                                                          \n",
       "180          36.0      0      0    LINE   0.0          NaN        S  \n",
       "264          40.0      0      0  112059   0.0          B94        S  \n",
       "272          25.0      0      0    LINE   0.0          NaN        S  \n",
       "278           NaN      0      0  239853   0.0          NaN        S  \n",
       "303          19.0      0      0    LINE   0.0          NaN        S  \n",
       "414           NaN      0      0  239853   0.0          NaN        S  \n",
       "467           NaN      0      0  239853   0.0          NaN        S  \n",
       "482           NaN      0      0  239854   0.0          NaN        S  \n",
       "598          49.0      0      0    LINE   0.0          NaN        S  \n",
       "634           NaN      0      0  112052   0.0          NaN        S  \n",
       "675           NaN      0      0  239856   0.0          NaN        S  \n",
       "733           NaN      0      0  239855   0.0          NaN        S  \n",
       "807          39.0      0      0  112050   0.0          A36        S  \n",
       "816           NaN      0      0  112058   0.0         B102        S  \n",
       "823          38.0      0      0   19972   0.0          NaN        S  \n",
       "1158          NaN      0      0  112051   0.0          NaN        S  \n",
       "1264         49.0      0      0  112058   0.0  B52 B54 B56        S  "
      ]
     },
     "execution_count": 20,
     "metadata": {},
     "output_type": "execute_result"
    }
   ],
   "source": [
    "df_full[df_full['Fare']==0]"
   ]
  },
  {
   "cell_type": "markdown",
   "metadata": {},
   "source": [
    "In the following graph we can see the survival probability as a function of ticket fare."
   ]
  },
  {
   "cell_type": "code",
   "execution_count": 21,
   "metadata": {},
   "outputs": [
    {
     "data": {
      "image/png": "[encoded data removed]",
      "text/plain": [
       "<Figure size 432x288 with 1 Axes>"
      ]
     },
     "metadata": {},
     "output_type": "display_data"
    }
   ],
   "source": [
    "fig7=sns.barplot(x=\"Survived\", y=\"Fare\", hue=\"Pclass\", data=df_full)"
   ]
  },
  {
   "cell_type": "code",
   "execution_count": 22,
   "metadata": {},
   "outputs": [
    {
     "data": {
      "image/png": "[encoded data removed]",
      "text/plain": [
       "<Figure size 432x288 with 1 Axes>"
      ]
     },
     "metadata": {},
     "output_type": "display_data"
    }
   ],
   "source": [
    "fig8, ax8 = plt.subplots()\n",
    "labels=['Survived','Not survived']\n",
    "for a,lab in zip([df_full[df_full['Survived']==1]['Fare'], df_full[df_full['Survived']==0]['Fare']],labels):\n",
    "    sns.distplot(a, bins=range(0, int(np.ceil(df_full['Fare'].max())), 10), ax=ax8, kde=False, label=lab)\n",
    "ax8.set_xlim([0, int(np.ceil(df_full['Fare'].max()))])\n",
    "plt.legend()\n",
    "plt.show()"
   ]
  },
  {
   "cell_type": "markdown",
   "metadata": {},
   "source": [
    "It is possible that fare is correlated with survival probability. Alas, fare is also highly correlated with passenger class. So if the passenger class is correlated with survival probability, fare will also be. We need to study the individual fares of the passengers to come to a conclussion."
   ]
  },
  {
   "cell_type": "markdown",
   "metadata": {},
   "source": [
    "#### 4.3.7. Family Size"
   ]
  },
  {
   "cell_type": "code",
   "execution_count": 23,
   "metadata": {},
   "outputs": [
    {
     "data": {
      "text/html": [
       "<div>\n",
       "<style scoped>\n",
       "    .dataframe tbody tr th:only-of-type {\n",
       "        vertical-align: middle;\n",
       "    }\n",
       "\n",
       "    .dataframe tbody tr th {\n",
       "        vertical-align: top;\n",
       "    }\n",
       "\n",
       "    .dataframe thead th {\n",
       "        text-align: right;\n",
       "    }\n",
       "</style>\n",
       "<table border=\"1\" class=\"dataframe\">\n",
       "  <thead>\n",
       "    <tr style=\"text-align: right;\">\n",
       "      <th></th>\n",
       "      <th>Parch</th>\n",
       "      <th>SibSp</th>\n",
       "    </tr>\n",
       "  </thead>\n",
       "  <tbody>\n",
       "    <tr>\n",
       "      <th>count</th>\n",
       "      <td>1309.000000</td>\n",
       "      <td>1309.000000</td>\n",
       "    </tr>\n",
       "    <tr>\n",
       "      <th>mean</th>\n",
       "      <td>0.385027</td>\n",
       "      <td>0.498854</td>\n",
       "    </tr>\n",
       "    <tr>\n",
       "      <th>std</th>\n",
       "      <td>0.865560</td>\n",
       "      <td>1.041658</td>\n",
       "    </tr>\n",
       "    <tr>\n",
       "      <th>min</th>\n",
       "      <td>0.000000</td>\n",
       "      <td>0.000000</td>\n",
       "    </tr>\n",
       "    <tr>\n",
       "      <th>25%</th>\n",
       "      <td>0.000000</td>\n",
       "      <td>0.000000</td>\n",
       "    </tr>\n",
       "    <tr>\n",
       "      <th>50%</th>\n",
       "      <td>0.000000</td>\n",
       "      <td>0.000000</td>\n",
       "    </tr>\n",
       "    <tr>\n",
       "      <th>75%</th>\n",
       "      <td>0.000000</td>\n",
       "      <td>1.000000</td>\n",
       "    </tr>\n",
       "    <tr>\n",
       "      <th>max</th>\n",
       "      <td>9.000000</td>\n",
       "      <td>8.000000</td>\n",
       "    </tr>\n",
       "  </tbody>\n",
       "</table>\n",
       "</div>"
      ],
      "text/plain": [
       "             Parch        SibSp\n",
       "count  1309.000000  1309.000000\n",
       "mean      0.385027     0.498854\n",
       "std       0.865560     1.041658\n",
       "min       0.000000     0.000000\n",
       "25%       0.000000     0.000000\n",
       "50%       0.000000     0.000000\n",
       "75%       0.000000     1.000000\n",
       "max       9.000000     8.000000"
      ]
     },
     "execution_count": 23,
     "metadata": {},
     "output_type": "execute_result"
    }
   ],
   "source": [
    "df_full[['Parch','SibSp']].describe()"
   ]
  },
  {
   "cell_type": "markdown",
   "metadata": {},
   "source": [
    "All the entries in the dataset have that information available. It is imortant to remember that 'SibSp' refers to the number of siblings or spouses aboard, whereas 'Parch' designates the number of parents or childrens in the ship."
   ]
  },
  {
   "cell_type": "markdown",
   "metadata": {},
   "source": [
    "We can also study how the survival probability correlates with having family members aboard the titanic. The survival distribution as a function of the variables Sibsp and Parch is as follows"
   ]
  },
  {
   "cell_type": "code",
   "execution_count": 24,
   "metadata": {},
   "outputs": [
    {
     "data": {
      "image/png": "[encoded data removed]",
      "text/plain": [
       "<Figure size 432x288 with 1 Axes>"
      ]
     },
     "metadata": {},
     "output_type": "display_data"
    }
   ],
   "source": [
    "fig9, ax9 = plt.subplots()\n",
    "\n",
    "labels = ['Survived','Not survived']\n",
    "\n",
    "for a,lab in zip([df_full[df_full['Survived']==1]['SibSp'], df_full[df_full['Survived']==0]['SibSp']],labels):\n",
    "    sns.distplot(a, bins=np.arange(-0.5, int(np.ceil(df_full['SibSp'].max()))+0.5, 1), ax=ax9, kde=False, label=lab)\n",
    "\n",
    "ax9.set_xlim([-0.5, 8.5])\n",
    "plt.legend()\n",
    "plt.show()"
   ]
  },
  {
   "cell_type": "code",
   "execution_count": 25,
   "metadata": {},
   "outputs": [
    {
     "data": {
      "image/png": "[encoded data removed]",
      "text/plain": [
       "<Figure size 432x288 with 1 Axes>"
      ]
     },
     "metadata": {},
     "output_type": "display_data"
    }
   ],
   "source": [
    "fig10, ax10 = plt.subplots()\n",
    "\n",
    "labels = ['Survived','Not survived']\n",
    "\n",
    "for a,lab in zip([df_full[df_full['Survived']==1]['Parch'], df_full[df_full['Survived']==0]['Parch']],labels):\n",
    "    sns.distplot(a, bins=np.arange(-0.5, int(np.ceil(df_full['Parch'].max()))+0.5, 1), ax=ax10, kde=False, label=lab)\n",
    "\n",
    "ax10.set_xlim([-0.5, 8.5])\n",
    "plt.legend()\n",
    "plt.show()"
   ]
  },
  {
   "cell_type": "markdown",
   "metadata": {},
   "source": [
    "Those two plots tell us than people travelling alone are more likely to not survive the accident. On the other hand, it seems that people travelling together had an easier time to survive, as can be seen in SibSp equals 1 and 2 and Parch equals 1."
   ]
  },
  {
   "cell_type": "markdown",
   "metadata": {},
   "source": [
    "#### 4.3.8. Ticket"
   ]
  },
  {
   "cell_type": "code",
   "execution_count": 26,
   "metadata": {},
   "outputs": [
    {
     "data": {
      "text/plain": [
       "count         1309\n",
       "unique         929\n",
       "top       CA. 2343\n",
       "freq            11\n",
       "Name: Ticket, dtype: object"
      ]
     },
     "execution_count": 26,
     "metadata": {},
     "output_type": "execute_result"
    }
   ],
   "source": [
    "df_full['Ticket'].describe()"
   ]
  },
  {
   "cell_type": "markdown",
   "metadata": {},
   "source": [
    "All the entries in the dataset have a ticket number. From the documentation we can see that in the case of children travelling without family there is a nanny with him/her. That means that the nanny will not appear on the family number, but maybe it will appear under the same ticket."
   ]
  },
  {
   "cell_type": "code",
   "execution_count": 27,
   "metadata": {},
   "outputs": [
    {
     "data": {
      "text/plain": [
       "Survived                                1\n",
       "Pclass                                  3\n",
       "Name        Emanuel, Miss. Virginia Ethel\n",
       "Sex                                female\n",
       "Age                                     5\n",
       "SibSp                                   0\n",
       "Parch                                   0\n",
       "Ticket                             364516\n",
       "Fare                               12.475\n",
       "Cabin                                 NaN\n",
       "Embarked                                S\n",
       "Name: 778, dtype: object"
      ]
     },
     "execution_count": 27,
     "metadata": {},
     "output_type": "execute_result"
    }
   ],
   "source": [
    "df_full.loc[778]"
   ]
  },
  {
   "cell_type": "markdown",
   "metadata": {},
   "source": [
    "Let us take the case of Miss. Virginia Ethel Emanuel, a girl of age 5 with SibSp and Parch equal to 0. If we perform a search using the ticket number we will find the following:"
   ]
  },
  {
   "cell_type": "code",
   "execution_count": 28,
   "metadata": {},
   "outputs": [
    {
     "data": {
      "text/html": [
       "<div>\n",
       "<style scoped>\n",
       "    .dataframe tbody tr th:only-of-type {\n",
       "        vertical-align: middle;\n",
       "    }\n",
       "\n",
       "    .dataframe tbody tr th {\n",
       "        vertical-align: top;\n",
       "    }\n",
       "\n",
       "    .dataframe thead th {\n",
       "        text-align: right;\n",
       "    }\n",
       "</style>\n",
       "<table border=\"1\" class=\"dataframe\">\n",
       "  <thead>\n",
       "    <tr style=\"text-align: right;\">\n",
       "      <th></th>\n",
       "      <th>Survived</th>\n",
       "      <th>Pclass</th>\n",
       "      <th>Name</th>\n",
       "      <th>Sex</th>\n",
       "      <th>Age</th>\n",
       "      <th>SibSp</th>\n",
       "      <th>Parch</th>\n",
       "      <th>Ticket</th>\n",
       "      <th>Fare</th>\n",
       "      <th>Cabin</th>\n",
       "      <th>Embarked</th>\n",
       "    </tr>\n",
       "    <tr>\n",
       "      <th>PassengerId</th>\n",
       "      <th></th>\n",
       "      <th></th>\n",
       "      <th></th>\n",
       "      <th></th>\n",
       "      <th></th>\n",
       "      <th></th>\n",
       "      <th></th>\n",
       "      <th></th>\n",
       "      <th></th>\n",
       "      <th></th>\n",
       "      <th></th>\n",
       "    </tr>\n",
       "  </thead>\n",
       "  <tbody>\n",
       "    <tr>\n",
       "      <th>80</th>\n",
       "      <td>1.0</td>\n",
       "      <td>3</td>\n",
       "      <td>Dowdell, Miss. Elizabeth</td>\n",
       "      <td>female</td>\n",
       "      <td>30.0</td>\n",
       "      <td>0</td>\n",
       "      <td>0</td>\n",
       "      <td>364516</td>\n",
       "      <td>12.475</td>\n",
       "      <td>NaN</td>\n",
       "      <td>S</td>\n",
       "    </tr>\n",
       "    <tr>\n",
       "      <th>778</th>\n",
       "      <td>1.0</td>\n",
       "      <td>3</td>\n",
       "      <td>Emanuel, Miss. Virginia Ethel</td>\n",
       "      <td>female</td>\n",
       "      <td>5.0</td>\n",
       "      <td>0</td>\n",
       "      <td>0</td>\n",
       "      <td>364516</td>\n",
       "      <td>12.475</td>\n",
       "      <td>NaN</td>\n",
       "      <td>S</td>\n",
       "    </tr>\n",
       "  </tbody>\n",
       "</table>\n",
       "</div>"
      ],
      "text/plain": [
       "             Survived  Pclass                           Name     Sex   Age  \\\n",
       "PassengerId                                                                  \n",
       "80                1.0       3       Dowdell, Miss. Elizabeth  female  30.0   \n",
       "778               1.0       3  Emanuel, Miss. Virginia Ethel  female   5.0   \n",
       "\n",
       "             SibSp  Parch  Ticket    Fare Cabin Embarked  \n",
       "PassengerId                                               \n",
       "80               0      0  364516  12.475   NaN        S  \n",
       "778              0      0  364516  12.475   NaN        S  "
      ]
     },
     "execution_count": 28,
     "metadata": {},
     "output_type": "execute_result"
    }
   ],
   "source": [
    "df_full[df_full['Ticket']=='364516']"
   ]
  },
  {
   "cell_type": "markdown",
   "metadata": {},
   "source": [
    "This little girl was not really travelling alone. She was in the company of Miss. Elizabeth Dowdell, who was nursing her during her voyage to her grandparents' house in New Jersey. Ticket feature could be used to discern in a more precise way who were the lonely travellers aboard."
   ]
  },
  {
   "cell_type": "markdown",
   "metadata": {},
   "source": [
    "This feature will be also important to calculate the average ticket fare per person, by counting the people with the same ticket and dividing the fare by this number."
   ]
  },
  {
   "cell_type": "markdown",
   "metadata": {},
   "source": [
    "#### 4.3.9. Cabin"
   ]
  },
  {
   "cell_type": "code",
   "execution_count": 29,
   "metadata": {},
   "outputs": [
    {
     "data": {
      "text/plain": [
       "count             295\n",
       "unique            186\n",
       "top       C23 C25 C27\n",
       "freq                6\n",
       "Name: Cabin, dtype: object"
      ]
     },
     "execution_count": 29,
     "metadata": {},
     "output_type": "execute_result"
    }
   ],
   "source": [
    "df_full['Cabin'].describe()"
   ]
  },
  {
   "cell_type": "markdown",
   "metadata": {},
   "source": [
    "Since there are so missing values, this feature will not be used to obtain any insight."
   ]
  },
  {
   "cell_type": "markdown",
   "metadata": {},
   "source": [
    "#### 4.3.10. Port of embarkation"
   ]
  },
  {
   "cell_type": "code",
   "execution_count": 30,
   "metadata": {},
   "outputs": [
    {
     "data": {
      "text/plain": [
       "count     1307\n",
       "unique       3\n",
       "top          S\n",
       "freq       914\n",
       "Name: Embarked, dtype: object"
      ]
     },
     "execution_count": 30,
     "metadata": {},
     "output_type": "execute_result"
    }
   ],
   "source": [
    "df_full['Embarked'].describe()"
   ]
  },
  {
   "cell_type": "markdown",
   "metadata": {},
   "source": [
    "There are only two missing values for this feature. Let us see how it correlates with survival."
   ]
  },
  {
   "cell_type": "code",
   "execution_count": 31,
   "metadata": {},
   "outputs": [
    {
     "data": {
      "image/png": "[encoded data removed]",
      "text/plain": [
       "<Figure size 432x288 with 1 Axes>"
      ]
     },
     "metadata": {},
     "output_type": "display_data"
    }
   ],
   "source": [
    "fig11=sns.barplot(x=\"Embarked\",y=\"Survived\",data=df_full)"
   ]
  },
  {
   "cell_type": "code",
   "execution_count": 32,
   "metadata": {},
   "outputs": [
    {
     "data": {
      "text/html": [
       "<div>\n",
       "<style scoped>\n",
       "    .dataframe tbody tr th:only-of-type {\n",
       "        vertical-align: middle;\n",
       "    }\n",
       "\n",
       "    .dataframe tbody tr th {\n",
       "        vertical-align: top;\n",
       "    }\n",
       "\n",
       "    .dataframe thead th {\n",
       "        text-align: right;\n",
       "    }\n",
       "</style>\n",
       "<table border=\"1\" class=\"dataframe\">\n",
       "  <thead>\n",
       "    <tr style=\"text-align: right;\">\n",
       "      <th></th>\n",
       "      <th></th>\n",
       "      <th></th>\n",
       "      <th>Total</th>\n",
       "      <th>Survived</th>\n",
       "      <th>Rate</th>\n",
       "    </tr>\n",
       "    <tr>\n",
       "      <th>Embarked</th>\n",
       "      <th>Pclass</th>\n",
       "      <th>Sex</th>\n",
       "      <th></th>\n",
       "      <th></th>\n",
       "      <th></th>\n",
       "    </tr>\n",
       "  </thead>\n",
       "  <tbody>\n",
       "    <tr>\n",
       "      <th rowspan=\"6\" valign=\"top\">C</th>\n",
       "      <th rowspan=\"2\" valign=\"top\">1</th>\n",
       "      <th>female</th>\n",
       "      <td>43</td>\n",
       "      <td>42.0</td>\n",
       "      <td>0.976744</td>\n",
       "    </tr>\n",
       "    <tr>\n",
       "      <th>male</th>\n",
       "      <td>42</td>\n",
       "      <td>17.0</td>\n",
       "      <td>0.404762</td>\n",
       "    </tr>\n",
       "    <tr>\n",
       "      <th rowspan=\"2\" valign=\"top\">2</th>\n",
       "      <th>female</th>\n",
       "      <td>7</td>\n",
       "      <td>7.0</td>\n",
       "      <td>1.000000</td>\n",
       "    </tr>\n",
       "    <tr>\n",
       "      <th>male</th>\n",
       "      <td>10</td>\n",
       "      <td>2.0</td>\n",
       "      <td>0.200000</td>\n",
       "    </tr>\n",
       "    <tr>\n",
       "      <th rowspan=\"2\" valign=\"top\">3</th>\n",
       "      <th>female</th>\n",
       "      <td>23</td>\n",
       "      <td>15.0</td>\n",
       "      <td>0.652174</td>\n",
       "    </tr>\n",
       "    <tr>\n",
       "      <th>male</th>\n",
       "      <td>43</td>\n",
       "      <td>10.0</td>\n",
       "      <td>0.232558</td>\n",
       "    </tr>\n",
       "    <tr>\n",
       "      <th rowspan=\"6\" valign=\"top\">Q</th>\n",
       "      <th rowspan=\"2\" valign=\"top\">1</th>\n",
       "      <th>female</th>\n",
       "      <td>1</td>\n",
       "      <td>1.0</td>\n",
       "      <td>1.000000</td>\n",
       "    </tr>\n",
       "    <tr>\n",
       "      <th>male</th>\n",
       "      <td>1</td>\n",
       "      <td>0.0</td>\n",
       "      <td>0.000000</td>\n",
       "    </tr>\n",
       "    <tr>\n",
       "      <th rowspan=\"2\" valign=\"top\">2</th>\n",
       "      <th>female</th>\n",
       "      <td>2</td>\n",
       "      <td>2.0</td>\n",
       "      <td>1.000000</td>\n",
       "    </tr>\n",
       "    <tr>\n",
       "      <th>male</th>\n",
       "      <td>1</td>\n",
       "      <td>0.0</td>\n",
       "      <td>0.000000</td>\n",
       "    </tr>\n",
       "    <tr>\n",
       "      <th rowspan=\"2\" valign=\"top\">3</th>\n",
       "      <th>female</th>\n",
       "      <td>33</td>\n",
       "      <td>24.0</td>\n",
       "      <td>0.727273</td>\n",
       "    </tr>\n",
       "    <tr>\n",
       "      <th>male</th>\n",
       "      <td>39</td>\n",
       "      <td>3.0</td>\n",
       "      <td>0.076923</td>\n",
       "    </tr>\n",
       "    <tr>\n",
       "      <th rowspan=\"6\" valign=\"top\">S</th>\n",
       "      <th rowspan=\"2\" valign=\"top\">1</th>\n",
       "      <th>female</th>\n",
       "      <td>48</td>\n",
       "      <td>46.0</td>\n",
       "      <td>0.958333</td>\n",
       "    </tr>\n",
       "    <tr>\n",
       "      <th>male</th>\n",
       "      <td>79</td>\n",
       "      <td>28.0</td>\n",
       "      <td>0.354430</td>\n",
       "    </tr>\n",
       "    <tr>\n",
       "      <th rowspan=\"2\" valign=\"top\">2</th>\n",
       "      <th>female</th>\n",
       "      <td>67</td>\n",
       "      <td>61.0</td>\n",
       "      <td>0.910448</td>\n",
       "    </tr>\n",
       "    <tr>\n",
       "      <th>male</th>\n",
       "      <td>97</td>\n",
       "      <td>15.0</td>\n",
       "      <td>0.154639</td>\n",
       "    </tr>\n",
       "    <tr>\n",
       "      <th rowspan=\"2\" valign=\"top\">3</th>\n",
       "      <th>female</th>\n",
       "      <td>88</td>\n",
       "      <td>33.0</td>\n",
       "      <td>0.375000</td>\n",
       "    </tr>\n",
       "    <tr>\n",
       "      <th>male</th>\n",
       "      <td>265</td>\n",
       "      <td>34.0</td>\n",
       "      <td>0.128302</td>\n",
       "    </tr>\n",
       "  </tbody>\n",
       "</table>\n",
       "</div>"
      ],
      "text/plain": [
       "                        Total  Survived      Rate\n",
       "Embarked Pclass Sex                              \n",
       "C        1      female     43      42.0  0.976744\n",
       "                male       42      17.0  0.404762\n",
       "         2      female      7       7.0  1.000000\n",
       "                male       10       2.0  0.200000\n",
       "         3      female     23      15.0  0.652174\n",
       "                male       43      10.0  0.232558\n",
       "Q        1      female      1       1.0  1.000000\n",
       "                male        1       0.0  0.000000\n",
       "         2      female      2       2.0  1.000000\n",
       "                male        1       0.0  0.000000\n",
       "         3      female     33      24.0  0.727273\n",
       "                male       39       3.0  0.076923\n",
       "S        1      female     48      46.0  0.958333\n",
       "                male       79      28.0  0.354430\n",
       "         2      female     67      61.0  0.910448\n",
       "                male       97      15.0  0.154639\n",
       "         3      female     88      33.0  0.375000\n",
       "                male      265      34.0  0.128302"
      ]
     },
     "execution_count": 32,
     "metadata": {},
     "output_type": "execute_result"
    }
   ],
   "source": [
    "embarked_corr = (df_full[['Survived', 'Embarked', 'Pclass', 'Sex']].groupby(['Embarked', 'Pclass', 'Sex']).agg(['count', 'sum', 'mean']))\n",
    "embarked_corr.columns = embarked_corr.columns.droplevel(0)\n",
    "embarked_corr.columns = ['Total', 'Survived', 'Rate']\n",
    "embarked_corr"
   ]
  },
  {
   "cell_type": "markdown",
   "metadata": {},
   "source": [
    "It seems that people embarked in Cherbourg tend to survive more. Southampton had more third class passengers embarked, so it is expected that the survival probability goes down (as Pclass and survival probability are correlated). \n",
    "\n",
    "But if we segment the population into port of embarking, class and sex we can see that the ratios are consistent with the ones obtained before in terms of sex and class. So the port of embarking does not correlate with survival."
   ]
  },
  {
   "cell_type": "markdown",
   "metadata": {},
   "source": [
    "#### Conclusion"
   ]
  },
  {
   "cell_type": "markdown",
   "metadata": {},
   "source": [
    "We have studied the different variables of the titanic dataset. We have obtained some insight from the exploratory analysis of the features and we have come to the conclusion that there are some interesting candidates to be used as features on our model. Those features are passenger title (the sex is implicit in the title), passenger class, fare per person (to distiguish classes inside the classes), age and whether or not the passenger is travelling alone or without family."
   ]
  },
  {
   "cell_type": "markdown",
   "metadata": {},
   "source": [
    "<a id='Feature_engineering'></a>\n",
    "## 5. Feature Engineering"
   ]
  },
  {
   "cell_type": "markdown",
   "metadata": {},
   "source": [
    "In this section, we will fill missing values, transform existing features and add new ones to improve our model's predictive power. First of all, we must know how many missing values do we have and where they are, so we'll start by performing the count in the full dataset."
   ]
  },
  {
   "cell_type": "code",
   "execution_count": 33,
   "metadata": {
    "scrolled": false
   },
   "outputs": [
    {
     "name": "stdout",
     "output_type": "stream",
     "text": [
      "The full dataset has 1309 entries\n",
      "\n"
     ]
    },
    {
     "data": {
      "text/plain": [
       "Survived     418\n",
       "Pclass         0\n",
       "Name           0\n",
       "Sex            0\n",
       "Age          263\n",
       "SibSp          0\n",
       "Parch          0\n",
       "Ticket         0\n",
       "Fare           1\n",
       "Cabin       1014\n",
       "Embarked       2\n",
       "dtype: int64"
      ]
     },
     "execution_count": 33,
     "metadata": {},
     "output_type": "execute_result"
    }
   ],
   "source": [
    "print(f'The full dataset has {df_full.shape[0]} entries\\n')\n",
    "df_full.isnull().sum()"
   ]
  },
  {
   "cell_type": "markdown",
   "metadata": {},
   "source": [
    "Following the order of the table we have:\n",
    "\n",
    "- Survided: 418 missing values. We don't need to care about them as they belong to the test partition of the full dataset, *i. e.*, they are the values we will predict in the Modeling section.\n",
    "\n",
    "- Age: 263 missing values that we will need to fill. We'll discuss how shortly.\n",
    "\n",
    "- Fare: 1 missing value. \n",
    "\n",
    "- Cabin: 1014 missing values. As we state previously, we will simply drop this feature.\n",
    "\n",
    "- Embarked: 2 missing values.\n"
   ]
  },
  {
   "cell_type": "markdown",
   "metadata": {},
   "source": [
    "<a id='Title_information'></a>\n",
    "### 5.1 Title information"
   ]
  },
  {
   "cell_type": "markdown",
   "metadata": {},
   "source": [
    "We can create a new feature, Title, from the Name information. This feature summarizes gender and age information in one feature and it will be helpful when predicting survival/deceasing."
   ]
  },
  {
   "cell_type": "code",
   "execution_count": 34,
   "metadata": {},
   "outputs": [],
   "source": [
    "def get_title(name):\n",
    "\t\"\"\"If the title exists, extracts and return it.\"\"\"\n",
    "\n",
    "\ttitle_search = re.search(' ([A-Za-z]+)\\.', name)\n",
    "\tif title_search:\n",
    "\t\treturn title_search.group(1)\n",
    "\treturn \"\""
   ]
  },
  {
   "cell_type": "markdown",
   "metadata": {},
   "source": [
    "We now create the new column with Title information and print its unique values."
   ]
  },
  {
   "cell_type": "code",
   "execution_count": 35,
   "metadata": {},
   "outputs": [
    {
     "data": {
      "text/plain": [
       "['Mr',\n",
       " 'Mrs',\n",
       " 'Miss',\n",
       " 'Master',\n",
       " 'Don',\n",
       " 'Rev',\n",
       " 'Dr',\n",
       " 'Mme',\n",
       " 'Ms',\n",
       " 'Major',\n",
       " 'Lady',\n",
       " 'Sir',\n",
       " 'Mlle',\n",
       " 'Col',\n",
       " 'Capt',\n",
       " 'Countess',\n",
       " 'Jonkheer',\n",
       " 'Dona']"
      ]
     },
     "execution_count": 35,
     "metadata": {},
     "output_type": "execute_result"
    }
   ],
   "source": [
    "df_full['Title'] = df_full['Name'].apply(get_title)\n",
    "\n",
    "df_full.Title.unique().tolist()"
   ]
  },
  {
   "cell_type": "markdown",
   "metadata": {},
   "source": [
    "The output shows plenty of Titles, so we better reassign some of them by hand to improve predictive power."
   ]
  },
  {
   "cell_type": "code",
   "execution_count": 36,
   "metadata": {},
   "outputs": [
    {
     "data": {
      "text/html": [
       "<div>\n",
       "<style scoped>\n",
       "    .dataframe tbody tr th:only-of-type {\n",
       "        vertical-align: middle;\n",
       "    }\n",
       "\n",
       "    .dataframe tbody tr th {\n",
       "        vertical-align: top;\n",
       "    }\n",
       "\n",
       "    .dataframe thead th {\n",
       "        text-align: right;\n",
       "    }\n",
       "</style>\n",
       "<table border=\"1\" class=\"dataframe\">\n",
       "  <thead>\n",
       "    <tr style=\"text-align: right;\">\n",
       "      <th>Sex</th>\n",
       "      <th>female</th>\n",
       "      <th>male</th>\n",
       "    </tr>\n",
       "    <tr>\n",
       "      <th>Title</th>\n",
       "      <th></th>\n",
       "      <th></th>\n",
       "    </tr>\n",
       "  </thead>\n",
       "  <tbody>\n",
       "    <tr>\n",
       "      <th>Master</th>\n",
       "      <td>0</td>\n",
       "      <td>61</td>\n",
       "    </tr>\n",
       "    <tr>\n",
       "      <th>Miss</th>\n",
       "      <td>264</td>\n",
       "      <td>0</td>\n",
       "    </tr>\n",
       "    <tr>\n",
       "      <th>Mr</th>\n",
       "      <td>0</td>\n",
       "      <td>765</td>\n",
       "    </tr>\n",
       "    <tr>\n",
       "      <th>Mrs</th>\n",
       "      <td>200</td>\n",
       "      <td>0</td>\n",
       "    </tr>\n",
       "    <tr>\n",
       "      <th>Noble</th>\n",
       "      <td>2</td>\n",
       "      <td>17</td>\n",
       "    </tr>\n",
       "  </tbody>\n",
       "</table>\n",
       "</div>"
      ],
      "text/plain": [
       "Sex     female  male\n",
       "Title               \n",
       "Master       0    61\n",
       "Miss       264     0\n",
       "Mr           0   765\n",
       "Mrs        200     0\n",
       "Noble        2    17"
      ]
     },
     "execution_count": 36,
     "metadata": {},
     "output_type": "execute_result"
    }
   ],
   "source": [
    "df_full['Title'] = df_full['Title'].replace(['Lady', 'Countess','Capt', 'Col', 'Major', 'Rev', 'Sir', 'Jonkheer'], 'Noble')   \n",
    "df_full['Title'] = df_full['Title'].replace('Don', 'Mr')\n",
    "df_full['Title'] = df_full['Title'].replace(['Mlle', 'Ms'], 'Miss')\n",
    "df_full['Title'] = df_full['Title'].replace(['Mme', 'Dona'], 'Mrs')\n",
    "\n",
    "# Dr is a special case as we have both men and women\n",
    "male_dr_filter = (df_full.Title == 'Dr') & (df_full.Sex == 'male')\n",
    "female_dr_filter = (df_full.Title == 'Dr') & (df_full.Sex == 'female')\n",
    "df_full.loc[male_dr_filter, ['Title']] = 'Mr'\n",
    "df_full.loc[female_dr_filter, ['Title']] = 'Mrs'\n",
    "\n",
    "pd.crosstab(df_full['Title'], df_full['Sex'])"
   ]
  },
  {
   "cell_type": "markdown",
   "metadata": {},
   "source": [
    "As we can see, all Titles but one are exclusive, which is a good sign."
   ]
  },
  {
   "cell_type": "markdown",
   "metadata": {},
   "source": [
    "<a id='Age_FE'></a>\n",
    "### 5.2 Age"
   ]
  },
  {
   "cell_type": "markdown",
   "metadata": {},
   "source": [
    "#### 5.2.1 Segmentation of age bands"
   ]
  },
  {
   "cell_type": "markdown",
   "metadata": {},
   "source": [
    "Before filling age missing values we want to segment age groups by using a KMeans clustering algorithm. We first select the relevant data for this analysis."
   ]
  },
  {
   "cell_type": "code",
   "execution_count": 37,
   "metadata": {},
   "outputs": [],
   "source": [
    "age_data = df_full[['Age', 'Survived']].dropna()"
   ]
  },
  {
   "cell_type": "markdown",
   "metadata": {},
   "source": [
    "First of all, we'll use the Elbow Method to find the optimal number of clusters."
   ]
  },
  {
   "cell_type": "code",
   "execution_count": 38,
   "metadata": {},
   "outputs": [],
   "source": [
    "from sklearn.cluster import KMeans\n",
    "\n",
    "sum_squared_distances = []\n",
    "\n",
    "k_range = range(1, 11)\n",
    "for k in k_range:\n",
    "    km = KMeans(n_clusters = k)\n",
    "    km = km.fit(age_data)\n",
    "\t# Computing squared distances of samples to their closest cluster center\n",
    "    sum_squared_distances.append(km.inertia_)"
   ]
  },
  {
   "cell_type": "code",
   "execution_count": 39,
   "metadata": {},
   "outputs": [
    {
     "data": {
      "image/png": "[encoded data removed]",
      "text/plain": [
       "<Figure size 432x288 with 1 Axes>"
      ]
     },
     "metadata": {},
     "output_type": "display_data"
    }
   ],
   "source": [
    "plt.plot(k_range, sum_squared_distances, 'bx-')\n",
    "plt.xlabel('Number of clusters (k)')\n",
    "plt.ylabel('Sum of squared distances')\n",
    "plt.title('Elbow Method for optimal number of clusters')\n",
    "plt.show()"
   ]
  },
  {
   "cell_type": "markdown",
   "metadata": {},
   "source": [
    "We can now perform a KMeans with k = 4 as suggested by the Elbow Method. We'll also display the decission boundaries."
   ]
  },
  {
   "cell_type": "code",
   "execution_count": 40,
   "metadata": {},
   "outputs": [],
   "source": [
    "k_elbow = 4\n",
    "random_state = 4\n",
    "\n",
    "kmeans = KMeans(n_clusters = k_elbow, random_state = random_state)\n",
    "kmeans.fit(age_data)\n",
    "\n",
    "age_data['Label'] = kmeans.labels_"
   ]
  },
  {
   "cell_type": "code",
   "execution_count": 41,
   "metadata": {},
   "outputs": [
    {
     "data": {
      "image/png": "[encoded data removed]",
      "text/plain": [
       "<Figure size 720x360 with 1 Axes>"
      ]
     },
     "metadata": {},
     "output_type": "display_data"
    }
   ],
   "source": [
    "# Plot the decision boundary\n",
    "# See http://scikit-learn.org/stable/auto_examples/cluster/plot_kmeans_digits.html\n",
    "plt.figure(figsize=(10,5))\n",
    "h = 0.01\n",
    "x_min, x_max = age_data['Age'].min() - h, age_data['Age'].max() + h\n",
    "y_min, y_max = age_data['Survived'].min() - h, age_data['Survived'].max() + h\n",
    "xx, yy = np.meshgrid(np.arange(x_min, x_max, h), np.arange(y_min, y_max, h))\n",
    "\n",
    "# Predict the age cluster for each point in a mesh\n",
    "Z = kmeans.predict(np.c_[xx.ravel(), yy.ravel()])\n",
    "\n",
    "# Put the result into a color plot\n",
    "cmap = sns.cubehelix_palette(start=2.8, rot=.1, as_cmap=True)\n",
    "Z = Z.reshape(xx.shape)\n",
    "plt.imshow(Z, interpolation='nearest',\n",
    "           extent=(xx.min(), xx.max(), yy.min(), yy.max()),\n",
    "           cmap=cmap, aspect='auto')\n",
    "\n",
    "# Plot the ages\n",
    "sns.scatterplot(x='Age', y='Survived', hue='Label', data=age_data, palette=cmap)\n",
    "\n",
    "# Plot the centroids as a white X\n",
    "centroids = kmeans.cluster_centers_\n",
    "plt.scatter(centroids[:, 0], centroids[:, 1],\n",
    "            marker='x', s=169, linewidths=3,\n",
    "            color='w')\n",
    "plt.yticks([0, 1])\n",
    "plt.title(\"Age clusters and decision boundaries\")\n",
    "plt.show()"
   ]
  },
  {
   "cell_type": "markdown",
   "metadata": {},
   "source": [
    "Finally, we obtain the age bands to create the new AgeBand feature."
   ]
  },
  {
   "cell_type": "code",
   "execution_count": 42,
   "metadata": {},
   "outputs": [
    {
     "name": "stdout",
     "output_type": "stream",
     "text": [
      "Age boundaries obtained after KMeans clustering:\n"
     ]
    },
    {
     "data": {
      "text/plain": [
       "[0, 14, 28, 44, inf]"
      ]
     },
     "execution_count": 42,
     "metadata": {},
     "output_type": "execute_result"
    }
   ],
   "source": [
    "age_bands = age_data.groupby('Label')['Age'].min().astype(int).sort_values().tolist()\n",
    "age_bands.append(np.inf) # Adding an upper boundary\n",
    "\n",
    "print('Age boundaries obtained after KMeans clustering:')\n",
    "age_bands"
   ]
  },
  {
   "cell_type": "markdown",
   "metadata": {},
   "source": [
    "#### 5.2.2 Filling of missing age values"
   ]
  },
  {
   "cell_type": "markdown",
   "metadata": {},
   "source": [
    "We can fill the missing values now. To fill the data, we will calculate the median as a function of Title and Pclass using only the training data [:891]."
   ]
  },
  {
   "cell_type": "code",
   "execution_count": 43,
   "metadata": {},
   "outputs": [
    {
     "data": {
      "text/plain": [
       "Title   Pclass\n",
       "Master  1          4.0\n",
       "        2          1.0\n",
       "        3          4.0\n",
       "Miss    1         30.0\n",
       "        2         24.0\n",
       "        3         18.0\n",
       "Mr      1         40.0\n",
       "        2         31.0\n",
       "        3         26.0\n",
       "Mrs     1         41.5\n",
       "        2         32.0\n",
       "        3         31.0\n",
       "Noble   1         49.0\n",
       "        2         46.5\n",
       "Name: Age, dtype: float64"
      ]
     },
     "execution_count": 43,
     "metadata": {},
     "output_type": "execute_result"
    }
   ],
   "source": [
    "ages_table = df_full[:891].groupby(['Title','Pclass'])['Age'].median()\n",
    "ages_table"
   ]
  },
  {
   "cell_type": "markdown",
   "metadata": {},
   "source": [
    "We will now replace NaN with zeros and then fill them with the median for its Title/Pclass."
   ]
  },
  {
   "cell_type": "code",
   "execution_count": 44,
   "metadata": {},
   "outputs": [],
   "source": [
    "df_full['Age'] = df_full['Age'].fillna(0)\n",
    "\n",
    "for ind, row in df_full[df_full['Age'] == 0].iterrows():\n",
    "    df_full.loc[ind, 'Age'] = ages_table[row.Title][row.Pclass]"
   ]
  },
  {
   "cell_type": "code",
   "execution_count": 45,
   "metadata": {},
   "outputs": [
    {
     "data": {
      "text/html": [
       "<div>\n",
       "<style scoped>\n",
       "    .dataframe tbody tr th:only-of-type {\n",
       "        vertical-align: middle;\n",
       "    }\n",
       "\n",
       "    .dataframe tbody tr th {\n",
       "        vertical-align: top;\n",
       "    }\n",
       "\n",
       "    .dataframe thead th {\n",
       "        text-align: right;\n",
       "    }\n",
       "</style>\n",
       "<table border=\"1\" class=\"dataframe\">\n",
       "  <thead>\n",
       "    <tr style=\"text-align: right;\">\n",
       "      <th></th>\n",
       "      <th>Survived</th>\n",
       "      <th>Pclass</th>\n",
       "      <th>Name</th>\n",
       "      <th>Sex</th>\n",
       "      <th>Age</th>\n",
       "      <th>SibSp</th>\n",
       "      <th>Parch</th>\n",
       "      <th>Ticket</th>\n",
       "      <th>Fare</th>\n",
       "      <th>Cabin</th>\n",
       "      <th>Embarked</th>\n",
       "      <th>Title</th>\n",
       "    </tr>\n",
       "    <tr>\n",
       "      <th>PassengerId</th>\n",
       "      <th></th>\n",
       "      <th></th>\n",
       "      <th></th>\n",
       "      <th></th>\n",
       "      <th></th>\n",
       "      <th></th>\n",
       "      <th></th>\n",
       "      <th></th>\n",
       "      <th></th>\n",
       "      <th></th>\n",
       "      <th></th>\n",
       "      <th></th>\n",
       "    </tr>\n",
       "  </thead>\n",
       "  <tbody>\n",
       "  </tbody>\n",
       "</table>\n",
       "</div>"
      ],
      "text/plain": [
       "Empty DataFrame\n",
       "Columns: [Survived, Pclass, Name, Sex, Age, SibSp, Parch, Ticket, Fare, Cabin, Embarked, Title]\n",
       "Index: []"
      ]
     },
     "execution_count": 45,
     "metadata": {},
     "output_type": "execute_result"
    }
   ],
   "source": [
    "df_full.loc[(df_full.Age == 0)]"
   ]
  },
  {
   "cell_type": "markdown",
   "metadata": {},
   "source": [
    "#### 5.2.3 AgeBand feature"
   ]
  },
  {
   "cell_type": "markdown",
   "metadata": {},
   "source": [
    "We create a new column with each passengers AgeBand, and print the survival rate for each of them."
   ]
  },
  {
   "cell_type": "code",
   "execution_count": 46,
   "metadata": {},
   "outputs": [
    {
     "data": {
      "text/plain": [
       "AgeBand\n",
       "(0.0, 14.0]     0.580247\n",
       "(14.0, 28.0]    0.319512\n",
       "(28.0, 44.0]    0.424561\n",
       "(44.0, inf]     0.373913\n",
       "Name: Survived, dtype: float64"
      ]
     },
     "execution_count": 46,
     "metadata": {},
     "output_type": "execute_result"
    }
   ],
   "source": [
    "df_full['AgeBand'] = pd.cut(df_full['Age'], age_bands)\n",
    "\n",
    "df_full.groupby('AgeBand')['Survived'].mean()"
   ]
  },
  {
   "cell_type": "markdown",
   "metadata": {},
   "source": [
    "<a id='Fsize_FE'></a>\n",
    "### 5.3 Family Size"
   ]
  },
  {
   "cell_type": "code",
   "execution_count": 47,
   "metadata": {},
   "outputs": [],
   "source": [
    "df_full['FamilySize'] = df_full['SibSp'] + df_full['Parch'] + 1"
   ]
  },
  {
   "cell_type": "markdown",
   "metadata": {},
   "source": [
    "<a id='Toccurence_FE'></a>\n",
    "### 5.4 Ticket Occurrence"
   ]
  },
  {
   "cell_type": "code",
   "execution_count": 48,
   "metadata": {},
   "outputs": [],
   "source": [
    "df_full['TicketOccurr'] = df_full.groupby('Ticket')['Ticket'].transform('size')"
   ]
  },
  {
   "cell_type": "markdown",
   "metadata": {},
   "source": [
    "#### 5.4.1 Lone travellers"
   ]
  },
  {
   "cell_type": "markdown",
   "metadata": {},
   "source": [
    "We'll define it from Ticket Occurrence instead of Family Size."
   ]
  },
  {
   "cell_type": "code",
   "execution_count": 49,
   "metadata": {},
   "outputs": [],
   "source": [
    "df_full['IsAlone'] = df_full['TicketOccurr'].apply(lambda x: 1 if x == 1 else 0)"
   ]
  },
  {
   "cell_type": "markdown",
   "metadata": {},
   "source": [
    "<a id='Farepp_FE'></a>\n",
    "### 5.5 Fare per person"
   ]
  },
  {
   "cell_type": "code",
   "execution_count": 50,
   "metadata": {},
   "outputs": [],
   "source": [
    "df_full['FarePerPerson'] = df_full['Fare'] / df_full['TicketOccurr']"
   ]
  },
  {
   "cell_type": "markdown",
   "metadata": {},
   "source": [
    "As we did with missing ages, we'll fill the FarePerPerson missing values by using the median of the Pclass."
   ]
  },
  {
   "cell_type": "code",
   "execution_count": 51,
   "metadata": {},
   "outputs": [
    {
     "name": "stdout",
     "output_type": "stream",
     "text": [
      "Median fare by class\n"
     ]
    },
    {
     "data": {
      "text/plain": [
       "Pclass\n",
       "1    30.000000\n",
       "2    12.342367\n",
       "3     7.750000\n",
       "Name: FarePerPerson, dtype: float64"
      ]
     },
     "execution_count": 51,
     "metadata": {},
     "output_type": "execute_result"
    }
   ],
   "source": [
    "fares_table = df_full[:891].groupby('Pclass')['FarePerPerson'].median()\n",
    "\n",
    "print('Median fare by class')\n",
    "fares_table"
   ]
  },
  {
   "cell_type": "code",
   "execution_count": 52,
   "metadata": {},
   "outputs": [],
   "source": [
    "for ind, row in df_full[df_full['FarePerPerson'].isnull()].iterrows():\n",
    "\tdf_full.loc[ind, 'FarePerPerson'] = fares_table[row.Pclass]"
   ]
  },
  {
   "cell_type": "code",
   "execution_count": 53,
   "metadata": {},
   "outputs": [
    {
     "data": {
      "text/html": [
       "<div>\n",
       "<style scoped>\n",
       "    .dataframe tbody tr th:only-of-type {\n",
       "        vertical-align: middle;\n",
       "    }\n",
       "\n",
       "    .dataframe tbody tr th {\n",
       "        vertical-align: top;\n",
       "    }\n",
       "\n",
       "    .dataframe thead th {\n",
       "        text-align: right;\n",
       "    }\n",
       "</style>\n",
       "<table border=\"1\" class=\"dataframe\">\n",
       "  <thead>\n",
       "    <tr style=\"text-align: right;\">\n",
       "      <th></th>\n",
       "      <th>Survived</th>\n",
       "      <th>Pclass</th>\n",
       "      <th>Name</th>\n",
       "      <th>Sex</th>\n",
       "      <th>Age</th>\n",
       "      <th>SibSp</th>\n",
       "      <th>Parch</th>\n",
       "      <th>Ticket</th>\n",
       "      <th>Fare</th>\n",
       "      <th>Cabin</th>\n",
       "      <th>Embarked</th>\n",
       "      <th>Title</th>\n",
       "      <th>AgeBand</th>\n",
       "      <th>FamilySize</th>\n",
       "      <th>TicketOccurr</th>\n",
       "      <th>IsAlone</th>\n",
       "      <th>FarePerPerson</th>\n",
       "    </tr>\n",
       "    <tr>\n",
       "      <th>PassengerId</th>\n",
       "      <th></th>\n",
       "      <th></th>\n",
       "      <th></th>\n",
       "      <th></th>\n",
       "      <th></th>\n",
       "      <th></th>\n",
       "      <th></th>\n",
       "      <th></th>\n",
       "      <th></th>\n",
       "      <th></th>\n",
       "      <th></th>\n",
       "      <th></th>\n",
       "      <th></th>\n",
       "      <th></th>\n",
       "      <th></th>\n",
       "      <th></th>\n",
       "      <th></th>\n",
       "    </tr>\n",
       "  </thead>\n",
       "  <tbody>\n",
       "  </tbody>\n",
       "</table>\n",
       "</div>"
      ],
      "text/plain": [
       "Empty DataFrame\n",
       "Columns: [Survived, Pclass, Name, Sex, Age, SibSp, Parch, Ticket, Fare, Cabin, Embarked, Title, AgeBand, FamilySize, TicketOccurr, IsAlone, FarePerPerson]\n",
       "Index: []"
      ]
     },
     "execution_count": 53,
     "metadata": {},
     "output_type": "execute_result"
    }
   ],
   "source": [
    "df_full[df_full[['FarePerPerson']].isnull().any(axis=1)]"
   ]
  },
  {
   "cell_type": "code",
   "execution_count": 54,
   "metadata": {},
   "outputs": [
    {
     "data": {
      "image/png": "[encoded data removed]",
      "text/plain": [
       "<Figure size 432x288 with 1 Axes>"
      ]
     },
     "metadata": {},
     "output_type": "display_data"
    }
   ],
   "source": [
    "for cls, label in zip([1, 2, 3], ['First class', 'Second class', 'Third class']):\n",
    "    mask = df_full['Pclass'] == cls\n",
    "    df = df_full[mask]\n",
    "    \n",
    "    sns.distplot(df['FarePerPerson'],  kde = False, label = label)\n",
    "\n",
    "# Plot formatting\n",
    "plt.legend(prop = {'size': 12})\n",
    "plt.title('Fare distribution per class')\n",
    "plt.xlabel('Fare per person (£)')\n",
    "plt.ylabel('Frecuency')\n",
    "#plt.savefig('Fares.png', dpi = 300)\n",
    "plt.show()"
   ]
  },
  {
   "cell_type": "markdown",
   "metadata": {},
   "source": [
    "<a id='Portemb_FE'></a>\n",
    "### 5.6  Port of Embarkation"
   ]
  },
  {
   "cell_type": "markdown",
   "metadata": {},
   "source": [
    "We'll fill the Embarked missing values we can use the MODE, we can take a random sample or we can study if there is any correlation between Embarked and other features such as FarePerPerson, Title or Pclass."
   ]
  },
  {
   "cell_type": "code",
   "execution_count": 55,
   "metadata": {},
   "outputs": [
    {
     "name": "stdout",
     "output_type": "stream",
     "text": [
      "Number of passengers for each port/class\n"
     ]
    },
    {
     "data": {
      "text/plain": [
       "Embarked  Pclass\n",
       "C         1          85\n",
       "          2          17\n",
       "          3          66\n",
       "Q         1           2\n",
       "          2           3\n",
       "          3          72\n",
       "S         1         127\n",
       "          2         164\n",
       "          3         353\n",
       "Name: Pclass, dtype: int64"
      ]
     },
     "execution_count": 55,
     "metadata": {},
     "output_type": "execute_result"
    }
   ],
   "source": [
    "df_ports = df_full[:891].groupby(['Embarked', 'Pclass'])['Pclass'].count()\n",
    "\n",
    "print('Number of passengers for each port/class')\n",
    "df_ports"
   ]
  },
  {
   "cell_type": "markdown",
   "metadata": {},
   "source": [
    "What is the proportion of passengers of each class that have embarked at each port?"
   ]
  },
  {
   "cell_type": "code",
   "execution_count": 56,
   "metadata": {},
   "outputs": [
    {
     "name": "stdout",
     "output_type": "stream",
     "text": [
      "Proportion of passengers for each port/class\n"
     ]
    },
    {
     "data": {
      "text/plain": [
       "Embarked  Pclass\n",
       "C         1         0.505952\n",
       "          2         0.101190\n",
       "          3         0.392857\n",
       "Q         1         0.025974\n",
       "          2         0.038961\n",
       "          3         0.935065\n",
       "S         1         0.197205\n",
       "          2         0.254658\n",
       "          3         0.548137\n",
       "Name: Pclass, dtype: float64"
      ]
     },
     "execution_count": 56,
     "metadata": {},
     "output_type": "execute_result"
    }
   ],
   "source": [
    "df_ports_prop = df_ports / df_full[:891].groupby(['Embarked'])['Pclass'].count()\n",
    "\n",
    "print('Proportion of passengers for each port/class')\n",
    "df_ports_prop"
   ]
  },
  {
   "cell_type": "markdown",
   "metadata": {},
   "source": [
    "We decided (for now) to fill the missing values by randomly sampling the Embarked column."
   ]
  },
  {
   "cell_type": "code",
   "execution_count": 57,
   "metadata": {},
   "outputs": [],
   "source": [
    "num_nan = df_full[df_full[['Embarked']].isnull().any(axis=1)].index\n",
    "port_samp = list(df_train['Embarked'].sample(len(num_nan), replace = True))\n",
    "\n",
    "for i in range(len(num_nan)):\n",
    "    df_full.loc[num_nan[i], 'Embarked'] = port_samp[i]"
   ]
  },
  {
   "cell_type": "markdown",
   "metadata": {},
   "source": [
    "We count missing values again after imputation."
   ]
  },
  {
   "cell_type": "code",
   "execution_count": 58,
   "metadata": {},
   "outputs": [
    {
     "name": "stdout",
     "output_type": "stream",
     "text": [
      "The full dataset has 1309 entries\n"
     ]
    },
    {
     "data": {
      "text/plain": [
       "Survived          418\n",
       "Pclass              0\n",
       "Name                0\n",
       "Sex                 0\n",
       "Age                 0\n",
       "SibSp               0\n",
       "Parch               0\n",
       "Ticket              0\n",
       "Fare                1\n",
       "Cabin            1014\n",
       "Embarked            0\n",
       "Title               0\n",
       "AgeBand             0\n",
       "FamilySize          0\n",
       "TicketOccurr        0\n",
       "IsAlone             0\n",
       "FarePerPerson       0\n",
       "dtype: int64"
      ]
     },
     "execution_count": 58,
     "metadata": {},
     "output_type": "execute_result"
    }
   ],
   "source": [
    "print(f'The full dataset has {df_full.shape[0]} entries')\n",
    "df_full.isnull().sum()"
   ]
  },
  {
   "cell_type": "markdown",
   "metadata": {},
   "source": [
    "It can be seen that all missing values have been filled. The Fare column still has a missing value, but we won't use it in the following section, since it is corrected in \"fare per person\"."
   ]
  },
  {
   "cell_type": "markdown",
   "metadata": {},
   "source": [
    "<a id='Dummies_FE'></a>\n",
    "### 5.7 Making dummies of categorical variables"
   ]
  },
  {
   "cell_type": "code",
   "execution_count": 59,
   "metadata": {},
   "outputs": [
    {
     "data": {
      "text/html": [
       "<div>\n",
       "<style scoped>\n",
       "    .dataframe tbody tr th:only-of-type {\n",
       "        vertical-align: middle;\n",
       "    }\n",
       "\n",
       "    .dataframe tbody tr th {\n",
       "        vertical-align: top;\n",
       "    }\n",
       "\n",
       "    .dataframe thead th {\n",
       "        text-align: right;\n",
       "    }\n",
       "</style>\n",
       "<table border=\"1\" class=\"dataframe\">\n",
       "  <thead>\n",
       "    <tr style=\"text-align: right;\">\n",
       "      <th></th>\n",
       "      <th>Survived</th>\n",
       "      <th>Name</th>\n",
       "      <th>Sex</th>\n",
       "      <th>Age</th>\n",
       "      <th>SibSp</th>\n",
       "      <th>Parch</th>\n",
       "      <th>Ticket</th>\n",
       "      <th>Fare</th>\n",
       "      <th>Cabin</th>\n",
       "      <th>FamilySize</th>\n",
       "      <th>...</th>\n",
       "      <th>Pclass_2</th>\n",
       "      <th>Pclass_3</th>\n",
       "      <th>Title_Master</th>\n",
       "      <th>Title_Miss</th>\n",
       "      <th>Title_Mr</th>\n",
       "      <th>Title_Mrs</th>\n",
       "      <th>Title_Noble</th>\n",
       "      <th>Embarked_C</th>\n",
       "      <th>Embarked_Q</th>\n",
       "      <th>Embarked_S</th>\n",
       "    </tr>\n",
       "    <tr>\n",
       "      <th>PassengerId</th>\n",
       "      <th></th>\n",
       "      <th></th>\n",
       "      <th></th>\n",
       "      <th></th>\n",
       "      <th></th>\n",
       "      <th></th>\n",
       "      <th></th>\n",
       "      <th></th>\n",
       "      <th></th>\n",
       "      <th></th>\n",
       "      <th></th>\n",
       "      <th></th>\n",
       "      <th></th>\n",
       "      <th></th>\n",
       "      <th></th>\n",
       "      <th></th>\n",
       "      <th></th>\n",
       "      <th></th>\n",
       "      <th></th>\n",
       "      <th></th>\n",
       "      <th></th>\n",
       "    </tr>\n",
       "  </thead>\n",
       "  <tbody>\n",
       "    <tr>\n",
       "      <th>1</th>\n",
       "      <td>0.0</td>\n",
       "      <td>Braund, Mr. Owen Harris</td>\n",
       "      <td>1</td>\n",
       "      <td>22.0</td>\n",
       "      <td>1</td>\n",
       "      <td>0</td>\n",
       "      <td>A/5 21171</td>\n",
       "      <td>7.2500</td>\n",
       "      <td>NaN</td>\n",
       "      <td>2</td>\n",
       "      <td>...</td>\n",
       "      <td>0</td>\n",
       "      <td>1</td>\n",
       "      <td>0</td>\n",
       "      <td>0</td>\n",
       "      <td>1</td>\n",
       "      <td>0</td>\n",
       "      <td>0</td>\n",
       "      <td>0</td>\n",
       "      <td>0</td>\n",
       "      <td>1</td>\n",
       "    </tr>\n",
       "    <tr>\n",
       "      <th>2</th>\n",
       "      <td>1.0</td>\n",
       "      <td>Cumings, Mrs. John Bradley (Florence Briggs Th...</td>\n",
       "      <td>0</td>\n",
       "      <td>38.0</td>\n",
       "      <td>1</td>\n",
       "      <td>0</td>\n",
       "      <td>PC 17599</td>\n",
       "      <td>71.2833</td>\n",
       "      <td>C85</td>\n",
       "      <td>2</td>\n",
       "      <td>...</td>\n",
       "      <td>0</td>\n",
       "      <td>0</td>\n",
       "      <td>0</td>\n",
       "      <td>0</td>\n",
       "      <td>0</td>\n",
       "      <td>1</td>\n",
       "      <td>0</td>\n",
       "      <td>1</td>\n",
       "      <td>0</td>\n",
       "      <td>0</td>\n",
       "    </tr>\n",
       "    <tr>\n",
       "      <th>3</th>\n",
       "      <td>1.0</td>\n",
       "      <td>Heikkinen, Miss. Laina</td>\n",
       "      <td>0</td>\n",
       "      <td>26.0</td>\n",
       "      <td>0</td>\n",
       "      <td>0</td>\n",
       "      <td>STON/O2. 3101282</td>\n",
       "      <td>7.9250</td>\n",
       "      <td>NaN</td>\n",
       "      <td>1</td>\n",
       "      <td>...</td>\n",
       "      <td>0</td>\n",
       "      <td>1</td>\n",
       "      <td>0</td>\n",
       "      <td>1</td>\n",
       "      <td>0</td>\n",
       "      <td>0</td>\n",
       "      <td>0</td>\n",
       "      <td>0</td>\n",
       "      <td>0</td>\n",
       "      <td>1</td>\n",
       "    </tr>\n",
       "    <tr>\n",
       "      <th>4</th>\n",
       "      <td>1.0</td>\n",
       "      <td>Futrelle, Mrs. Jacques Heath (Lily May Peel)</td>\n",
       "      <td>0</td>\n",
       "      <td>35.0</td>\n",
       "      <td>1</td>\n",
       "      <td>0</td>\n",
       "      <td>113803</td>\n",
       "      <td>53.1000</td>\n",
       "      <td>C123</td>\n",
       "      <td>2</td>\n",
       "      <td>...</td>\n",
       "      <td>0</td>\n",
       "      <td>0</td>\n",
       "      <td>0</td>\n",
       "      <td>0</td>\n",
       "      <td>0</td>\n",
       "      <td>1</td>\n",
       "      <td>0</td>\n",
       "      <td>0</td>\n",
       "      <td>0</td>\n",
       "      <td>1</td>\n",
       "    </tr>\n",
       "    <tr>\n",
       "      <th>5</th>\n",
       "      <td>0.0</td>\n",
       "      <td>Allen, Mr. William Henry</td>\n",
       "      <td>1</td>\n",
       "      <td>35.0</td>\n",
       "      <td>0</td>\n",
       "      <td>0</td>\n",
       "      <td>373450</td>\n",
       "      <td>8.0500</td>\n",
       "      <td>NaN</td>\n",
       "      <td>1</td>\n",
       "      <td>...</td>\n",
       "      <td>0</td>\n",
       "      <td>1</td>\n",
       "      <td>0</td>\n",
       "      <td>0</td>\n",
       "      <td>1</td>\n",
       "      <td>0</td>\n",
       "      <td>0</td>\n",
       "      <td>0</td>\n",
       "      <td>0</td>\n",
       "      <td>1</td>\n",
       "    </tr>\n",
       "  </tbody>\n",
       "</table>\n",
       "<p>5 rows × 28 columns</p>\n",
       "</div>"
      ],
      "text/plain": [
       "             Survived                                               Name  Sex  \\\n",
       "PassengerId                                                                     \n",
       "1                 0.0                            Braund, Mr. Owen Harris    1   \n",
       "2                 1.0  Cumings, Mrs. John Bradley (Florence Briggs Th...    0   \n",
       "3                 1.0                             Heikkinen, Miss. Laina    0   \n",
       "4                 1.0       Futrelle, Mrs. Jacques Heath (Lily May Peel)    0   \n",
       "5                 0.0                           Allen, Mr. William Henry    1   \n",
       "\n",
       "              Age  SibSp  Parch            Ticket     Fare Cabin  FamilySize  \\\n",
       "PassengerId                                                                    \n",
       "1            22.0      1      0         A/5 21171   7.2500   NaN           2   \n",
       "2            38.0      1      0          PC 17599  71.2833   C85           2   \n",
       "3            26.0      0      0  STON/O2. 3101282   7.9250   NaN           1   \n",
       "4            35.0      1      0            113803  53.1000  C123           2   \n",
       "5            35.0      0      0            373450   8.0500   NaN           1   \n",
       "\n",
       "             ...  Pclass_2  Pclass_3  Title_Master  Title_Miss  Title_Mr  \\\n",
       "PassengerId  ...                                                           \n",
       "1            ...         0         1             0           0         1   \n",
       "2            ...         0         0             0           0         0   \n",
       "3            ...         0         1             0           1         0   \n",
       "4            ...         0         0             0           0         0   \n",
       "5            ...         0         1             0           0         1   \n",
       "\n",
       "             Title_Mrs  Title_Noble  Embarked_C  Embarked_Q  Embarked_S  \n",
       "PassengerId                                                              \n",
       "1                    0            0           0           0           1  \n",
       "2                    1            0           1           0           0  \n",
       "3                    0            0           0           0           1  \n",
       "4                    1            0           0           0           1  \n",
       "5                    0            0           0           0           1  \n",
       "\n",
       "[5 rows x 28 columns]"
      ]
     },
     "execution_count": 59,
     "metadata": {},
     "output_type": "execute_result"
    }
   ],
   "source": [
    "columns = ['AgeBand', 'Pclass', 'Title', 'Embarked']\n",
    "df_full = pd.get_dummies(df_full, columns = columns)\n",
    "\n",
    "df_full['Sex'] = df_full['Sex'].map({'male':1,'female':0})\n",
    "\n",
    "df_full.head()"
   ]
  },
  {
   "cell_type": "markdown",
   "metadata": {},
   "source": [
    "<a id='Modeling'></a>\n",
    "## 6. Modeling"
   ]
  },
  {
   "cell_type": "markdown",
   "metadata": {},
   "source": [
    "In this section, we will try to predict passenger's survival outcome based on the features that we transformed/created in the previous section."
   ]
  },
  {
   "cell_type": "markdown",
   "metadata": {},
   "source": [
    "### 6.1 Feature selection"
   ]
  },
  {
   "cell_type": "markdown",
   "metadata": {},
   "source": [
    "First, we will obtain the correlation matrix to have visual idea of the most important features.  "
   ]
  },
  {
   "cell_type": "code",
   "execution_count": 60,
   "metadata": {},
   "outputs": [
    {
     "data": {
      "image/png": "[encoded data removed]",
      "text/plain": [
       "<Figure size 3600x3600 with 2 Axes>"
      ]
     },
     "metadata": {},
     "output_type": "display_data"
    }
   ],
   "source": [
    "corr_full = df_full.corr()\n",
    "\n",
    "plt.figure(figsize = (50, 50))\n",
    "sns.heatmap(corr_full, annot = True)\n",
    "plt.title(\"Titanic survivor correlation matrix heatmap\")\n",
    "plt.show()"
   ]
  },
  {
   "cell_type": "markdown",
   "metadata": {},
   "source": [
    "Now we can select the features that will be used to train our models."
   ]
  },
  {
   "cell_type": "code",
   "execution_count": 61,
   "metadata": {},
   "outputs": [
    {
     "data": {
      "text/plain": [
       "Index(['Survived', 'Name', 'Sex', 'Age', 'SibSp', 'Parch', 'Ticket', 'Fare',\n",
       "       'Cabin', 'FamilySize', 'TicketOccurr', 'IsAlone', 'FarePerPerson',\n",
       "       'AgeBand_(0.0, 14.0]', 'AgeBand_(14.0, 28.0]', 'AgeBand_(28.0, 44.0]',\n",
       "       'AgeBand_(44.0, inf]', 'Pclass_1', 'Pclass_2', 'Pclass_3',\n",
       "       'Title_Master', 'Title_Miss', 'Title_Mr', 'Title_Mrs', 'Title_Noble',\n",
       "       'Embarked_C', 'Embarked_Q', 'Embarked_S'],\n",
       "      dtype='object')"
      ]
     },
     "execution_count": 61,
     "metadata": {},
     "output_type": "execute_result"
    }
   ],
   "source": [
    "df_full.columns"
   ]
  },
  {
   "cell_type": "code",
   "execution_count": 62,
   "metadata": {},
   "outputs": [
    {
     "data": {
      "text/html": [
       "<div>\n",
       "<style scoped>\n",
       "    .dataframe tbody tr th:only-of-type {\n",
       "        vertical-align: middle;\n",
       "    }\n",
       "\n",
       "    .dataframe tbody tr th {\n",
       "        vertical-align: top;\n",
       "    }\n",
       "\n",
       "    .dataframe thead th {\n",
       "        text-align: right;\n",
       "    }\n",
       "</style>\n",
       "<table border=\"1\" class=\"dataframe\">\n",
       "  <thead>\n",
       "    <tr style=\"text-align: right;\">\n",
       "      <th></th>\n",
       "      <th>Sex</th>\n",
       "      <th>IsAlone</th>\n",
       "      <th>AgeBand_(0.0, 14.0]</th>\n",
       "      <th>AgeBand_(14.0, 28.0]</th>\n",
       "      <th>AgeBand_(28.0, 44.0]</th>\n",
       "      <th>AgeBand_(44.0, inf]</th>\n",
       "      <th>Pclass_1</th>\n",
       "      <th>Pclass_2</th>\n",
       "      <th>Pclass_3</th>\n",
       "      <th>Title_Master</th>\n",
       "      <th>Title_Miss</th>\n",
       "      <th>Title_Mr</th>\n",
       "      <th>Title_Mrs</th>\n",
       "      <th>Title_Noble</th>\n",
       "      <th>Embarked_C</th>\n",
       "      <th>Embarked_Q</th>\n",
       "      <th>Embarked_S</th>\n",
       "    </tr>\n",
       "    <tr>\n",
       "      <th>PassengerId</th>\n",
       "      <th></th>\n",
       "      <th></th>\n",
       "      <th></th>\n",
       "      <th></th>\n",
       "      <th></th>\n",
       "      <th></th>\n",
       "      <th></th>\n",
       "      <th></th>\n",
       "      <th></th>\n",
       "      <th></th>\n",
       "      <th></th>\n",
       "      <th></th>\n",
       "      <th></th>\n",
       "      <th></th>\n",
       "      <th></th>\n",
       "      <th></th>\n",
       "      <th></th>\n",
       "    </tr>\n",
       "  </thead>\n",
       "  <tbody>\n",
       "    <tr>\n",
       "      <th>1</th>\n",
       "      <td>1</td>\n",
       "      <td>1</td>\n",
       "      <td>0</td>\n",
       "      <td>1</td>\n",
       "      <td>0</td>\n",
       "      <td>0</td>\n",
       "      <td>0</td>\n",
       "      <td>0</td>\n",
       "      <td>1</td>\n",
       "      <td>0</td>\n",
       "      <td>0</td>\n",
       "      <td>1</td>\n",
       "      <td>0</td>\n",
       "      <td>0</td>\n",
       "      <td>0</td>\n",
       "      <td>0</td>\n",
       "      <td>1</td>\n",
       "    </tr>\n",
       "    <tr>\n",
       "      <th>2</th>\n",
       "      <td>0</td>\n",
       "      <td>0</td>\n",
       "      <td>0</td>\n",
       "      <td>0</td>\n",
       "      <td>1</td>\n",
       "      <td>0</td>\n",
       "      <td>1</td>\n",
       "      <td>0</td>\n",
       "      <td>0</td>\n",
       "      <td>0</td>\n",
       "      <td>0</td>\n",
       "      <td>0</td>\n",
       "      <td>1</td>\n",
       "      <td>0</td>\n",
       "      <td>1</td>\n",
       "      <td>0</td>\n",
       "      <td>0</td>\n",
       "    </tr>\n",
       "    <tr>\n",
       "      <th>3</th>\n",
       "      <td>0</td>\n",
       "      <td>1</td>\n",
       "      <td>0</td>\n",
       "      <td>1</td>\n",
       "      <td>0</td>\n",
       "      <td>0</td>\n",
       "      <td>0</td>\n",
       "      <td>0</td>\n",
       "      <td>1</td>\n",
       "      <td>0</td>\n",
       "      <td>1</td>\n",
       "      <td>0</td>\n",
       "      <td>0</td>\n",
       "      <td>0</td>\n",
       "      <td>0</td>\n",
       "      <td>0</td>\n",
       "      <td>1</td>\n",
       "    </tr>\n",
       "    <tr>\n",
       "      <th>4</th>\n",
       "      <td>0</td>\n",
       "      <td>0</td>\n",
       "      <td>0</td>\n",
       "      <td>0</td>\n",
       "      <td>1</td>\n",
       "      <td>0</td>\n",
       "      <td>1</td>\n",
       "      <td>0</td>\n",
       "      <td>0</td>\n",
       "      <td>0</td>\n",
       "      <td>0</td>\n",
       "      <td>0</td>\n",
       "      <td>1</td>\n",
       "      <td>0</td>\n",
       "      <td>0</td>\n",
       "      <td>0</td>\n",
       "      <td>1</td>\n",
       "    </tr>\n",
       "    <tr>\n",
       "      <th>5</th>\n",
       "      <td>1</td>\n",
       "      <td>1</td>\n",
       "      <td>0</td>\n",
       "      <td>0</td>\n",
       "      <td>1</td>\n",
       "      <td>0</td>\n",
       "      <td>0</td>\n",
       "      <td>0</td>\n",
       "      <td>1</td>\n",
       "      <td>0</td>\n",
       "      <td>0</td>\n",
       "      <td>1</td>\n",
       "      <td>0</td>\n",
       "      <td>0</td>\n",
       "      <td>0</td>\n",
       "      <td>0</td>\n",
       "      <td>1</td>\n",
       "    </tr>\n",
       "  </tbody>\n",
       "</table>\n",
       "</div>"
      ],
      "text/plain": [
       "             Sex  IsAlone  AgeBand_(0.0, 14.0]  AgeBand_(14.0, 28.0]  \\\n",
       "PassengerId                                                            \n",
       "1              1        1                    0                     1   \n",
       "2              0        0                    0                     0   \n",
       "3              0        1                    0                     1   \n",
       "4              0        0                    0                     0   \n",
       "5              1        1                    0                     0   \n",
       "\n",
       "             AgeBand_(28.0, 44.0]  AgeBand_(44.0, inf]  Pclass_1  Pclass_2  \\\n",
       "PassengerId                                                                  \n",
       "1                               0                    0         0         0   \n",
       "2                               1                    0         1         0   \n",
       "3                               0                    0         0         0   \n",
       "4                               1                    0         1         0   \n",
       "5                               1                    0         0         0   \n",
       "\n",
       "             Pclass_3  Title_Master  Title_Miss  Title_Mr  Title_Mrs  \\\n",
       "PassengerId                                                            \n",
       "1                   1             0           0         1          0   \n",
       "2                   0             0           0         0          1   \n",
       "3                   1             0           1         0          0   \n",
       "4                   0             0           0         0          1   \n",
       "5                   1             0           0         1          0   \n",
       "\n",
       "             Title_Noble  Embarked_C  Embarked_Q  Embarked_S  \n",
       "PassengerId                                                   \n",
       "1                      0           0           0           1  \n",
       "2                      0           1           0           0  \n",
       "3                      0           0           0           1  \n",
       "4                      0           0           0           1  \n",
       "5                      0           0           0           1  "
      ]
     },
     "execution_count": 62,
     "metadata": {},
     "output_type": "execute_result"
    }
   ],
   "source": [
    "#features = Sex\tIsAlone\tFarePerPersonEmbarked_CEmbarked_QEmbarked_SPclass_1Pclass_2Pclass_3Title_MasterTitle_MissTitle_MrTitle_MrsTitle_NobleAgeBand_(0.0, 13.16]AgeBand_(13.16, 27.67]AgeBand_(27.67, 43.52]AgeBand_(43.52, inf]\n",
    "data = df_full.drop(['Survived','Name','Age','SibSp','Parch','Ticket','Fare','Cabin','FamilySize','TicketOccurr','FarePerPerson'],axis=1)\n",
    "\n",
    "data.head()"
   ]
  },
  {
   "cell_type": "markdown",
   "metadata": {},
   "source": [
    "Now, we can split the data into:\n",
    "\n",
    "- train: it will be the original train set but with our new features.\n",
    "- test: original test set but with the transformed features.\n",
    "- target: labels for the training examples."
   ]
  },
  {
   "cell_type": "code",
   "execution_count": 63,
   "metadata": {},
   "outputs": [
    {
     "name": "stdout",
     "output_type": "stream",
     "text": [
      "Checking data frame sizes...\n",
      "\n",
      "-Train dataset has 891 entries and 17 features\n",
      "-Test dataset has 418 entries and 17 features\n",
      "-Target dataset has 891 entries\n"
     ]
    }
   ],
   "source": [
    "train = data[0:891]               # \"original\" train set containing transformed/selected features\n",
    "test = data[891:]                 # \"original\" test set containing transformed/selected features \n",
    "target = df_train.Survived[0:891] # being df_train the original train data we imported in the beginning \n",
    "\n",
    "print(f'''Checking data frame sizes...\\n\n",
    "-Train dataset has {train.shape[0]} entries and {train.shape[1]} features\n",
    "-Test dataset has {test.shape[0]} entries and {test.shape[1]} features\n",
    "-Target dataset has { target.shape[0]} entries''')"
   ]
  },
  {
   "cell_type": "markdown",
   "metadata": {},
   "source": [
    "### 6.2 Preprocessing"
   ]
  },
  {
   "cell_type": "markdown",
   "metadata": {},
   "source": [
    "In this section, we are going to standardize our data. Besides, we define X and y for convenience (they are common names for the feature/target matrices)."
   ]
  },
  {
   "cell_type": "code",
   "execution_count": 64,
   "metadata": {},
   "outputs": [],
   "source": [
    "from sklearn.preprocessing import StandardScaler\n",
    "\n",
    "X = StandardScaler().fit_transform(train)\n",
    "y = target"
   ]
  },
  {
   "cell_type": "markdown",
   "metadata": {},
   "source": [
    "### 6.3 Model selection"
   ]
  },
  {
   "cell_type": "markdown",
   "metadata": {},
   "source": [
    "### Selecting the best ML Algorithms"
   ]
  },
  {
   "cell_type": "markdown",
   "metadata": {},
   "source": [
    "In this section, we will run several models and check their performance to select the top five. Our goal is to obtain the final predictions by using a Stacking approach.  "
   ]
  },
  {
   "cell_type": "code",
   "execution_count": 65,
   "metadata": {},
   "outputs": [],
   "source": [
    "# Some useful parameters which will come in handy later on\n",
    "ntrain = train.shape[0]\n",
    "ntest = test.shape[0]\n",
    "SEED = 2 # for reproducibility\n",
    "NFOLDS = 10 # set folds for out-of-fold prediction\n",
    "n_estimators = 100\n",
    "\n",
    "# This cross-validation object is a variation of KFold that returns stratified folds. The folds are made by preserving \n",
    "# the percentage of samples for each class.\n",
    "from sklearn.model_selection import StratifiedKFold\n",
    "\n",
    "skf = StratifiedKFold(n_splits = NFOLDS, shuffle = True, random_state = SEED)"
   ]
  },
  {
   "cell_type": "code",
   "execution_count": 66,
   "metadata": {},
   "outputs": [
    {
     "name": "stdout",
     "output_type": "stream",
     "text": [
      "CROSS VALIDATION RESULTS\n"
     ]
    },
    {
     "data": {
      "text/html": [
       "<div>\n",
       "<style scoped>\n",
       "    .dataframe tbody tr th:only-of-type {\n",
       "        vertical-align: middle;\n",
       "    }\n",
       "\n",
       "    .dataframe tbody tr th {\n",
       "        vertical-align: top;\n",
       "    }\n",
       "\n",
       "    .dataframe thead th {\n",
       "        text-align: right;\n",
       "    }\n",
       "</style>\n",
       "<table border=\"1\" class=\"dataframe\">\n",
       "  <thead>\n",
       "    <tr style=\"text-align: right;\">\n",
       "      <th></th>\n",
       "      <th>Model</th>\n",
       "      <th>CVMeanScore</th>\n",
       "      <th>MeanTestScore</th>\n",
       "      <th>MeanTrainScore</th>\n",
       "    </tr>\n",
       "  </thead>\n",
       "  <tbody>\n",
       "    <tr>\n",
       "      <th>0</th>\n",
       "      <td>LogisticRegression</td>\n",
       "      <td>0.809164</td>\n",
       "      <td>0.809164</td>\n",
       "      <td>0.816560</td>\n",
       "    </tr>\n",
       "    <tr>\n",
       "      <th>1</th>\n",
       "      <td>Perceptron</td>\n",
       "      <td>0.706030</td>\n",
       "      <td>0.706030</td>\n",
       "      <td>0.736623</td>\n",
       "    </tr>\n",
       "    <tr>\n",
       "      <th>2</th>\n",
       "      <td>SGDClassifier</td>\n",
       "      <td>0.758664</td>\n",
       "      <td>0.758664</td>\n",
       "      <td>0.769049</td>\n",
       "    </tr>\n",
       "    <tr>\n",
       "      <th>3</th>\n",
       "      <td>SVC</td>\n",
       "      <td>0.824894</td>\n",
       "      <td>0.824894</td>\n",
       "      <td>0.838383</td>\n",
       "    </tr>\n",
       "    <tr>\n",
       "      <th>4</th>\n",
       "      <td>KNeighborsClassifier</td>\n",
       "      <td>0.814819</td>\n",
       "      <td>0.814819</td>\n",
       "      <td>0.833021</td>\n",
       "    </tr>\n",
       "    <tr>\n",
       "      <th>5</th>\n",
       "      <td>GaussianNB</td>\n",
       "      <td>0.788964</td>\n",
       "      <td>0.788964</td>\n",
       "      <td>0.792118</td>\n",
       "    </tr>\n",
       "    <tr>\n",
       "      <th>6</th>\n",
       "      <td>RandomForestClassifier</td>\n",
       "      <td>0.815893</td>\n",
       "      <td>0.815893</td>\n",
       "      <td>0.850605</td>\n",
       "    </tr>\n",
       "    <tr>\n",
       "      <th>7</th>\n",
       "      <td>ExtraTreesClassifier</td>\n",
       "      <td>0.822659</td>\n",
       "      <td>0.822659</td>\n",
       "      <td>0.850605</td>\n",
       "    </tr>\n",
       "    <tr>\n",
       "      <th>8</th>\n",
       "      <td>AdaBoostClassifier</td>\n",
       "      <td>0.800187</td>\n",
       "      <td>0.800187</td>\n",
       "      <td>0.807706</td>\n",
       "    </tr>\n",
       "    <tr>\n",
       "      <th>9</th>\n",
       "      <td>GradientBoostingClassifier</td>\n",
       "      <td>0.826005</td>\n",
       "      <td>0.826005</td>\n",
       "      <td>0.837760</td>\n",
       "    </tr>\n",
       "  </tbody>\n",
       "</table>\n",
       "</div>"
      ],
      "text/plain": [
       "                        Model  CVMeanScore  MeanTestScore  MeanTrainScore\n",
       "0          LogisticRegression     0.809164       0.809164        0.816560\n",
       "1                  Perceptron     0.706030       0.706030        0.736623\n",
       "2               SGDClassifier     0.758664       0.758664        0.769049\n",
       "3                         SVC     0.824894       0.824894        0.838383\n",
       "4        KNeighborsClassifier     0.814819       0.814819        0.833021\n",
       "5                  GaussianNB     0.788964       0.788964        0.792118\n",
       "6      RandomForestClassifier     0.815893       0.815893        0.850605\n",
       "7        ExtraTreesClassifier     0.822659       0.822659        0.850605\n",
       "8          AdaBoostClassifier     0.800187       0.800187        0.807706\n",
       "9  GradientBoostingClassifier     0.826005       0.826005        0.837760"
      ]
     },
     "metadata": {},
     "output_type": "display_data"
    },
    {
     "name": "stdout",
     "output_type": "stream",
     "text": [
      "TOP 5 ALGORITHMS\n"
     ]
    },
    {
     "data": {
      "text/html": [
       "<div>\n",
       "<style scoped>\n",
       "    .dataframe tbody tr th:only-of-type {\n",
       "        vertical-align: middle;\n",
       "    }\n",
       "\n",
       "    .dataframe tbody tr th {\n",
       "        vertical-align: top;\n",
       "    }\n",
       "\n",
       "    .dataframe thead th {\n",
       "        text-align: right;\n",
       "    }\n",
       "</style>\n",
       "<table border=\"1\" class=\"dataframe\">\n",
       "  <thead>\n",
       "    <tr style=\"text-align: right;\">\n",
       "      <th></th>\n",
       "      <th>Model</th>\n",
       "      <th>CVMeanScore</th>\n",
       "      <th>MeanTestScore</th>\n",
       "      <th>MeanTrainScore</th>\n",
       "    </tr>\n",
       "  </thead>\n",
       "  <tbody>\n",
       "    <tr>\n",
       "      <th>0</th>\n",
       "      <td>GradientBoostingClassifier</td>\n",
       "      <td>0.826005</td>\n",
       "      <td>0.826005</td>\n",
       "      <td>0.837760</td>\n",
       "    </tr>\n",
       "    <tr>\n",
       "      <th>1</th>\n",
       "      <td>SVC</td>\n",
       "      <td>0.824894</td>\n",
       "      <td>0.824894</td>\n",
       "      <td>0.838383</td>\n",
       "    </tr>\n",
       "    <tr>\n",
       "      <th>2</th>\n",
       "      <td>ExtraTreesClassifier</td>\n",
       "      <td>0.822659</td>\n",
       "      <td>0.822659</td>\n",
       "      <td>0.850605</td>\n",
       "    </tr>\n",
       "    <tr>\n",
       "      <th>3</th>\n",
       "      <td>RandomForestClassifier</td>\n",
       "      <td>0.815893</td>\n",
       "      <td>0.815893</td>\n",
       "      <td>0.850605</td>\n",
       "    </tr>\n",
       "    <tr>\n",
       "      <th>4</th>\n",
       "      <td>KNeighborsClassifier</td>\n",
       "      <td>0.814819</td>\n",
       "      <td>0.814819</td>\n",
       "      <td>0.833021</td>\n",
       "    </tr>\n",
       "  </tbody>\n",
       "</table>\n",
       "</div>"
      ],
      "text/plain": [
       "                        Model  CVMeanScore  MeanTestScore  MeanTrainScore\n",
       "0  GradientBoostingClassifier     0.826005       0.826005        0.837760\n",
       "1                         SVC     0.824894       0.824894        0.838383\n",
       "2        ExtraTreesClassifier     0.822659       0.822659        0.850605\n",
       "3      RandomForestClassifier     0.815893       0.815893        0.850605\n",
       "4        KNeighborsClassifier     0.814819       0.814819        0.833021"
      ]
     },
     "metadata": {},
     "output_type": "display_data"
    }
   ],
   "source": [
    "from sklearn.linear_model import LogisticRegression, Perceptron, SGDClassifier\n",
    "from sklearn.svm import SVC\n",
    "from sklearn.neighbors import KNeighborsClassifier\n",
    "from sklearn.naive_bayes import GaussianNB\n",
    "from sklearn.tree import DecisionTreeClassifier\n",
    "from sklearn.ensemble import RandomForestClassifier, AdaBoostClassifier, GradientBoostingClassifier, ExtraTreesClassifier\n",
    "\n",
    "from sklearn.model_selection import cross_val_score\n",
    "\n",
    "models = [LogisticRegression(\n",
    "             random_state = SEED),\n",
    "          Perceptron(\n",
    "              random_state = SEED), \n",
    "          SGDClassifier(\n",
    "              random_state = SEED), \n",
    "          SVC(\n",
    "              random_state = SEED), \n",
    "          KNeighborsClassifier(\n",
    "              ), \n",
    "          GaussianNB(\n",
    "              ),\n",
    "          RandomForestClassifier(\n",
    "              random_state = SEED,\n",
    "              n_estimators = n_estimators),\n",
    "          ExtraTreesClassifier(\n",
    "              random_state = SEED,\n",
    "              n_estimators = n_estimators),\n",
    "          AdaBoostClassifier(\n",
    "              random_state = SEED,\n",
    "              n_estimators = n_estimators),\n",
    "          GradientBoostingClassifier(\n",
    "              random_state = SEED, \n",
    "              n_estimators = n_estimators)\n",
    "         ]\n",
    "\n",
    "# Lists to store the results\n",
    "model_name = []\n",
    "acc_test = []\n",
    "acc_train = []\n",
    "cv_scores = []\n",
    "\n",
    "for model in models:\n",
    "    \n",
    "    acc_test_aux = []\n",
    "    acc_train_aux = []\n",
    "    \n",
    "    for train_index, test_index in skf.split(X, y):\n",
    "        X_train = X[train_index]\n",
    "        y_train = y[train_index]\n",
    "        X_test = X[test_index]\n",
    "        y_test = y[test_index]\n",
    "        \n",
    "        model.fit(X_train, y_train)\n",
    "        y_pred = model.predict(X_test)\n",
    "        acc_test_aux.append(model.score(X_test, y_test))\n",
    "        acc_train_aux.append(model.score(X_train, y_train))\n",
    "        \n",
    "    acc_test.append(np.mean(acc_test_aux))\n",
    "    acc_train.append(np.mean(acc_train_aux))\n",
    "    model_name.append(model.__class__.__name__)\n",
    "    cv_scores.append(cross_val_score(model, X, y, cv = skf))\n",
    "\n",
    "results = pd.DataFrame({\n",
    "    'Model': model_name,\n",
    "    'CVScore' : cv_scores,\n",
    "    'MeanTestScore': acc_test,\n",
    "    'MeanTrainScore': acc_train\n",
    "    })\n",
    "\n",
    "# We need to obtain the mean value for the CVScore column\n",
    "results.insert(1, 'CVMeanScore', np.mean(results['CVScore'].tolist(), axis = 1))\n",
    "results.drop(['CVScore'], axis = 1, inplace = True)\n",
    "\n",
    "print('Cross validation results'.upper())\n",
    "display(results)\n",
    "\n",
    "# Finally, we select the top 5 algorithms based on the CVMeanScore\n",
    "results_top5 = results.sort_values(by = 'CVMeanScore', ascending = False, ignore_index = True).head()\n",
    "\n",
    "print('Top 5 algorithms'.upper())\n",
    "display(results_top5)"
   ]
  },
  {
   "cell_type": "markdown",
   "metadata": {},
   "source": [
    "### 6.4 Hyperparameter tuning"
   ]
  },
  {
   "cell_type": "code",
   "execution_count": 67,
   "metadata": {},
   "outputs": [
    {
     "data": {
      "text/html": [
       "<div>\n",
       "<style scoped>\n",
       "    .dataframe tbody tr th:only-of-type {\n",
       "        vertical-align: middle;\n",
       "    }\n",
       "\n",
       "    .dataframe tbody tr th {\n",
       "        vertical-align: top;\n",
       "    }\n",
       "\n",
       "    .dataframe thead th {\n",
       "        text-align: right;\n",
       "    }\n",
       "</style>\n",
       "<table border=\"1\" class=\"dataframe\">\n",
       "  <thead>\n",
       "    <tr style=\"text-align: right;\">\n",
       "      <th></th>\n",
       "      <th>Model</th>\n",
       "      <th>CVMeanScore</th>\n",
       "      <th>MeanTestScore</th>\n",
       "      <th>MeanTrainScore</th>\n",
       "    </tr>\n",
       "  </thead>\n",
       "  <tbody>\n",
       "    <tr>\n",
       "      <th>0</th>\n",
       "      <td>GradientBoostingClassifier</td>\n",
       "      <td>0.826005</td>\n",
       "      <td>0.826005</td>\n",
       "      <td>0.837760</td>\n",
       "    </tr>\n",
       "    <tr>\n",
       "      <th>1</th>\n",
       "      <td>SVC</td>\n",
       "      <td>0.824894</td>\n",
       "      <td>0.824894</td>\n",
       "      <td>0.838383</td>\n",
       "    </tr>\n",
       "    <tr>\n",
       "      <th>2</th>\n",
       "      <td>ExtraTreesClassifier</td>\n",
       "      <td>0.822659</td>\n",
       "      <td>0.822659</td>\n",
       "      <td>0.850605</td>\n",
       "    </tr>\n",
       "    <tr>\n",
       "      <th>3</th>\n",
       "      <td>RandomForestClassifier</td>\n",
       "      <td>0.815893</td>\n",
       "      <td>0.815893</td>\n",
       "      <td>0.850605</td>\n",
       "    </tr>\n",
       "    <tr>\n",
       "      <th>4</th>\n",
       "      <td>KNeighborsClassifier</td>\n",
       "      <td>0.814819</td>\n",
       "      <td>0.814819</td>\n",
       "      <td>0.833021</td>\n",
       "    </tr>\n",
       "  </tbody>\n",
       "</table>\n",
       "</div>"
      ],
      "text/plain": [
       "                        Model  CVMeanScore  MeanTestScore  MeanTrainScore\n",
       "0  GradientBoostingClassifier     0.826005       0.826005        0.837760\n",
       "1                         SVC     0.824894       0.824894        0.838383\n",
       "2        ExtraTreesClassifier     0.822659       0.822659        0.850605\n",
       "3      RandomForestClassifier     0.815893       0.815893        0.850605\n",
       "4        KNeighborsClassifier     0.814819       0.814819        0.833021"
      ]
     },
     "metadata": {},
     "output_type": "display_data"
    }
   ],
   "source": [
    "display(results_top5)"
   ]
  },
  {
   "cell_type": "markdown",
   "metadata": {},
   "source": [
    "Finally, we'll go with GradientBoostingClassifier, SVC, KNeighborsClassifier, DecisionTreeClassifier and ExtraTreesClassifier. We have to fine tune each algorithm before obtaining the predictions."
   ]
  },
  {
   "cell_type": "markdown",
   "metadata": {},
   "source": [
    "# Test\n",
    "https://www.kaggle.com/arthurtok/introduction-to-ensembling-stacking-in-python/notebook"
   ]
  },
  {
   "cell_type": "code",
   "execution_count": null,
   "metadata": {},
   "outputs": [],
   "source": [
    "# Class to extend the Sklearn classifier\n",
    "class SklearnHelper(object):\n",
    "#    def __init__(self, clf, seed=0, params=None):\n",
    "#        params['random_state'] = seed\n",
    "#        self.clf = clf(**params)\n",
    "        \n",
    "    def __init__(self, clf, params=None):\n",
    "        self.clf = clf(**params)\n",
    "\n",
    "    def train(self, x_train, y_train):\n",
    "        self.clf.fit(x_train, y_train)\n",
    "\n",
    "    def predict(self, x):\n",
    "        return self.clf.predict(x)\n",
    "    \n",
    "    def fit(self,x,y):\n",
    "        return self.clf.fit(x,y)\n",
    "    \n",
    "    def feature_importances(self,x,y):\n",
    "        print(self.clf.fit(x,y).feature_importances_)"
   ]
  },
  {
   "cell_type": "code",
   "execution_count": null,
   "metadata": {},
   "outputs": [],
   "source": [
    "def get_oof(clf, x_train, y_train, x_test):\n",
    "    oof_train = np.zeros((ntrain,)) #array vacio de longitud igual al numero de el de train en dataset\n",
    "    oof_test = np.zeros((ntest,)) #lo mismo con el test\n",
    "    oof_test_skf = np.empty((NFOLDS, ntest)) #tantas filas como KFolds y columnas igual a elemetos de test en dataset\n",
    "\n",
    "    for i, (train_index, test_index) in enumerate(kf.split(x_train,y_train)): #i es el iterable de kfolds, train index y test index los valores que kfolds asigna a los elementos del train set\n",
    "        x_tr = x_train[train_index] #train del train set (crossvalidation)\n",
    "        y_tr = y_train[train_index] #etiquetas del train cross validation\n",
    "        x_te = x_train[test_index] # test del train set (crossvalidation)\n",
    "\n",
    "        clf.train(x_tr, y_tr) #entrena modelo con train cv\n",
    "\n",
    "        oof_train[test_index] = clf.predict(x_te) #predice valores de test crossvalidation\n",
    "        oof_test_skf[i, :] = clf.predict(x_test) #valores predichos del testset de verdad\n",
    "\n",
    "    oof_test[:] = oof_test_skf.mean(axis=0) #media en columnas de la prediccion de los kfolds del test dataset original\n",
    "    return oof_train.reshape(-1, 1), oof_test.reshape(-1, 1) #devuelve los valores de test crossvalidation y del test de verdad"
   ]
  },
  {
   "cell_type": "code",
   "execution_count": null,
   "metadata": {},
   "outputs": [],
   "source": [
    "gbc_params={'random_state':random_state, \n",
    "            'n_estimators':n_estimators}\n",
    "\n",
    "svc_params={'random_state':random_state}\n",
    "\n",
    "ada_params = {\n",
    "    'n_estimators': 500,\n",
    "    'learning_rate' : 0.75\n",
    "}\n",
    "\n",
    "rf_params={'random_state':random_state,\n",
    "           'n_estimators':n_estimators}\n",
    "             \n",
    "et_params={'random_state':random_state,\n",
    "           'n_estimators': n_estimators}\n"
   ]
  },
  {
   "cell_type": "code",
   "execution_count": null,
   "metadata": {},
   "outputs": [],
   "source": [
    "gbc = SklearnHelper(clf=GradientBoostingClassifier, seed=SEED, params=gbc_params)\n",
    "svc = SklearnHelper(clf=SVC, seed=SEED, params=svc_params)\n",
    "ada = SklearnHelper(clf=AdaBoostClassifier, seed=SEED, params=ada_params)\n",
    "rf = SklearnHelper(clf=RandomForestClassifier, seed=SEED, params=rf_params)\n",
    "et = SklearnHelper(clf=ExtraTreesClassifier, seed=SEED, params=et_params)"
   ]
  },
  {
   "cell_type": "code",
   "execution_count": null,
   "metadata": {},
   "outputs": [],
   "source": [
    "# pandas originales: train, target y test\n",
    "# X e y es el training set preprocesado\n",
    "# X\n",
    "\n",
    "y_train = target.ravel()\n",
    "\n",
    "x_train = train.values # Creates an array of the train data\n",
    "x_test = test.values # Creats an array of the test data"
   ]
  },
  {
   "cell_type": "code",
   "execution_count": null,
   "metadata": {},
   "outputs": [],
   "source": [
    "# Create our OOF train and test predictions. These base results will be used as new features\n",
    "gbc_oof_train, gbc_oof_test = get_oof(gbc, x_train, y_train, x_test) # Extra Trees\n",
    "svc_oof_train, svc_oof_test = get_oof(svc,x_train, y_train, x_test) # Random Forest\n",
    "ada_oof_train, ada_oof_test = get_oof(ada, x_train, y_train, x_test) # AdaBoost \n",
    "rf_oof_train, rf_oof_test = get_oof(rf,x_train, y_train, x_test) # Gradient Boost\n",
    "et_oof_train, et_oof_test = get_oof(et,x_train, y_train, x_test) # Support Vector Classifier\n",
    "\n",
    "print(\"Training is complete\")"
   ]
  },
  {
   "cell_type": "code",
   "execution_count": null,
   "metadata": {},
   "outputs": [],
   "source": [
    "len(gbc_oof_test)"
   ]
  },
  {
   "cell_type": "code",
   "execution_count": null,
   "metadata": {},
   "outputs": [],
   "source": [
    "print(NFOLDS)"
   ]
  },
  {
   "cell_type": "code",
   "execution_count": null,
   "metadata": {},
   "outputs": [],
   "source": [
    "gbc_feature = gbc.feature_importances(x_train,y_train)\n",
    "ada_feature = ada.feature_importances(x_train,y_train)\n",
    "rf_feature = rf.feature_importances(x_train,y_train)\n",
    "et_feature = et.feature_importances(x_train,y_train)"
   ]
  },
  {
   "cell_type": "code",
   "execution_count": null,
   "metadata": {},
   "outputs": [],
   "source": [
    "gbc_feature=[0.11329864, 0.01132495, 0.01272011, 0.00823823, 0.00441233, 0.01471281,\n",
    "             0.05439059, 0.00187878, 0.15303081, 0.01330474, 0.00112209, 0.51160441,\n",
    "             0.00213944, 0.04860876, 0.00686277, 0.00721306, 0.0351375]\n",
    "ada_feature=[0.332, 0.016, 0.006, 0.004, 0.002, 0.01,  0.014, 0.0,   0.006, 0.048, 0.264, 0.064,\n",
    "             0.21,  0.01,  0.006, 0.006, 0.002]\n",
    "rt_feature=[0.18969749, 0.05567656, 0.02153451, 0.02906707, 0.01997672, 0.01707264,\n",
    "            0.06894833, 0.03834659, 0.10919924, 0.01306756, 0.05787117, 0.21685931,\n",
    "            0.0760907,  0.01081022, 0.02660153, 0.0179094,  0.03127098]\n",
    "et_feature =[0.17484683, 0.05056814, 0.02115633, 0.02434329, 0.01449115, 0.01399782,\n",
    "             0.07090722, 0.04013149, 0.09906829, 0.01364253, 0.06034052, 0.25971718,\n",
    "             0.07086909, 0.01459243, 0.02823044, 0.01628112, 0.02681614]\n"
   ]
  },
  {
   "cell_type": "code",
   "execution_count": null,
   "metadata": {},
   "outputs": [],
   "source": [
    "cols = train.columns.values\n",
    "# Create a dataframe with features\n",
    "feature_dataframe = pd.DataFrame({'features': cols,\n",
    "                                  'Gradient Boost feature importances': gbc_feature,\n",
    "                                  'AdaBoost feature importances': ada_feature,\n",
    "                                  'Random Trees feature importances': rt_feature,\n",
    "                                  'Extra Trees  feature importances': et_feature\n",
    "                                 })"
   ]
  },
  {
   "cell_type": "code",
   "execution_count": null,
   "metadata": {},
   "outputs": [],
   "source": [
    "feature_dataframe.head()"
   ]
  },
  {
   "cell_type": "code",
   "execution_count": null,
   "metadata": {},
   "outputs": [],
   "source": [
    "plt.figure(figsize=(10,5))\n",
    "chart = sns.scatterplot(x = 'features',y='Gradient Boost feature importances',data=feature_dataframe)\n",
    "plt.xticks(\n",
    "    rotation=45, \n",
    "    horizontalalignment='right',\n",
    "    fontweight='light',\n",
    "    fontsize='large'  \n",
    ")"
   ]
  },
  {
   "cell_type": "code",
   "execution_count": null,
   "metadata": {},
   "outputs": [],
   "source": [
    "feature_dataframe['mean'] = feature_dataframe.mean(axis= 1)\n",
    "feature_dataframe.sort_values(by = 'mean', ascending = False, ignore_index = True).head()"
   ]
  },
  {
   "cell_type": "code",
   "execution_count": null,
   "metadata": {},
   "outputs": [],
   "source": [
    "plt.figure(figsize=(10,5))\n",
    "chart = sns.scatterplot(x = 'features',y='mean',data=feature_dataframe)\n",
    "plt.xticks(\n",
    "    rotation=45, \n",
    "    horizontalalignment='right',\n",
    "    fontweight='light',\n",
    "    fontsize='large'  \n",
    ")"
   ]
  },
  {
   "cell_type": "code",
   "execution_count": null,
   "metadata": {},
   "outputs": [],
   "source": [
    "base_predictions_train = pd.DataFrame({'GradientBoost': gbc_oof_train.ravel(),\n",
    "                                       'AdaBoost': ada_oof_train.ravel(),\n",
    "                                       'RandomForest': rf_oof_train.ravel(),\n",
    "                                       'ExtraTrees': et_oof_train.ravel()\n",
    "                                      })\n",
    "base_predictions_train.head()"
   ]
  },
  {
   "cell_type": "code",
   "execution_count": null,
   "metadata": {},
   "outputs": [],
   "source": [
    "#import plotly.offline as py\n",
    "#py.init_notebook_mode(connected=True)\n",
    "#import plotly.graph_objs as go\n",
    "#import plotly.tools as tls\n",
    "\n",
    "#data = [\n",
    "#    go.Heatmap(\n",
    "#        z= base_predictions_train.astype(float).corr().values ,\n",
    "#        x=base_predictions_train.columns.values,\n",
    "#        y= base_predictions_train.columns.values,\n",
    "#          colorscale='Viridis',\n",
    "#            showscale=True,\n",
    "#            reversescale = True\n",
    "#    )\n",
    "#]\n",
    "#py.iplot(data, filename='labelled-heatmap')"
   ]
  },
  {
   "cell_type": "code",
   "execution_count": null,
   "metadata": {},
   "outputs": [],
   "source": [
    "x_train = np.concatenate(( gbc_oof_train, svc_oof_train, ada_oof_train, rf_oof_train, et_oof_train), axis=1)\n",
    "x_test = np.concatenate(( gbc_oof_test, svc_oof_test, ada_oof_test, rf_oof_test, et_oof_test), axis=1)"
   ]
  },
  {
   "cell_type": "code",
   "execution_count": null,
   "metadata": {},
   "outputs": [],
   "source": []
  },
  {
   "cell_type": "code",
   "execution_count": null,
   "metadata": {},
   "outputs": [],
   "source": [
    "import xgboost as xgb\n",
    "\n",
    "gbm = xgb.XGBClassifier(\n",
    "    #learning_rate = 0.02,\n",
    " n_estimators= 2000,\n",
    " max_depth= 4,\n",
    " min_child_weight= 2,\n",
    " #gamma=1,\n",
    " gamma=0.9,                        \n",
    " subsample=0.8,\n",
    " colsample_bytree=0.8,\n",
    " objective= 'binary:logistic',\n",
    " nthread= -1,\n",
    " scale_pos_weight=1).fit(x_train, y_train)\n",
    "predictions = gbm.predict(x_test)"
   ]
  },
  {
   "cell_type": "code",
   "execution_count": null,
   "metadata": {},
   "outputs": [],
   "source": [
    "len(predictions)"
   ]
  },
  {
   "cell_type": "code",
   "execution_count": null,
   "metadata": {},
   "outputs": [],
   "source": []
  },
  {
   "cell_type": "code",
   "execution_count": null,
   "metadata": {},
   "outputs": [],
   "source": [
    "# Generate Submission File \n",
    "StackingSubmission = pd.DataFrame({ 'PassengerId': df_test[\"PassengerId\"],\n",
    "                            'Survived': predictions })\n",
    "StackingSubmission.to_csv(\"StackingSubmission.csv\", index=False)\n",
    "\n",
    "#submission = pd.DataFrame({\n",
    "#       \"PassengerId\": df_test[\"PassengerId\"],\n",
    "#       \"Survived\": y_val\n",
    "#   })\n",
    "#\n",
    "#print(submission.shape)\n",
    "#submission.to_csv('titanic_svc.csv', index=False)"
   ]
  },
  {
   "cell_type": "markdown",
   "metadata": {},
   "source": [
    "#### 6.4.2 SVC"
   ]
  },
  {
   "cell_type": "code",
   "execution_count": null,
   "metadata": {},
   "outputs": [],
   "source": [
    "from sklearn import svm\n",
    "from sklearn.model_selection import train_test_split\n",
    "from sklearn.metrics import f1_score, accuracy_score\n",
    "from sklearn.metrics import classification_report\n",
    "from sklearn.metrics import confusion_matrix\n",
    "from sklearn.model_selection import GridSearchCV"
   ]
  },
  {
   "cell_type": "code",
   "execution_count": null,
   "metadata": {},
   "outputs": [],
   "source": [
    "X_train, X_test, y_train, y_test = train_test_split(X, y, test_size=0.2, random_state=4)\n",
    "print ('Train set:', X_train.shape,  y_train.shape)\n",
    "print ('Test set:', X_test.shape,  y_test.shape)\n",
    "print('\\n')"
   ]
  },
  {
   "cell_type": "code",
   "execution_count": null,
   "metadata": {},
   "outputs": [],
   "source": [
    "clf_rbf = svm.SVC(kernel='rbf')\n",
    "clf_rbf.fit(X_train, y_train) \n",
    "yhat = clf_rbf.predict(X_test)\n",
    "mat=confusion_matrix(y_test, yhat)\n",
    "sns.heatmap(mat.T, cmap=(\"Blues\"), square=True, annot=True, fmt='d', cbar=False,\n",
    "            xticklabels=['Not survived','Survived'],\n",
    "            yticklabels=['Not survived','Survived'])\n",
    "plt.xlabel('true label')\n",
    "plt.ylabel('predicted label');\n",
    "print(classification_report(y_test, yhat))"
   ]
  },
  {
   "cell_type": "markdown",
   "metadata": {},
   "source": [
    "True or false indicated if the classifier predicted the class correctly. Positive or negative indicates if the classifier predicted the desired class."
   ]
  },
  {
   "cell_type": "code",
   "execution_count": null,
   "metadata": {},
   "outputs": [],
   "source": [
    "from sklearn.model_selection import learning_curve , ShuffleSplit\n",
    "from plot_learning_curve import plot_learning_curve"
   ]
  },
  {
   "cell_type": "code",
   "execution_count": null,
   "metadata": {},
   "outputs": [],
   "source": [
    "from sklearn.model_selection import learning_curve\n",
    "from sklearn.model_selection import ShuffleSplit\n",
    "\n",
    "title = r\"Learning Curves (SVM, RBF kernel)\"\n",
    "# SVC is more expensive so we do a lower number of CV iterations:\n",
    "cv = ShuffleSplit(n_splits=10, test_size=0.2, random_state=0)\n",
    "plot_learning_curve(clf_rbf, title, X, y, ylim=(0.7, 1.01),\n",
    "                    cv=cv, n_jobs=-1)\n",
    "\n",
    "plt.show()"
   ]
  },
  {
   "cell_type": "code",
   "execution_count": null,
   "metadata": {},
   "outputs": [],
   "source": [
    "print(f'Tuned SCV Accuracy: {round(accuracy_score(y_test, yhat), 2)}')"
   ]
  },
  {
   "cell_type": "code",
   "execution_count": null,
   "metadata": {},
   "outputs": [],
   "source": [
    "X_val=validation\n",
    "X_val=preprocessing.StandardScaler().fit(train).transform(X_val)\n",
    "y_val=clf_rbf.predict(X_val)\n",
    "\n",
    "#print(f'Tuned SCV Accuracy: {round(accuracy_score(y_test, y_val), 2)}')"
   ]
  },
  {
   "cell_type": "code",
   "execution_count": null,
   "metadata": {},
   "outputs": [],
   "source": [
    "submission = pd.DataFrame({\n",
    "       \"PassengerId\": df_test[\"PassengerId\"],\n",
    "       \"Survived\": y_val\n",
    "   })\n",
    "\n",
    "print(submission.shape)\n",
    "submission.to_csv('titanic_svc.csv', index=False)\n",
    "\n",
    "#kaggle competitions submit -c titanic -f titanic_svc_test.csv -m \"Test of automatic submission\""
   ]
  },
  {
   "cell_type": "code",
   "execution_count": null,
   "metadata": {},
   "outputs": [],
   "source": []
  },
  {
   "cell_type": "markdown",
   "metadata": {},
   "source": [
    "### Optimized SVM"
   ]
  },
  {
   "cell_type": "code",
   "execution_count": null,
   "metadata": {},
   "outputs": [],
   "source": [
    "#C_val=[0.01, 0.05, 0.1, 0.5, 1, 10]\n",
    "#gamma_val=['scale','auto',0.01, 0.05, 0.1, 0.5, 1, 10]\n",
    "\n",
    "#C_val=[0.1, 1, 10, 100, 1000] \n",
    "#gamma_val=[1, 0.1, 0.01, 0.001, 0.0001]\n",
    "\n",
    "C_val = [0.1, 1, 10, 50, 100, 500] \n",
    "gamma_val = [0.1, 0.01, 0.001]\n",
    "\n",
    "\n",
    "#param_grid = [\n",
    "#    {'kernel': ['linear'], 'C': C_val},\n",
    "#    {'kernel': ['poly'], 'C': C_val, 'degree': [2, 3, 4, 5], 'gamma': ['scale', 'auto']},\n",
    "#    {'kernel': ['rbf'], 'C': C_val, 'gamma': ['scale', 'auto']},\n",
    "#    {'kernel': ['sigmoid'], 'C': C_val, 'gamma': ['scale', 'auto']}\n",
    "#    ]\n",
    "\n",
    "\n",
    "param_grid = [\n",
    "    {'kernel': ['linear'], 'C': C_val},\n",
    "    {'kernel': ['poly'], 'C': C_val, 'degree': [2, 3, 4, 5], 'gamma': gamma_val},\n",
    "    {'kernel': ['rbf'], 'C': C_val, 'gamma': gamma_val},\n",
    "    {'kernel': ['sigmoid'], 'C': C_val, 'gamma': gamma_val}\n",
    "    ]\n",
    "\n",
    "#param_grid = [\n",
    "#    {'kernel': ['poly'], 'C': [0.05, 0.1, 0.5, 1, 5], 'degree': [2, 3, 4]},\n",
    "#    {'kernel': ['rbf'], 'C': [0.05, 0.1, 0.5, 1, 5]},\n",
    "#    {'kernel': ['sigmoid'], 'C': [0.05, 0.1, 0.5, 1, 5]}\n",
    "#    ]\n",
    "\n",
    "#param_grid = [{'kernel': ['rbf'], 'C': [0.1, 0.5]}\n",
    "#             ]"
   ]
  },
  {
   "cell_type": "code",
   "execution_count": null,
   "metadata": {},
   "outputs": [],
   "source": [
    "param_grid = {\"C\": [1, 10, 50, 600],\n",
    "              'kernel':['linear', 'poly', 'rbf', 'sigmoid'],\n",
    "              \"gamma\": [0.01, 0.001],\n",
    "              'degree': [2, 3, 4]}"
   ]
  },
  {
   "cell_type": "code",
   "execution_count": null,
   "metadata": {},
   "outputs": [],
   "source": [
    "svc = svm.SVC()\n",
    "clf_svc_grid = GridSearchCV(svc, param_grid, cv=5, n_jobs=-1)\n",
    "best_model = clf_svc_grid.fit(train, target)\n",
    "\n",
    "#Print the value of best Hyperparameters\n",
    "print('Best kernel:', best_model.best_estimator_.get_params()['kernel'])\n",
    "print('Best C:', best_model.best_estimator_.get_params()['C'])\n",
    "print('Best degree:', best_model.best_estimator_.get_params()['degree'])\n",
    "print('Best gamma:', best_model.best_estimator_.get_params()['gamma'])"
   ]
  },
  {
   "cell_type": "code",
   "execution_count": null,
   "metadata": {},
   "outputs": [],
   "source": [
    "print(\"Scores across the parameter grid:\")\n",
    "GridSCVResults = pd.DataFrame(clf_svc_grid.cv_results_)\n",
    "\n",
    "for i in range(0,len(GridSCVResults)):\n",
    "    print(GridSCVResults.params[i], '-->',\n",
    "    round(GridSCVResults.mean_test_score[i],3))"
   ]
  },
  {
   "cell_type": "code",
   "execution_count": null,
   "metadata": {},
   "outputs": [],
   "source": [
    "#Print the value of best Hyperparameters\n",
    "print('Best kernel:', best_model.best_estimator_.get_params()['kernel'])\n",
    "print('Best C:', best_model.best_estimator_.get_params()['C'])\n",
    "print('Best degree:', best_model.best_estimator_.get_params()['degree'])\n",
    "print('Best gamma:', best_model.best_estimator_.get_params()['gamma'])"
   ]
  },
  {
   "cell_type": "code",
   "execution_count": null,
   "metadata": {},
   "outputs": [],
   "source": [
    "param_grid_2 = [\n",
    "                {'kernel': ['poly'], 'C': [30, 35, 50, 55, 60, 65], 'degree': [2, 3, 4, 5], 'gamma': [0.1, 0.01, 0.001]},\n",
    "               ]\n"
   ]
  },
  {
   "cell_type": "code",
   "execution_count": null,
   "metadata": {},
   "outputs": [],
   "source": [
    "svc = svm.SVC()\n",
    "clf_svc_grid = GridSearchCV(svc, param_grid_2, cv=5, n_jobs=-1)\n",
    "best_model = clf_svc_grid.fit(train, target)\n",
    "\n",
    "#Print the value of best Hyperparameters\n",
    "print('Best kernel:', best_model.best_estimator_.get_params()['kernel'])\n",
    "print('Best C:', best_model.best_estimator_.get_params()['C'])\n",
    "print('Best degree:', best_model.best_estimator_.get_params()['degree'])\n",
    "print('Best gamma:', best_model.best_estimator_.get_params()['gamma'])"
   ]
  },
  {
   "cell_type": "code",
   "execution_count": null,
   "metadata": {},
   "outputs": [],
   "source": [
    "param_grid_3 = [\n",
    "                {'kernel': ['poly'], 'C': [20, 25, 30, 35, 40], 'degree': [3], 'gamma': [0.1, 0.05, 0.01, 0.005, 0.001]},\n",
    "               ]\n"
   ]
  },
  {
   "cell_type": "code",
   "execution_count": null,
   "metadata": {},
   "outputs": [],
   "source": [
    "svc = svm.SVC()\n",
    "clf_svc_grid = GridSearchCV(svc, param_grid_3, cv=5, n_jobs=-1)\n",
    "best_model = clf_svc_grid.fit(train, target)\n",
    "\n",
    "#Print the value of best Hyperparameters\n",
    "print('Best kernel:', best_model.best_estimator_.get_params()['kernel'])\n",
    "print('Best C:', best_model.best_estimator_.get_params()['C'])\n",
    "print('Best degree:', best_model.best_estimator_.get_params()['degree'])\n",
    "print('Best gamma:', best_model.best_estimator_.get_params()['gamma'])"
   ]
  },
  {
   "cell_type": "code",
   "execution_count": null,
   "metadata": {},
   "outputs": [],
   "source": [
    "title = r\"Learning Curves (SVM, RBF kernel)\"\n",
    "# SVC is more expensive so we do a lower number of CV iterations:\n",
    "cv = ShuffleSplit(n_splits=5, test_size=0.2, random_state=0)\n",
    "plot_learning_curve(best_model, title, X, y, ylim=(0.0, 1.01),\n",
    "                    cv=cv, n_jobs=-1)\n",
    "\n",
    "plt.show()"
   ]
  },
  {
   "cell_type": "code",
   "execution_count": null,
   "metadata": {},
   "outputs": [],
   "source": [
    "y_pred = best_model.predict(X_test)\n",
    "## df = pd.DataFrame({'Actual': y_test, 'Predicted': y_pred})\n",
    "## print(df)\n",
    "## print('\\n')\n",
    "print(f'Tuned SCV Accuracy: {round(accuracy_score(y_test, y_pred), 2)}')"
   ]
  },
  {
   "cell_type": "markdown",
   "metadata": {},
   "source": [
    "#### 6.4.3 KNeighborsClassifier"
   ]
  },
  {
   "cell_type": "code",
   "execution_count": null,
   "metadata": {},
   "outputs": [],
   "source": [
    "param_grid_knn = {'n_neighbors': list(range(2, 11)),\n",
    "                  'weights': ['uniform', 'distance'],\n",
    "                  'leaf_size': list(range(5, 40, 5)),\n",
    "                  'p': [1, 2]\n",
    "                 }"
   ]
  },
  {
   "cell_type": "code",
   "execution_count": null,
   "metadata": {},
   "outputs": [],
   "source": [
    "knn = KNeighborsClassifier()\n",
    "clf_knn_grid = GridSearchCV(knn, param_grid_knn, cv=5, n_jobs=-1)\n",
    "best_model_knn = clf_knn_grid.fit(train, target)\n",
    "\n",
    "print('Best n_neighbors:', best_model_knn.best_estimator_.get_params()['n_neighbors'])\n",
    "print('Best weights:', best_model_knn.best_estimator_.get_params()['weights'])\n",
    "print('Best leaf_size:', best_model_knn.best_estimator_.get_params()['leaf_size'])\n",
    "print('Best p:', best_model_knn.best_estimator_.get_params()['p'])"
   ]
  },
  {
   "cell_type": "code",
   "execution_count": null,
   "metadata": {},
   "outputs": [],
   "source": [
    "title = r\"Learning Curves (KNN)\"\n",
    "# SVC is more expensive so we do a lower number of CV iterations:\n",
    "cv = ShuffleSplit(n_splits=5, test_size=0.2, random_state=0)\n",
    "plot_learning_curve(best_model_knn, title, X, y, ylim=(0.0, 1.01),\n",
    "                    cv=cv, n_jobs=-1)\n",
    "\n",
    "plt.show()"
   ]
  },
  {
   "cell_type": "markdown",
   "metadata": {},
   "source": [
    "#### 6.4.1 GradientBoostingClassifier"
   ]
  },
  {
   "cell_type": "code",
   "execution_count": null,
   "metadata": {},
   "outputs": [],
   "source": [
    "param_grid_gbc = {'learning_rate':[0.15, 0.1, 0.05, 0.01, 0.005, 0.001],\n",
    "                  'n_estimators':[100, 250, 500, 750, 1000, 1250, 1500, 1750],\n",
    "                  #'max_depth': [1,2,3,4,5,6,7,8],\n",
    "                  'max_features':['sqrt']\n",
    "                 }"
   ]
  },
  {
   "cell_type": "code",
   "execution_count": null,
   "metadata": {},
   "outputs": [],
   "source": [
    "gbc = GradientBoostingClassifier(min_samples_split=2, min_samples_leaf=1, subsample=1)\n",
    "clf_gbc_grid = GridSearchCV(gbc, param_grid_gbc, cv=5, n_jobs=-1)\n",
    "best_model_gbc = clf_gbc_grid.fit(train, target)\n",
    "\n",
    "#best_model_gbc.grid_scores_, best_model_gbc.best_params_, best_model_gbc.best_score_"
   ]
  },
  {
   "cell_type": "code",
   "execution_count": null,
   "metadata": {},
   "outputs": [],
   "source": [
    "print('Best l_rate:', best_model_gbc.best_estimator_.get_params()['learning_rate'])\n",
    "print('Best n_estimators:', best_model_gbc.best_estimator_.get_params()['n_estimators'])"
   ]
  },
  {
   "cell_type": "code",
   "execution_count": null,
   "metadata": {},
   "outputs": [],
   "source": [
    "title = r\"Learning Curves (Gradient Boosting)\"\n",
    "# SVC is more expensive so we do a lower number of CV iterations:\n",
    "cv = ShuffleSplit(n_splits=5, test_size=0.2, random_state=0)\n",
    "plot_learning_curve(best_model_gbc, title, X, y, ylim=(0.0, 1.01),\n",
    "                    cv=cv, n_jobs=-1)\n",
    "\n",
    "plt.show()"
   ]
  },
  {
   "cell_type": "markdown",
   "metadata": {},
   "source": [
    "# AQUI ANDO FUCHICANDO "
   ]
  },
  {
   "cell_type": "markdown",
   "metadata": {},
   "source": [
    "#### 6.4.5 ExtraTreesClassifier"
   ]
  },
  {
   "cell_type": "code",
   "execution_count": null,
   "metadata": {},
   "outputs": [],
   "source": [
    "param_grid_et = {'n_estimators': [100, 250, 500, 750, 1000, 1500, 2000, 5000],\n",
    "                 'criterion': ['gini', 'entropy'],\n",
    "                 'max_features': [None, 'sqrt', 'log2'],\n",
    "                 'min_samples_split': [2, 3, 4, 5] ,\n",
    "                 'min_samples_leaf': [1, 2, 3, 4, 5],\n",
    "                }"
   ]
  },
  {
   "cell_type": "code",
   "execution_count": null,
   "metadata": {},
   "outputs": [],
   "source": [
    "et = ExtraTreesClassifier(random_state = random_state)\n",
    "clf_et_grid = GridSearchCV(et, param_grid_et, cv = 5, n_jobs = -1)\n",
    "best_model_et = clf_et_grid.fit(train, target)\n",
    "\n",
    "print('Best n_estimators:', best_model_et.best_estimator_.get_params()['n_estimators'])\n",
    "print('Best criterion:', best_model_et.best_estimator_.get_params()['criterion'])\n",
    "print('Best max_features:', best_model_et.best_estimator_.get_params()['max_features'])\n",
    "print('Best min_samples_split:', best_model_et.best_estimator_.get_params()['min_samples_split'])\n",
    "print('Best min_samples_leaf:', best_model_et.best_estimator_.get_params()['min_samples_leaf'])"
   ]
  },
  {
   "cell_type": "code",
   "execution_count": null,
   "metadata": {},
   "outputs": [],
   "source": [
    "title = r\"Learning Curves (Extra Trees)\"\n",
    "# SVC is more expensive so we do a lower number of CV iterations:\n",
    "cv = ShuffleSplit(n_splits = 5, test_size = 0.2, random_state = 0)\n",
    "plot_learning_curve(best_model_et, title, X, y, ylim = (0.0, 1.01),\n",
    "                    cv = cv, n_jobs = -1)\n",
    "\n",
    "plt.show()"
   ]
  },
  {
   "cell_type": "markdown",
   "metadata": {},
   "source": [
    "#### 6.4.4 Random Forest"
   ]
  },
  {
   "cell_type": "code",
   "execution_count": null,
   "metadata": {},
   "outputs": [],
   "source": [
    "param_grid_rf = {'n_estimators': [100, 250, 500, 750, 1000, 1500, 2000, 5000],\n",
    "                 'criterion': ['gini', 'entropy'],\n",
    "                 'max_features': [None, 'sqrt', 'log2'],\n",
    "                 'min_samples_split': [2, 3, 4, 5] ,\n",
    "                 'min_samples_leaf': [1, 2, 3, 4, 5],\n",
    "                 }"
   ]
  },
  {
   "cell_type": "code",
   "execution_count": null,
   "metadata": {},
   "outputs": [],
   "source": [
    "rf = RandomForestClassifier(random_state = random_state)\n",
    "clf_rf_grid = GridSearchCV(rf, param_grid_rf, cv = 5, n_jobs = -1)\n",
    "best_model_rf = clf_rf_grid.fit(train, target)\n",
    "\n",
    "print('Best n_estimators:', best_model_rf.best_estimator_.get_params()['n_estimators'])\n",
    "print('Best criterion:', best_model_rf.best_estimator_.get_params()['criterion'])\n",
    "print('Best max_features:', best_model_rf.best_estimator_.get_params()['max_features'])\n",
    "print('Best min_samples_split:', best_model_rf.best_estimator_.get_params()['min_samples_split'])\n",
    "print('Best min_samples_leaf:', best_model_rf.best_estimator_.get_params()['min_samples_leaf'])"
   ]
  },
  {
   "cell_type": "code",
   "execution_count": null,
   "metadata": {},
   "outputs": [],
   "source": [
    "title = r\"Learning Curves (Extra Trees)\"\n",
    "# SVC is more expensive so we do a lower number of CV iterations:\n",
    "cv = ShuffleSplit(n_splits = 5, test_size = 0.2, random_state = 0)\n",
    "plot_learning_curve(best_model_rf, title, X, y, ylim = (0.0, 1.01),\n",
    "                    cv = cv, n_jobs = -1)\n",
    "\n",
    "plt.show()"
   ]
  },
  {
   "cell_type": "markdown",
   "metadata": {},
   "source": [
    "### AQUI PARO "
   ]
  },
  {
   "cell_type": "markdown",
   "metadata": {},
   "source": [
    "### SVM"
   ]
  },
  {
   "cell_type": "markdown",
   "metadata": {},
   "source": [
    "### Random Forest"
   ]
  },
  {
   "cell_type": "code",
   "execution_count": null,
   "metadata": {},
   "outputs": [],
   "source": [
    "from sklearn.ensemble import RandomForestClassifier"
   ]
  },
  {
   "cell_type": "code",
   "execution_count": null,
   "metadata": {},
   "outputs": [],
   "source": [
    "param_grid = [\n",
    "    {'criterion': ['gini'], 'n_estimators': [100], 'max_depth': list(np.arange(5,11)) + [None], \n",
    "     'min_samples_split': np.arange(2, 6), 'min_samples_leaf': np.arange(1, 6),\n",
    "     'max_features': ['sqrt', 'log2', None], 'random_state': [4]},\n",
    "    {'criterion': ['entropy'], 'n_estimators': [100], 'max_depth': list(np.arange(5,11)) + [None], \n",
    "     'min_samples_split': np.arange(2, 6), 'min_samples_leaf': np.arange(1, 6),\n",
    "     'max_features': ['sqrt', 'log2', None], 'random_state': [4]}\n",
    "    ] "
   ]
  },
  {
   "cell_type": "code",
   "execution_count": null,
   "metadata": {},
   "outputs": [],
   "source": [
    "rf = RandomForestClassifier()\n",
    "clf_rf_grid = GridSearchCV(rf, param_grid, cv=5)\n",
    "best_model = clf_rf_grid.fit(X_train, y_train)"
   ]
  },
  {
   "cell_type": "code",
   "execution_count": null,
   "metadata": {},
   "outputs": [],
   "source": [
    "print('Criterion:', best_model.best_estimator_.get_params()['criterion'])\n",
    "print('Number of estimators:', best_model.best_estimator_.get_params()['n_estimators'])\n",
    "print('Max depth:', best_model.best_estimator_.get_params()['max_depth'])\n",
    "print('Min samples split:', best_model.best_estimator_.get_params()['min_samples_split'])\n",
    "print('Min samples leaf:', best_model.best_estimator_.get_params()['min_samples_leaf'])\n",
    "print('Max features:', best_model.best_estimator_.get_params()['max_features'])"
   ]
  },
  {
   "cell_type": "code",
   "execution_count": null,
   "metadata": {},
   "outputs": [],
   "source": [
    "y_pred = best_model.predict(X_test)\n",
    "accuracy = accuracy_score(y_test, y_pred)\n",
    "print(f'Random Forest Accuracy: {round(accuracy, 2)}')"
   ]
  },
  {
   "cell_type": "code",
   "execution_count": null,
   "metadata": {},
   "outputs": [],
   "source": [
    "validation.head()"
   ]
  },
  {
   "cell_type": "code",
   "execution_count": null,
   "metadata": {},
   "outputs": [],
   "source": [
    "X_val = validation\n",
    "X_val=preprocessing.StandardScaler().fit(train).transform(X_val)\n",
    "y_val=best_model.predict(X_val)"
   ]
  },
  {
   "cell_type": "code",
   "execution_count": null,
   "metadata": {},
   "outputs": [],
   "source": [
    "submission = pd.DataFrame({\n",
    "       \"PassengerId\": df_test[\"PassengerId\"],\n",
    "       \"Survived\": y_val\n",
    "   })\n",
    "submission.to_csv('titanic_RF_best.csv', index=False)"
   ]
  },
  {
   "cell_type": "code",
   "execution_count": null,
   "metadata": {},
   "outputs": [],
   "source": [
    "#rf_best_hand = RandomForestClassifier(criterion='entropy', n_estimators=100, max_depth=None, min_samples_split=4, \n",
    "                                 #min_samples_leaf=3, max_features=None, random_state=4)\n",
    "\n",
    "title = r\"Random Forest Classifier\"\n",
    "# SVC is more expensive so we do a lower number of CV iterations:\n",
    "cv = ShuffleSplit(n_splits=10, test_size=0.2, random_state=0)\n",
    "plot_learning_curve(best_model, title, X, y, ylim=(0.7, 1.01),\n",
    "                    cv=cv, n_jobs=-1)\n",
    "#plot_learning_curve(rf_best_hand, title, X, y, ylim=(0.7, 1.01),\n",
    "#                    cv=cv, n_jobs=-1)\n",
    "\n",
    "plt.show()"
   ]
  },
  {
   "cell_type": "markdown",
   "metadata": {},
   "source": [
    "To do:\n",
    "\n",
    "- Hacer seleccion de algoritmos (sin XGBoost)\n",
    "- Optimizar esos algoritmos\n",
    "- Usar esos algoritmos para dar predicciones\n",
    "- Feed predicciones a XGBoost (stacking)"
   ]
  },
  {
   "cell_type": "code",
   "execution_count": null,
   "metadata": {},
   "outputs": [],
   "source": [
    "# Importing necessary modules for training and evaluation\n",
    "from sklearn.preprocessing import StandardScaler\n",
    "from sklearn.model_selection import train_test_split\n",
    "\n",
    "# Data preprocessing and splitting\n",
    "scaler = StandardScaler()\n",
    "X = scaler.fit_transform(train)\n",
    "y = target\n",
    "\n",
    "#Number of K folds\n",
    "n_kfolds=10\n",
    "\n",
    "# Number of estimators for tree-based ensembles\n",
    "num_estimators = 100\n",
    "\n",
    "#X_train, X_test, y_train, y_test = train_test_split(X, y, test_size=0.2, random_state=4)\n",
    "#print ('Train set:', X_train.shape,  y_train.shape)\n",
    "#print ('Test set:', X_test.shape,  y_test.shape)\n",
    "\n",
    "# Calculating score for a bunch of algortihms\n",
    "from sklearn.linear_model import LogisticRegression, Perceptron, SGDClassifier\n",
    "from sklearn.svm import SVC\n",
    "from sklearn.neighbors import KNeighborsClassifier\n",
    "from sklearn.naive_bayes import GaussianNB\n",
    "from sklearn.tree import DecisionTreeClassifier\n",
    "from sklearn.ensemble import RandomForestClassifier, AdaBoostClassifier, GradientBoostingClassifier, ExtraTreesClassifier\n",
    "from sklearn.model_selection import cross_val_score\n",
    "import xgboost as xgb\n",
    "\n",
    "rand_state=SEED\n",
    "\n",
    "models = [LogisticRegression(\n",
    "             random_state=rand_state),\n",
    "          Perceptron(\n",
    "              random_state=rand_state), \n",
    "          SGDClassifier(\n",
    "              random_state=rand_state), \n",
    "          SVC(\n",
    "              random_state=rand_state), \n",
    "          KNeighborsClassifier(\n",
    "              ), \n",
    "          GaussianNB(\n",
    "              ),\n",
    "          DecisionTreeClassifier(\n",
    "              random_state=rand_state), \n",
    "          RandomForestClassifier(\n",
    "              random_state=rand_state,\n",
    "              n_estimators=num_estimators),\n",
    "          ExtraTreesClassifier(\n",
    "              random_state=rand_state,\n",
    "              n_estimators=num_estimators),\n",
    "          AdaBoostClassifier(\n",
    "              random_state=rand_state,\n",
    "              n_estimators=num_estimators),\n",
    "          GradientBoostingClassifier(\n",
    "              random_state=rand_state, \n",
    "              n_estimators=num_estimators)\n",
    "         ]\n",
    "\n",
    "model_name = []\n",
    "acc_test = []\n",
    "acc_train = []\n",
    "cv_scores = []\n",
    "\n",
    "for model in models:\n",
    "    model.fit(X_train, y_train)\n",
    "    y_pred = model.predict(X_test)\n",
    "    model_name.append(model.__class__.__name__)\n",
    "    acc_test.append(model.score(X_test, y_test))\n",
    "    acc_train.append(model.score(X_train, y_train))\n",
    "    cv_scores.append(cross_val_score(model, X, y, cv=5))\n",
    "\n",
    "results = pd.DataFrame({\n",
    "    'Model': model_name,\n",
    "    'CvScore' : cv_scores,\n",
    "    'TestScore': acc_test,\n",
    "    'TrainScore': acc_train\n",
    "    })\n",
    "\n",
    "\n",
    "results.insert(1, 'CVMeanScore', np.mean(results['CvScore'].tolist(), axis=1))\n",
    "results.drop(['CvScore'],axis=1,inplace=True)\n",
    "\n",
    "#by='TestScore'\n",
    "results.sort_values(by='CVMeanScore', ascending=False, ignore_index=True, inplace=True)\n",
    "#print(results)\n",
    "\n",
    "print('The five best ML models for this problem are:\\n') \n",
    "print(results.iloc[:5,0:2])"
   ]
  },
  {
   "cell_type": "markdown",
   "metadata": {},
   "source": [
    "<a id='Evaluation'></a>\n",
    "## 7. Evaluation"
   ]
  },
  {
   "cell_type": "code",
   "execution_count": null,
   "metadata": {},
   "outputs": [],
   "source": []
  },
  {
   "cell_type": "markdown",
   "metadata": {},
   "source": [
    "<a id='Conclusion'></a>\n",
    "## 8. Conclusion"
   ]
  },
  {
   "cell_type": "code",
   "execution_count": null,
   "metadata": {},
   "outputs": [],
   "source": []
  }
 ],
 "metadata": {
  "kernelspec": {
   "display_name": "Python 3",
   "language": "python",
   "name": "python3"
  },
  "language_info": {
   "codemirror_mode": {
    "name": "ipython",
    "version": 3
   },
   "file_extension": ".py",
   "mimetype": "text/x-python",
   "name": "python",
   "nbconvert_exporter": "python",
   "pygments_lexer": "ipython3",
   "version": "3.7.6"
  }
 },
 "nbformat": 4,
 "nbformat_minor": 4
}
