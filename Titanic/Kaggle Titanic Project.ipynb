{
 "cells": [
  {
   "cell_type": "markdown",
   "metadata": {},
   "source": [
    "# Kaggle Titanic Project\n",
    "## by Comando PS"
   ]
  },
  {
   "cell_type": "markdown",
   "metadata": {},
   "source": [
    "## 1. Table of contents\n",
    "\n",
    "1. Table of Contents  \n",
    "2. [Introduction](#Introduction)  \n",
    "3. [Business Understanding](#Business_understanding)  \n",
    "    3.1. [Background](#Background)  \n",
    "    3.2. [Problem description](#Problem_description)  \n",
    "    3.3. [Target audience](#Target_audience)  \n",
    "    3.4. [Success criteria](#Success_criteria)  \n",
    "4. [Data Understanding](#Data_understanding)  \n",
    "    4.1. [Structure of training and test sets](#Data_structure)  \n",
    "    4.2. [Submission set](#Submission_set)  \n",
    "    4.3. [Exploratory data analysis](#EDA)  \n",
    "        4.3.1. Survival  \n",
    "        4.3.2. Sex  \n",
    "        4.3.3. Passenger class  \n",
    "        4.3.4. Age  \n",
    "5. [Data preparation](#Data_preparation)  \n",
    "    5.1. [Feature engineering](#Feature_engineering)  \n",
    "        5.1.1. data  \n",
    "        5.1.2. data\n",
    "        5.1.3. data\n",
    "        5.1.4. data\n",
    "    5.2 [Data wrangling](#Data_wrangling)\n",
    "6. [Modeling](#Modeling)  \n",
    "7. [Evaluation](#Evaluation)\n",
    "8. [Conclusion](#Conclusion)\n"
   ]
  },
  {
   "cell_type": "markdown",
   "metadata": {
    "_cell_guid": "79c7e3d0-c299-4dcb-8224-4455121ee9b0",
    "_uuid": "d629ff2d2480ee46fbb7e2d37f6b5fab8052498a",
    "collapsed": true
   },
   "source": [
    "<a id='Introduction'></a>\n",
    "## 2. Introduction\n",
    "\n",
    "In this notebook we will try to complete the introductory project for kaggle, which is trying to predict if a group of passengers on board of RMS Titanic survived or not the [tragic sinking of the ship in the early hours of 15 April 1912](https://en.wikipedia.org/wiki/Sinking_of_the_RMS_Titanic). This notebook is intended to start learning ML so it will be based on some notebooks we have deemed interesting on the internet. References will be provided when needed."
   ]
  },
  {
   "cell_type": "markdown",
   "metadata": {},
   "source": [
    "![RMS Titanic][RMS]\n",
    "\n",
    "[RMS]: https://upload.wikimedia.org/wikipedia/commons/thumb/3/3c/RMS_Titanic_sea_trials_April_2%2C_1912.jpg/637px-RMS_Titanic_sea_trials_April_2%2C_1912.jpg \"RMS Titanic\"\n",
    "\n",
    "To collect insights from data we will be applying the [CRISP-DM](https://en.wikipedia.org/wiki/Cross_Industry_Standard_Process_for_Data_Mining \"Wikipedia CRISP-DM page\") (Cross Industry Standard Process for Data Mining) methodology.\n",
    "\n",
    "![CRISP-DM][MET]\n",
    "\n",
    "[MET]: https://upload.wikimedia.org/wikipedia/commons/thumb/b/b9/CRISP-DM_Process_Diagram.png/599px-CRISP-DM_Process_Diagram.png \"CRISP-DM Methodology\"\n",
    "\n",
    "CRISP-DM methodology breaks the process of data mining into six phases:\n",
    "\n",
    "1. Business understanding: Understand what we need from the data.\n",
    "2. Data understanding: See how is the data formatted, what tools we need to operate with it and extract some basic insights (Exploratory Data Analysis, or EDA).\n",
    "3. Data preparation: Data wrangling and feature engineering.\n",
    "4. Modeling: Build a model to extract the answers needed from our data.\n",
    "5. Evaluation: Use a metric to compare our results and gain some feedback from our model to further improve it.\n",
    "6. Deployment: Submit our result to Kaggle."
   ]
  },
  {
   "cell_type": "markdown",
   "metadata": {},
   "source": [
    "<a id='Business_understanding'></a>\n",
    "## 3. Business understanding\n",
    "\n",
    "<a id='Background'></a>\n",
    "### 3.1. Background\n",
    "\n",
    "The sinking of RMS Titanic is one of the most infamous sinkings in contemporary history. The RMS Titanic sank in the early hours of 15 April 1912, four days into her maiden's voyage after she struck an iceberg. Of the 2224 estimated people on board approximately 1500 people died in the accident, making it one of the most lethal peacetime maritimal disasters in history.\n",
    "\n",
    "One of the reasons for such lethality was that there was not enough lifeboats for everyone. There was some element of luck involved in the survival probability, but there is evidence that some groups of people were more fortunate than others.\n",
    "\n",
    "<a id='Problem_description'></a>\n",
    "### 3.2. Problem description\n",
    "\n",
    "Using some data from the RMS Titanic passenger list we have to predict whether or not a given passenger had survived the sinking or not. Kaggle is asking us to build a predictive model answering the following question: “what sorts of people were more likely to survive? using passenger data (ie name, age, gender, socio-economic class, etc)\". \n",
    "\n",
    "<a id='Target_audience'></a>\n",
    "### 3.3. Target audience\n",
    "\n",
    "This notebook will be used to learn some machine learning techniques and how to manage a successful team. The primary audience will be ourselves, but when it is finished it will be published for anyone to read. Any constructive criticism will be welcome.\n",
    "\n",
    "<a id='Success_criteria'></a>\n",
    "### 3.4. Success criteria\n",
    "\n",
    "The main metric employed to decide our model is successful or not is the accuracy of the model (i.e. in how many passengers the outcome was correctly predicted)."
   ]
  },
  {
   "cell_type": "markdown",
   "metadata": {},
   "source": [
    "<a id='Data_understanding'></a>\n",
    "## 4. Data understanding\n",
    "\n",
    "Kaggle gives us two different csv files. One will be used to train our model (called train.csv) whereas the other will be used to test the model (unsurprisingly called test.csv). Test.csv does not contain information about the survival outcome of the passenger and we need to infer it from our model.\n",
    "\n",
    "<a id='Data_structure'></a>\n",
    "### 4.1. Structure of training and test sets\n",
    "\n",
    "Train.csv contains data from 891 different passengers of the titanic with unique ID and full name, stating if they survived or not (column 'survived'), the ticket class ('Pclass'), sex ('Sex'), number of siblings/spouses aboard ('Sibsp'), number of parents/children aboard ('parch'), ticket number ('ticket'), fare ('fare'), cabin number aboard ('cabin') and port of embarcation ('embarked').\n",
    "\n",
    "Some notes from the documentation:\n",
    "\n",
    "age: Age is fractional if less than 1. If the age is estimated, is it in the form of xx.5\n",
    "\n",
    "sibsp: The dataset defines family relations in this way...\n",
    "Sibling = brother, sister, stepbrother, stepsister\n",
    "Spouse = husband, wife (mistresses and fiancés were ignored)\n",
    "\n",
    "parch: The dataset defines family relations in this way...\n",
    "Parent = mother, father\n",
    "Child = daughter, son, stepdaughter, stepson\n",
    "Some children travelled only with a nanny, therefore parch=0 for them.\n",
    "\n",
    "Port of Embarkation C = Cherbourg, Q = Queenstown, S = Southampton\n",
    "\n",
    "<a id='Submission_set'></a>\n",
    "### 4.2. Submission set\n",
    "\n",
    "The submission set shall be composed of only two columns: The passenger id from the test set and a column indicating if that passenger survived or not.\n",
    "\n",
    "<a id='EDA'></a>\n",
    "### 4.3. Exploratory Data Analysis (EDA)\n",
    "\n",
    "First, some libraries will be imported:"
   ]
  },
  {
   "cell_type": "code",
   "execution_count": 1,
   "metadata": {},
   "outputs": [],
   "source": [
    "import pandas as pd #pandas is a data analysis and manipulation tool.\n",
    "import numpy as np #Package for scientific computing with Python.\n",
    "import matplotlib.pyplot as plt #Python data visualization library.\n",
    "import seaborn as sns #Python data visualization library based on matplotlib.\n",
    "import re #regular expressions\n",
    "\n",
    "#Matlplotlib and seaborn options:\n",
    "%matplotlib inline\n",
    "sns.set(style=\"whitegrid\")"
   ]
  },
  {
   "cell_type": "markdown",
   "metadata": {},
   "source": [
    "To study the full set, let's merge both datasets. In the case of the test data, the survival value will be set to NaN. The passenger ID is a unique number, different for every passenger on board. This ID will be set as the index of the dataframe."
   ]
  },
  {
   "cell_type": "code",
   "execution_count": 5,
   "metadata": {},
   "outputs": [
    {
     "name": "stdout",
     "output_type": "stream",
     "text": [
      "Dataset sizes: \n",
      " df_train:  (891, 12) \n",
      " df_test:   (418, 12) \n",
      " df_full:   (1309, 12)\n"
     ]
    },
    {
     "data": {
      "text/html": [
       "<div>\n",
       "<style scoped>\n",
       "    .dataframe tbody tr th:only-of-type {\n",
       "        vertical-align: middle;\n",
       "    }\n",
       "\n",
       "    .dataframe tbody tr th {\n",
       "        vertical-align: top;\n",
       "    }\n",
       "\n",
       "    .dataframe thead th {\n",
       "        text-align: right;\n",
       "    }\n",
       "</style>\n",
       "<table border=\"1\" class=\"dataframe\">\n",
       "  <thead>\n",
       "    <tr style=\"text-align: right;\">\n",
       "      <th></th>\n",
       "      <th>Survived</th>\n",
       "      <th>Pclass</th>\n",
       "      <th>Name</th>\n",
       "      <th>Sex</th>\n",
       "      <th>Age</th>\n",
       "      <th>SibSp</th>\n",
       "      <th>Parch</th>\n",
       "      <th>Ticket</th>\n",
       "      <th>Fare</th>\n",
       "      <th>Cabin</th>\n",
       "      <th>Embarked</th>\n",
       "    </tr>\n",
       "    <tr>\n",
       "      <th>PassengerId</th>\n",
       "      <th></th>\n",
       "      <th></th>\n",
       "      <th></th>\n",
       "      <th></th>\n",
       "      <th></th>\n",
       "      <th></th>\n",
       "      <th></th>\n",
       "      <th></th>\n",
       "      <th></th>\n",
       "      <th></th>\n",
       "      <th></th>\n",
       "    </tr>\n",
       "  </thead>\n",
       "  <tbody>\n",
       "    <tr>\n",
       "      <th>1</th>\n",
       "      <td>0.0</td>\n",
       "      <td>3</td>\n",
       "      <td>Braund, Mr. Owen Harris</td>\n",
       "      <td>male</td>\n",
       "      <td>22.0</td>\n",
       "      <td>1</td>\n",
       "      <td>0</td>\n",
       "      <td>A/5 21171</td>\n",
       "      <td>7.2500</td>\n",
       "      <td>NaN</td>\n",
       "      <td>S</td>\n",
       "    </tr>\n",
       "    <tr>\n",
       "      <th>2</th>\n",
       "      <td>1.0</td>\n",
       "      <td>1</td>\n",
       "      <td>Cumings, Mrs. John Bradley (Florence Briggs Th...</td>\n",
       "      <td>female</td>\n",
       "      <td>38.0</td>\n",
       "      <td>1</td>\n",
       "      <td>0</td>\n",
       "      <td>PC 17599</td>\n",
       "      <td>71.2833</td>\n",
       "      <td>C85</td>\n",
       "      <td>C</td>\n",
       "    </tr>\n",
       "    <tr>\n",
       "      <th>3</th>\n",
       "      <td>1.0</td>\n",
       "      <td>3</td>\n",
       "      <td>Heikkinen, Miss. Laina</td>\n",
       "      <td>female</td>\n",
       "      <td>26.0</td>\n",
       "      <td>0</td>\n",
       "      <td>0</td>\n",
       "      <td>STON/O2. 3101282</td>\n",
       "      <td>7.9250</td>\n",
       "      <td>NaN</td>\n",
       "      <td>S</td>\n",
       "    </tr>\n",
       "    <tr>\n",
       "      <th>4</th>\n",
       "      <td>1.0</td>\n",
       "      <td>1</td>\n",
       "      <td>Futrelle, Mrs. Jacques Heath (Lily May Peel)</td>\n",
       "      <td>female</td>\n",
       "      <td>35.0</td>\n",
       "      <td>1</td>\n",
       "      <td>0</td>\n",
       "      <td>113803</td>\n",
       "      <td>53.1000</td>\n",
       "      <td>C123</td>\n",
       "      <td>S</td>\n",
       "    </tr>\n",
       "    <tr>\n",
       "      <th>5</th>\n",
       "      <td>0.0</td>\n",
       "      <td>3</td>\n",
       "      <td>Allen, Mr. William Henry</td>\n",
       "      <td>male</td>\n",
       "      <td>35.0</td>\n",
       "      <td>0</td>\n",
       "      <td>0</td>\n",
       "      <td>373450</td>\n",
       "      <td>8.0500</td>\n",
       "      <td>NaN</td>\n",
       "      <td>S</td>\n",
       "    </tr>\n",
       "  </tbody>\n",
       "</table>\n",
       "</div>"
      ],
      "text/plain": [
       "             Survived  Pclass  \\\n",
       "PassengerId                     \n",
       "1                 0.0       3   \n",
       "2                 1.0       1   \n",
       "3                 1.0       3   \n",
       "4                 1.0       1   \n",
       "5                 0.0       3   \n",
       "\n",
       "                                                          Name     Sex   Age  \\\n",
       "PassengerId                                                                    \n",
       "1                                      Braund, Mr. Owen Harris    male  22.0   \n",
       "2            Cumings, Mrs. John Bradley (Florence Briggs Th...  female  38.0   \n",
       "3                                       Heikkinen, Miss. Laina  female  26.0   \n",
       "4                 Futrelle, Mrs. Jacques Heath (Lily May Peel)  female  35.0   \n",
       "5                                     Allen, Mr. William Henry    male  35.0   \n",
       "\n",
       "             SibSp  Parch            Ticket     Fare Cabin Embarked  \n",
       "PassengerId                                                          \n",
       "1                1      0         A/5 21171   7.2500   NaN        S  \n",
       "2                1      0          PC 17599  71.2833   C85        C  \n",
       "3                0      0  STON/O2. 3101282   7.9250   NaN        S  \n",
       "4                1      0            113803  53.1000  C123        S  \n",
       "5                0      0            373450   8.0500   NaN        S  "
      ]
     },
     "execution_count": 5,
     "metadata": {},
     "output_type": "execute_result"
    }
   ],
   "source": [
    "df_train=pd.read_csv('data/train.csv')\n",
    "df_test=pd.read_csv('data/test.csv')\n",
    "\n",
    "survive=np.empty((418,1))\n",
    "survive[:]=np.nan\n",
    "df_test.insert(1,'Survived',survive)\n",
    "\n",
    "df_full=df_train.append(df_test,ignore_index=True)\n",
    "print('Dataset sizes:','\\n df_train: ',df_train.shape,'\\n df_test:  ',df_test.shape,'\\n df_full:  ',df_full.shape)\n",
    "\n",
    "df_full.reset_index()\n",
    "df_full.set_index('PassengerId', inplace=True) #Set the passenger id as index in both the test and train sets\n",
    "\n",
    "df_full.head()"
   ]
  },
  {
   "cell_type": "markdown",
   "metadata": {},
   "source": [
    "The data type for each column is shown below."
   ]
  },
  {
   "cell_type": "code",
   "execution_count": 6,
   "metadata": {},
   "outputs": [
    {
     "data": {
      "text/plain": [
       "Survived    float64\n",
       "Pclass        int64\n",
       "Name         object\n",
       "Sex          object\n",
       "Age         float64\n",
       "SibSp         int64\n",
       "Parch         int64\n",
       "Ticket       object\n",
       "Fare        float64\n",
       "Cabin        object\n",
       "Embarked     object\n",
       "dtype: object"
      ]
     },
     "execution_count": 6,
     "metadata": {},
     "output_type": "execute_result"
    }
   ],
   "source": [
    "df_full.dtypes"
   ]
  },
  {
   "cell_type": "markdown",
   "metadata": {},
   "source": [
    "In the dataset there are both numerical variables (survived, pclass...) and categorical variables (sex, embarked). Categorical variables will be transformed to something the models can use using dummy variables. This means that the categorical variables will be transformed into dichotomic categorical variables in form of a number (1 for yes, 0 for no). This will be performed before the modeling section.\n",
    "\n",
    "Since survived is either 1 or 0, it will be transformed into an integer type (int64), as is Pclass. Name is comprised of different strings, as the Sex column, but that one will be transformed. Age is float, since there are some estimation in the ages and those are indicated with a \".5\". SibSp and Parch are people counts, so they are integers. Ticket is another string. Fare is a floating point number with sometimes a lot of decimals. This is due to the fact that the currency used in 1912 in the United Kingdom did not follow base-10 numbers. More information can be found in the [pre-decimal currency Wikipedia article](https://en.wikipedia.org/wiki/%C2%A3sd). Cabin is another string, and, finally, Embarked is a categorical variable with each letter indicating where the passenger boarded the ship.\n",
    "\n",
    "In the next cell, a brief statistical description of both categorical and numerical variables can be seen"
   ]
  },
  {
   "cell_type": "code",
   "execution_count": 9,
   "metadata": {},
   "outputs": [
    {
     "data": {
      "text/html": [
       "<div>\n",
       "<style scoped>\n",
       "    .dataframe tbody tr th:only-of-type {\n",
       "        vertical-align: middle;\n",
       "    }\n",
       "\n",
       "    .dataframe tbody tr th {\n",
       "        vertical-align: top;\n",
       "    }\n",
       "\n",
       "    .dataframe thead th {\n",
       "        text-align: right;\n",
       "    }\n",
       "</style>\n",
       "<table border=\"1\" class=\"dataframe\">\n",
       "  <thead>\n",
       "    <tr style=\"text-align: right;\">\n",
       "      <th></th>\n",
       "      <th>Survived</th>\n",
       "      <th>Pclass</th>\n",
       "      <th>Name</th>\n",
       "      <th>Sex</th>\n",
       "      <th>Age</th>\n",
       "      <th>SibSp</th>\n",
       "      <th>Parch</th>\n",
       "      <th>Ticket</th>\n",
       "      <th>Fare</th>\n",
       "      <th>Cabin</th>\n",
       "      <th>Embarked</th>\n",
       "    </tr>\n",
       "  </thead>\n",
       "  <tbody>\n",
       "    <tr>\n",
       "      <th>count</th>\n",
       "      <td>891.000000</td>\n",
       "      <td>1309.000000</td>\n",
       "      <td>1309</td>\n",
       "      <td>1309</td>\n",
       "      <td>1046.000000</td>\n",
       "      <td>1309.000000</td>\n",
       "      <td>1309.000000</td>\n",
       "      <td>1309</td>\n",
       "      <td>1308.000000</td>\n",
       "      <td>295</td>\n",
       "      <td>1307</td>\n",
       "    </tr>\n",
       "    <tr>\n",
       "      <th>unique</th>\n",
       "      <td>NaN</td>\n",
       "      <td>NaN</td>\n",
       "      <td>1307</td>\n",
       "      <td>2</td>\n",
       "      <td>NaN</td>\n",
       "      <td>NaN</td>\n",
       "      <td>NaN</td>\n",
       "      <td>929</td>\n",
       "      <td>NaN</td>\n",
       "      <td>186</td>\n",
       "      <td>3</td>\n",
       "    </tr>\n",
       "    <tr>\n",
       "      <th>top</th>\n",
       "      <td>NaN</td>\n",
       "      <td>NaN</td>\n",
       "      <td>Connolly, Miss. Kate</td>\n",
       "      <td>male</td>\n",
       "      <td>NaN</td>\n",
       "      <td>NaN</td>\n",
       "      <td>NaN</td>\n",
       "      <td>CA. 2343</td>\n",
       "      <td>NaN</td>\n",
       "      <td>C23 C25 C27</td>\n",
       "      <td>S</td>\n",
       "    </tr>\n",
       "    <tr>\n",
       "      <th>freq</th>\n",
       "      <td>NaN</td>\n",
       "      <td>NaN</td>\n",
       "      <td>2</td>\n",
       "      <td>843</td>\n",
       "      <td>NaN</td>\n",
       "      <td>NaN</td>\n",
       "      <td>NaN</td>\n",
       "      <td>11</td>\n",
       "      <td>NaN</td>\n",
       "      <td>6</td>\n",
       "      <td>914</td>\n",
       "    </tr>\n",
       "    <tr>\n",
       "      <th>mean</th>\n",
       "      <td>0.383838</td>\n",
       "      <td>2.294882</td>\n",
       "      <td>NaN</td>\n",
       "      <td>NaN</td>\n",
       "      <td>29.881138</td>\n",
       "      <td>0.498854</td>\n",
       "      <td>0.385027</td>\n",
       "      <td>NaN</td>\n",
       "      <td>33.295479</td>\n",
       "      <td>NaN</td>\n",
       "      <td>NaN</td>\n",
       "    </tr>\n",
       "    <tr>\n",
       "      <th>std</th>\n",
       "      <td>0.486592</td>\n",
       "      <td>0.837836</td>\n",
       "      <td>NaN</td>\n",
       "      <td>NaN</td>\n",
       "      <td>14.413493</td>\n",
       "      <td>1.041658</td>\n",
       "      <td>0.865560</td>\n",
       "      <td>NaN</td>\n",
       "      <td>51.758668</td>\n",
       "      <td>NaN</td>\n",
       "      <td>NaN</td>\n",
       "    </tr>\n",
       "    <tr>\n",
       "      <th>min</th>\n",
       "      <td>0.000000</td>\n",
       "      <td>1.000000</td>\n",
       "      <td>NaN</td>\n",
       "      <td>NaN</td>\n",
       "      <td>0.170000</td>\n",
       "      <td>0.000000</td>\n",
       "      <td>0.000000</td>\n",
       "      <td>NaN</td>\n",
       "      <td>0.000000</td>\n",
       "      <td>NaN</td>\n",
       "      <td>NaN</td>\n",
       "    </tr>\n",
       "    <tr>\n",
       "      <th>25%</th>\n",
       "      <td>0.000000</td>\n",
       "      <td>2.000000</td>\n",
       "      <td>NaN</td>\n",
       "      <td>NaN</td>\n",
       "      <td>21.000000</td>\n",
       "      <td>0.000000</td>\n",
       "      <td>0.000000</td>\n",
       "      <td>NaN</td>\n",
       "      <td>7.895800</td>\n",
       "      <td>NaN</td>\n",
       "      <td>NaN</td>\n",
       "    </tr>\n",
       "    <tr>\n",
       "      <th>50%</th>\n",
       "      <td>0.000000</td>\n",
       "      <td>3.000000</td>\n",
       "      <td>NaN</td>\n",
       "      <td>NaN</td>\n",
       "      <td>28.000000</td>\n",
       "      <td>0.000000</td>\n",
       "      <td>0.000000</td>\n",
       "      <td>NaN</td>\n",
       "      <td>14.454200</td>\n",
       "      <td>NaN</td>\n",
       "      <td>NaN</td>\n",
       "    </tr>\n",
       "    <tr>\n",
       "      <th>75%</th>\n",
       "      <td>1.000000</td>\n",
       "      <td>3.000000</td>\n",
       "      <td>NaN</td>\n",
       "      <td>NaN</td>\n",
       "      <td>39.000000</td>\n",
       "      <td>1.000000</td>\n",
       "      <td>0.000000</td>\n",
       "      <td>NaN</td>\n",
       "      <td>31.275000</td>\n",
       "      <td>NaN</td>\n",
       "      <td>NaN</td>\n",
       "    </tr>\n",
       "    <tr>\n",
       "      <th>max</th>\n",
       "      <td>1.000000</td>\n",
       "      <td>3.000000</td>\n",
       "      <td>NaN</td>\n",
       "      <td>NaN</td>\n",
       "      <td>80.000000</td>\n",
       "      <td>8.000000</td>\n",
       "      <td>9.000000</td>\n",
       "      <td>NaN</td>\n",
       "      <td>512.329200</td>\n",
       "      <td>NaN</td>\n",
       "      <td>NaN</td>\n",
       "    </tr>\n",
       "  </tbody>\n",
       "</table>\n",
       "</div>"
      ],
      "text/plain": [
       "          Survived       Pclass                  Name   Sex          Age  \\\n",
       "count   891.000000  1309.000000                  1309  1309  1046.000000   \n",
       "unique         NaN          NaN                  1307     2          NaN   \n",
       "top            NaN          NaN  Connolly, Miss. Kate  male          NaN   \n",
       "freq           NaN          NaN                     2   843          NaN   \n",
       "mean      0.383838     2.294882                   NaN   NaN    29.881138   \n",
       "std       0.486592     0.837836                   NaN   NaN    14.413493   \n",
       "min       0.000000     1.000000                   NaN   NaN     0.170000   \n",
       "25%       0.000000     2.000000                   NaN   NaN    21.000000   \n",
       "50%       0.000000     3.000000                   NaN   NaN    28.000000   \n",
       "75%       1.000000     3.000000                   NaN   NaN    39.000000   \n",
       "max       1.000000     3.000000                   NaN   NaN    80.000000   \n",
       "\n",
       "              SibSp        Parch    Ticket         Fare        Cabin Embarked  \n",
       "count   1309.000000  1309.000000      1309  1308.000000          295     1307  \n",
       "unique          NaN          NaN       929          NaN          186        3  \n",
       "top             NaN          NaN  CA. 2343          NaN  C23 C25 C27        S  \n",
       "freq            NaN          NaN        11          NaN            6      914  \n",
       "mean       0.498854     0.385027       NaN    33.295479          NaN      NaN  \n",
       "std        1.041658     0.865560       NaN    51.758668          NaN      NaN  \n",
       "min        0.000000     0.000000       NaN     0.000000          NaN      NaN  \n",
       "25%        0.000000     0.000000       NaN     7.895800          NaN      NaN  \n",
       "50%        0.000000     0.000000       NaN    14.454200          NaN      NaN  \n",
       "75%        1.000000     0.000000       NaN    31.275000          NaN      NaN  \n",
       "max        8.000000     9.000000       NaN   512.329200          NaN      NaN  "
      ]
     },
     "execution_count": 9,
     "metadata": {},
     "output_type": "execute_result"
    }
   ],
   "source": [
    "df_full.describe(include='all')"
   ]
  },
  {
   "cell_type": "markdown",
   "metadata": {},
   "source": [
    "#### 4.3.1. Survival"
   ]
  },
  {
   "cell_type": "code",
   "execution_count": 10,
   "metadata": {},
   "outputs": [
    {
     "data": {
      "text/plain": [
       "count    891.000000\n",
       "mean       0.383838\n",
       "std        0.486592\n",
       "min        0.000000\n",
       "25%        0.000000\n",
       "50%        0.000000\n",
       "75%        1.000000\n",
       "max        1.000000\n",
       "Name: Survived, dtype: float64"
      ]
     },
     "execution_count": 10,
     "metadata": {},
     "output_type": "execute_result"
    }
   ],
   "source": [
    "df_full['Survived'].describe()"
   ]
  },
  {
   "cell_type": "markdown",
   "metadata": {},
   "source": [
    "The data for the survival outcome of the passengers is only known for the passengers in the training set (891 out of 1309 people). Only the 38% of passengers in the set have survived the sinking. In the following sections we will explore how survival correlates with other variables."
   ]
  },
  {
   "cell_type": "markdown",
   "metadata": {},
   "source": [
    "#### 4.3.2. Sex"
   ]
  },
  {
   "cell_type": "code",
   "execution_count": 11,
   "metadata": {},
   "outputs": [
    {
     "name": "stdout",
     "output_type": "stream",
     "text": [
      "Number of females: 466\n",
      "Number of males: 843\n"
     ]
    }
   ],
   "source": [
    "print(\"Number of females:\", df_full.loc[df_full.Sex=='female'].shape[0])\n",
    "print(\"Number of males:\", df_full.loc[df_full.Sex=='male'].shape[0])"
   ]
  },
  {
   "cell_type": "markdown",
   "metadata": {},
   "source": [
    "There are 466 females and 843 males in our dataset."
   ]
  },
  {
   "cell_type": "markdown",
   "metadata": {},
   "source": [
    "In the kaggle tutorial it is explained that gender played a key role in regards of survival probability, even creating a model that only looked at the sex of the passenger and then assigning the label survived=1 to females only, obtaining an impressive punctuation in the leaderboard. Let us explore how sex correlates with survival probability."
   ]
  },
  {
   "cell_type": "code",
   "execution_count": 12,
   "metadata": {},
   "outputs": [
    {
     "name": "stdout",
     "output_type": "stream",
     "text": [
      "Percentage of women who survived: 74.2 %\n",
      "Percentage of men who survived: 18.89 %\n"
     ]
    },
    {
     "data": {
      "image/png": "[encoded data removed]",
      "text/plain": [
       "<Figure size 432x288 with 1 Axes>"
      ]
     },
     "metadata": {},
     "output_type": "display_data"
    }
   ],
   "source": [
    "rate_women=100 * df_train.loc[df_train.Sex == 'female'][\"Survived\"].sum()/df_train.loc[df_train.Sex=='female'].shape[0]\n",
    "rate_men=100 * df_train.loc[df_train.Sex == 'male'][\"Survived\"].sum()/df_train.loc[df_train.Sex=='male'].shape[0]\n",
    "\n",
    "print(\"Percentage of women who survived:\", round(rate_women,2),'%')\n",
    "print(\"Percentage of men who survived:\", round(rate_men,2),'%')\n",
    "\n",
    "fig1=sns.barplot(x=\"Sex\", y=\"Survived\", data=df_full)"
   ]
  },
  {
   "cell_type": "markdown",
   "metadata": {},
   "source": [
    "Only 18.89 % of men survived, compared with the 74.2 % of women. Is it true the \"Women and children first\" saying? Apparently, in 1912 it was _en vogue_."
   ]
  },
  {
   "cell_type": "markdown",
   "metadata": {},
   "source": [
    "#### 4.3.3. Passenger class"
   ]
  },
  {
   "cell_type": "code",
   "execution_count": 14,
   "metadata": {},
   "outputs": [
    {
     "data": {
      "image/png": "[encoded data removed]",
      "text/plain": [
       "<Figure size 432x288 with 1 Axes>"
      ]
     },
     "metadata": {},
     "output_type": "display_data"
    }
   ],
   "source": [
    "fig2=sns.barplot(x=\"Pclass\", y=\"Survived\", data=df_full)"
   ]
  },
  {
   "cell_type": "markdown",
   "metadata": {},
   "source": [
    "People in first class have more survival rate, than the other two ticket classes. It is possible that the social class can be used as a feature of our survival prediction model."
   ]
  },
  {
   "cell_type": "code",
   "execution_count": 13,
   "metadata": {},
   "outputs": [
    {
     "data": {
      "image/png": "[encoded data removed]",
      "text/plain": [
       "<Figure size 432x288 with 1 Axes>"
      ]
     },
     "metadata": {},
     "output_type": "display_data"
    }
   ],
   "source": [
    "fig3=sns.barplot(x=\"Sex\", y=\"Survived\", hue=\"Pclass\", data=df_full)"
   ]
  },
  {
   "cell_type": "markdown",
   "metadata": {},
   "source": [
    "#### 4.3.4 Age"
   ]
  },
  {
   "cell_type": "code",
   "execution_count": null,
   "metadata": {},
   "outputs": [],
   "source": [
    "df_full['Age'].describe()"
   ]
  },
  {
   "cell_type": "markdown",
   "metadata": {},
   "source": [
    "Ther are 1046 values of 1309 possible values. This indicates that some age values are missing. The average age is less than 30 years old (29.9 years), with a standard deviation of 14.4 years. The youngest recorded passenger was a little older than 2 months (0.17 years) old, whereas the oldest passenger was 80 years old. More than 75% of the passengers were less than 40 years old. How are the age and the survival outcome correlated?"
   ]
  },
  {
   "cell_type": "code",
   "execution_count": null,
   "metadata": {},
   "outputs": [],
   "source": [
    "#df_ages=pd.DataFrame()\n",
    "#df_ages['Age']=pd.cut(df_train['Age'], 8)\n",
    "#df_ages['Survived']=df_train['Survived']\n",
    "#df_ages[['Age', 'Survived']].groupby(['Age'], as_index=False).mean()"
   ]
  },
  {
   "cell_type": "code",
   "execution_count": null,
   "metadata": {},
   "outputs": [],
   "source": [
    "fig2, ax2 = plt.subplots()\n",
    "labels=['Survived','Not survived']\n",
    "for a,lab in zip([df_full[df_full['Survived']==1]['Age'], df_full[df_full['Survived']==0]['Age']],labels):\n",
    "    sns.distplot(a, bins=range(0, 81, 10), ax=ax2, kde=False, label=lab)\n",
    "ax.set_xlim([0, 80])\n",
    "plt.legend()\n",
    "plt.show()"
   ]
  },
  {
   "cell_type": "markdown",
   "metadata": {},
   "source": [
    "This histogram shows us how the survival probability correlates with age. We can see that is more probable to survive for people from 0 to 10 years old. In the other groups of age it is more probable to not survive than leaving the sinking boat alive. This is specially significant in the 20-40 year brackets."
   ]
  },
  {
   "cell_type": "markdown",
   "metadata": {},
   "source": [
    "How about we combine both sex and age and study the survival probabilities?"
   ]
  },
  {
   "cell_type": "code",
   "execution_count": null,
   "metadata": {},
   "outputs": [],
   "source": [
    "fig1=sns.FacetGrid(df_full,hue='Survived',aspect=4,row='Sex')\n",
    "fig1.map(sns.kdeplot,'Age',shade=True)\n",
    "fig1.set(xlim=(0,df_full[\"Age\"].max()))\n",
    "fig1.add_legend()"
   ]
  },
  {
   "cell_type": "code",
   "execution_count": null,
   "metadata": {},
   "outputs": [],
   "source": [
    "sns.boxplot(x='Survived',y='Age',hue='Sex',data=df_train)"
   ]
  },
  {
   "cell_type": "raw",
   "metadata": {},
   "source": [
    "For both sexes, the bulk of people surviving concentrates in the ages between 20 and 40 years old. There is a local maximum for young males. The survival distribution for females tends to be more uniform, with females surviving around all age brackets and showing a maximum at around 25 years of age. There is also a little peak at around 50 years old that is not shown for the male population."
   ]
  },
  {
   "cell_type": "markdown",
   "metadata": {},
   "source": [
    "#### Ticket Fare"
   ]
  },
  {
   "cell_type": "markdown",
   "metadata": {},
   "source": [
    "And in the following graph we can see the survival probability as a function of ticket fare, as a whole (first graph) and separated for male and female passengers."
   ]
  },
  {
   "cell_type": "code",
   "execution_count": null,
   "metadata": {},
   "outputs": [],
   "source": [
    "fig5=sns.FacetGrid(df_full,hue='Survived',aspect=4)\n",
    "fig5.map(sns.kdeplot,'Pclass',shade=True)#.set(yscale = 'log')\n",
    "fig5.set(xlim=(0,df_full[\"Pclass\"].max()))\n",
    "fig5.add_legend()"
   ]
  },
  {
   "cell_type": "code",
   "execution_count": null,
   "metadata": {},
   "outputs": [],
   "source": [
    "fig3=sns.FacetGrid(df_full,hue='Survived',aspect=4,row='Sex')\n",
    "fig3.map(sns.kdeplot,'Fare',shade=True)#.set(yscale = 'log')\n",
    "fig3.set(xlim=(0,df_full[\"Fare\"].max()))\n",
    "fig3.add_legend()"
   ]
  },
  {
   "cell_type": "code",
   "execution_count": null,
   "metadata": {},
   "outputs": [],
   "source": [
    "df=df_full[df_full.Pclass==1]\n",
    "sns.distplot(df['Fare'],  kde=False, label='First class')\n",
    "df=df_full[df_full.Pclass==2]\n",
    "sns.distplot(df['Fare'],  kde=False, label='Second class')\n",
    "df=df_full[df_full.Pclass==3]\n",
    "sns.distplot(df['Fare'],  kde=False, label='Third class')\n",
    "# Plot formatting\n",
    "plt.legend(prop={'size': 12})\n",
    "plt.title('Fare distribution per class')\n",
    "plt.xlabel('Fare (£)')\n",
    "plt.ylabel('Frecuency')"
   ]
  },
  {
   "cell_type": "markdown",
   "metadata": {},
   "source": [
    "#### Family Size"
   ]
  },
  {
   "cell_type": "markdown",
   "metadata": {},
   "source": [
    "We can also study how the survival probability correlates with having family members aboard the titanic. The survival distribution as a function of the variable Sibsp is as follows"
   ]
  },
  {
   "cell_type": "code",
   "execution_count": null,
   "metadata": {},
   "outputs": [],
   "source": [
    "fig5=sns.FacetGrid(df_full,hue='Survived',aspect=4)\n",
    "fig5.map(sns.kdeplot,'SibSp',shade=True)#.set(yscale = 'log')\n",
    "fig5.set(xlim=(0,df_full[\"SibSp\"].max()))\n",
    "fig5.add_legend()"
   ]
  },
  {
   "cell_type": "markdown",
   "metadata": {},
   "source": [
    "These plots show that the cost of the fare may be correlated with survival, as the non-survival probability is much higher in the low-paying fares than in the more expensive ones, for both male and female passengers."
   ]
  },
  {
   "cell_type": "markdown",
   "metadata": {},
   "source": [
    "### Port of Embark"
   ]
  },
  {
   "cell_type": "code",
   "execution_count": null,
   "metadata": {},
   "outputs": [],
   "source": [
    "fig9=sns.barplot(x=\"Embarked\",y=\"Survived\",data=df_full)"
   ]
  },
  {
   "cell_type": "markdown",
   "metadata": {},
   "source": [
    "We have now a lot of information to start working on the model. "
   ]
  },
  {
   "cell_type": "markdown",
   "metadata": {},
   "source": [
    "## Data Preparation"
   ]
  },
  {
   "cell_type": "markdown",
   "metadata": {},
   "source": [
    "We need to convert some of the categorical variables in order to feed them to our model. First, we will convert the variable 'Sex'. Since in the records from that era the sex was treated as a binary dichotomic value (you were either male or female) we will use that in our model as well, with 1 being male and 0 female."
   ]
  },
  {
   "cell_type": "code",
   "execution_count": null,
   "metadata": {},
   "outputs": [],
   "source": [
    "df_full['Sex'] = df_full['Sex'].map({'male':1,'female':0})\n",
    "df_full"
   ]
  },
  {
   "cell_type": "markdown",
   "metadata": {},
   "source": [
    "### Feature Engineering"
   ]
  },
  {
   "cell_type": "code",
   "execution_count": null,
   "metadata": {},
   "outputs": [],
   "source": [
    "df_full.count()"
   ]
  },
  {
   "cell_type": "markdown",
   "metadata": {},
   "source": [
    "#### Title information"
   ]
  },
  {
   "cell_type": "code",
   "execution_count": null,
   "metadata": {},
   "outputs": [],
   "source": [
    "def get_title(name):\n",
    "    title_search = re.search(' ([A-Za-z]+)\\.', name)\n",
    "    # If the title exists, extract and return it.\n",
    "    if title_search:\n",
    "        return title_search.group(1)\n",
    "        return \"\""
   ]
  },
  {
   "cell_type": "code",
   "execution_count": null,
   "metadata": {},
   "outputs": [],
   "source": [
    "df_full['Title'] = df_full['Name'].apply(get_title)\n",
    "\n",
    "df_full['Title'] = df_full['Title'].replace(['Lady', 'Countess','Capt', 'Col',\n",
    "                                            'Major', 'Rev', 'Sir', 'Jonkheer'], 'Noble')   \n",
    "df_full['Title'] = df_full['Title'].replace('Don', 'Mr')\n",
    "df_full['Title'] = df_full['Title'].replace(['Mlle','Ms'], 'Miss')\n",
    "df_full['Title'] = df_full['Title'].replace(['Mme','Dona'], 'Mrs')\n",
    "\n",
    "male_dr_filter = (df_full.Title == 'Dr') & (df_full.Sex == 1)\n",
    "female_dr_filter = (df_full.Title == 'Dr') & (df_full.Sex == 0)\n",
    "\n",
    "df_full.loc[male_dr_filter, ['Title']] = 'Mr'\n",
    "df_full.loc[female_dr_filter, ['Title']] = 'Mrs'\n",
    "\n",
    "print(pd.crosstab(df_full['Title'], df_full['Sex']))"
   ]
  },
  {
   "cell_type": "markdown",
   "metadata": {},
   "source": [
    "#### Segmentation of age groups"
   ]
  },
  {
   "cell_type": "code",
   "execution_count": null,
   "metadata": {},
   "outputs": [],
   "source": [
    "X_age = pd.DataFrame({'Age': df_full.Age, 'Survived': df_full.Survived}).dropna()"
   ]
  },
  {
   "cell_type": "code",
   "execution_count": null,
   "metadata": {},
   "outputs": [],
   "source": [
    "#X_age = preprocessing.StandardScaler().fit_transform(X_age)"
   ]
  },
  {
   "cell_type": "code",
   "execution_count": null,
   "metadata": {},
   "outputs": [],
   "source": [
    "#X_age=pd.DataFrame()\n",
    "#X_age=df_full.loc[:891,['Age','Survived']].copy()\n",
    "#X_age['Survived']=df_full[:891].Survived"
   ]
  },
  {
   "cell_type": "code",
   "execution_count": null,
   "metadata": {},
   "outputs": [],
   "source": [
    "from sklearn.cluster import KMeans #K Means clustering"
   ]
  },
  {
   "cell_type": "code",
   "execution_count": null,
   "metadata": {},
   "outputs": [],
   "source": [
    "Sum_squared_distances = []\n",
    "K = range(1,16)\n",
    "for k in K:\n",
    "    km = KMeans(n_clusters=k,init='k-means++')\n",
    "    km = km.fit(X_age)\n",
    "    Sum_squared_distances.append(km.inertia_)"
   ]
  },
  {
   "cell_type": "code",
   "execution_count": null,
   "metadata": {},
   "outputs": [],
   "source": [
    "plt.plot(K, Sum_squared_distances, 'bx-')\n",
    "plt.xlabel('Number of clusters, k')\n",
    "plt.ylabel('Sum of squared distances')\n",
    "plt.title('Elbow Method for optimal number of clusters')\n",
    "plt.savefig('elbow.png',dpi=300)\n",
    "plt.show()"
   ]
  },
  {
   "cell_type": "code",
   "execution_count": null,
   "metadata": {},
   "outputs": [],
   "source": [
    "n_cl = 4\n",
    "kmeans = KMeans(n_clusters=n_cl, init='k-means++')\n",
    "kmeans.fit(X_age)\n",
    "\n",
    "X_age['Label']=kmeans.labels_\n"
   ]
  },
  {
   "cell_type": "code",
   "execution_count": null,
   "metadata": {},
   "outputs": [],
   "source": [
    "# Plot the decision boundary\n",
    "# See http://scikit-learn.org/stable/auto_examples/cluster/plot_kmeans_digits.html\n",
    "plt.figure(figsize=(10,5))\n",
    "h = 0.01\n",
    "x_min, x_max = X_age['Age'].min() - h, X_age['Age'].max() + h\n",
    "y_min, y_max = X_age['Survived'].min() - h, X_age['Survived'].max() + h\n",
    "xx, yy = np.meshgrid(np.arange(x_min, x_max, h), np.arange(y_min, y_max, h))\n",
    "\n",
    "# Predict the age cluster for each point in a mesh\n",
    "Z = kmeans.predict(np.c_[xx.ravel(), yy.ravel()])\n",
    "\n",
    "# Put the result into a color plot\n",
    "cmap = sns.cubehelix_palette(start=2.8, rot=.1, as_cmap=True)\n",
    "Z = Z.reshape(xx.shape)\n",
    "plt.imshow(Z, interpolation='nearest',\n",
    "           extent=(xx.min(), xx.max(), yy.min(), yy.max()),\n",
    "           cmap=cmap, aspect='auto')\n",
    "\n",
    "# Plot the ages\n",
    "sns.scatterplot(x='Age', y='Survived', hue='Label', data=X_age, palette=cmap)\n",
    "\n",
    "# Plot the centroids as a white X\n",
    "centroids = kmeans.cluster_centers_\n",
    "plt.scatter(centroids[:, 0], centroids[:, 1],\n",
    "            marker='x', s=169, linewidths=3,\n",
    "            color='w')\n",
    "plt.yticks([0, 1])\n",
    "plt.title(\"Age clusters and decision boundaries\")\n",
    "plt.show()"
   ]
  },
  {
   "cell_type": "code",
   "execution_count": null,
   "metadata": {},
   "outputs": [],
   "source": [
    "# Convert K-means clusters to age bands\n",
    "age_bands = []\n",
    "for k in range(n_cl):\n",
    "    age_bands.append(xx[Z==k].min())\n",
    "\n",
    "# Since the clusters are not sorted we sort the intervals\n",
    "age_bands.sort()\n",
    "\n",
    "# Set the lower bound of the first interval to 0\n",
    "age_bands[0] = 0\n",
    "\n",
    "# Set the higher bound of the last interval to infinite just in case there are older older passengers in the test set\n",
    "age_bands.append(np.inf)\n",
    "\n",
    "# Convert list to numpy array\n",
    "print(\"Age bands: {}\".format(np.array(age_bands)))"
   ]
  },
  {
   "cell_type": "code",
   "execution_count": null,
   "metadata": {},
   "outputs": [],
   "source": []
  },
  {
   "cell_type": "markdown",
   "metadata": {},
   "source": [
    "#### Age"
   ]
  },
  {
   "cell_type": "markdown",
   "metadata": {},
   "source": [
    "Now we can fill the missing values in some of the variables. The age seems to be missing in some of the entries. To fill the data, we will calculate the median as a function of sex and passenger class."
   ]
  },
  {
   "cell_type": "code",
   "execution_count": null,
   "metadata": {},
   "outputs": [],
   "source": [
    "ages_table=df_full[:891].groupby(['Title','Pclass'])['Age'].median()\n",
    "ages_table"
   ]
  },
  {
   "cell_type": "code",
   "execution_count": null,
   "metadata": {},
   "outputs": [],
   "source": [
    "df_full['Age']=df_full['Age'].fillna(0)"
   ]
  },
  {
   "cell_type": "code",
   "execution_count": null,
   "metadata": {},
   "outputs": [],
   "source": [
    "df_full.loc[(df_full.Age == 0)]"
   ]
  },
  {
   "cell_type": "code",
   "execution_count": null,
   "metadata": {},
   "outputs": [],
   "source": [
    "for ind,row in df_full[df_full['Age']==0].iterrows():\n",
    "    df_full.loc[ind,'Age']=ages_table[row.Title][row.Pclass]"
   ]
  },
  {
   "cell_type": "code",
   "execution_count": null,
   "metadata": {},
   "outputs": [],
   "source": [
    "df_full.loc[(df_full.Age == 0)]"
   ]
  },
  {
   "cell_type": "code",
   "execution_count": null,
   "metadata": {},
   "outputs": [],
   "source": [
    "df_full['AgeBand'] = pd.cut(df_full['Age'], age_bands)\n",
    "\n",
    "df_full.groupby('AgeBand')['Survived'].mean()"
   ]
  },
  {
   "cell_type": "code",
   "execution_count": null,
   "metadata": {},
   "outputs": [],
   "source": [
    "df_full.AgeBand.dtype"
   ]
  },
  {
   "cell_type": "markdown",
   "metadata": {},
   "source": [
    "#### Family Size"
   ]
  },
  {
   "cell_type": "code",
   "execution_count": null,
   "metadata": {},
   "outputs": [],
   "source": [
    "df_full['FamilySize'] = df_full['SibSp'] + df_full['Parch'] + 1"
   ]
  },
  {
   "cell_type": "code",
   "execution_count": null,
   "metadata": {},
   "outputs": [],
   "source": [
    "#df_full['IsAlone'] = df_full.FamilySize.apply(lambda x: 1 if x == 1 else 0)"
   ]
  },
  {
   "cell_type": "markdown",
   "metadata": {},
   "source": [
    "#### Fare"
   ]
  },
  {
   "cell_type": "code",
   "execution_count": null,
   "metadata": {},
   "outputs": [],
   "source": [
    "df_full['TicketOcurr'] = df_full.groupby('Ticket')['Ticket'].transform('size')\n",
    "df_full['FarePerPerson'] = df_full['Fare']/df_full['TicketOcurr']"
   ]
  },
  {
   "cell_type": "code",
   "execution_count": null,
   "metadata": {},
   "outputs": [],
   "source": [
    "df_full[df_full[['FarePerPerson']].isnull().any(axis=1)]"
   ]
  },
  {
   "cell_type": "code",
   "execution_count": null,
   "metadata": {},
   "outputs": [],
   "source": [
    "fares_table=df_full[:891].groupby('Pclass')['FarePerPerson'].median()\n",
    "print(fares_table)"
   ]
  },
  {
   "cell_type": "code",
   "execution_count": null,
   "metadata": {},
   "outputs": [],
   "source": [
    "df_full['IsAlone'] = df_full.TicketOcurr.apply(lambda x: 1 if x == 1 else 0)"
   ]
  },
  {
   "cell_type": "code",
   "execution_count": null,
   "metadata": {},
   "outputs": [],
   "source": [
    "df_full[df_full[['Fare']].isnull().any(axis=1)]"
   ]
  },
  {
   "cell_type": "code",
   "execution_count": null,
   "metadata": {},
   "outputs": [],
   "source": [
    "for df, fare in zip([df_full],[fares_table]):\n",
    "    for cls in np.unique(df.Pclass):\n",
    "        df.loc[(df['FarePerPerson'].isnull()) & (df['Pclass']==cls),'FarePerPerson']=fare.loc[cls]"
   ]
  },
  {
   "cell_type": "code",
   "execution_count": null,
   "metadata": {},
   "outputs": [],
   "source": [
    "df_full[df_full.FarePerPerson.isnull()]"
   ]
  },
  {
   "cell_type": "code",
   "execution_count": null,
   "metadata": {},
   "outputs": [],
   "source": [
    "df=df_full[df_full.Pclass==1]\n",
    "sns.distplot(df['FarePerPerson'],  kde=False, label='First class')\n",
    "df=df_full[df_full.Pclass==2]\n",
    "sns.distplot(df['FarePerPerson'],  kde=False, label='Second class')\n",
    "df=df_full[df_full.Pclass==3]\n",
    "sns.distplot(df['FarePerPerson'],  kde=False, label='Third class')\n",
    "# Plot formatting\n",
    "plt.legend(prop={'size': 12})\n",
    "plt.title('Fare distribution per class')\n",
    "plt.xlabel('Fare per person (£)')\n",
    "plt.ylabel('Frecuency')\n",
    "plt.savefig('Fares.png',dpi=300)\n",
    "plt.show()"
   ]
  },
  {
   "cell_type": "code",
   "execution_count": null,
   "metadata": {},
   "outputs": [],
   "source": [
    "df_full[df_full['Fare']==0]"
   ]
  },
  {
   "cell_type": "markdown",
   "metadata": {},
   "source": [
    "#### Port of Embarkment"
   ]
  },
  {
   "cell_type": "code",
   "execution_count": null,
   "metadata": {},
   "outputs": [],
   "source": [
    "df_full[df_full[['Embarked']].isnull().any(axis=1)]"
   ]
  },
  {
   "cell_type": "code",
   "execution_count": null,
   "metadata": {},
   "outputs": [],
   "source": [
    "num_nan=df_full[df_full[['Embarked']].isnull().any(axis=1)].index\n",
    "port_samp=list(df_train['Embarked'].sample(len(num_nan),replace=True))"
   ]
  },
  {
   "cell_type": "code",
   "execution_count": null,
   "metadata": {},
   "outputs": [],
   "source": [
    "for i in range(len(num_nan)):\n",
    "    df_full.loc[num_nan[i],'Embarked']=port_samp[i]"
   ]
  },
  {
   "cell_type": "code",
   "execution_count": null,
   "metadata": {},
   "outputs": [],
   "source": [
    "df_full[df_full[['Embarked']].isnull().any(axis=1)]"
   ]
  },
  {
   "cell_type": "code",
   "execution_count": null,
   "metadata": {},
   "outputs": [],
   "source": [
    "df_full=pd.get_dummies(df_full, columns=[\"Embarked\"])"
   ]
  },
  {
   "cell_type": "markdown",
   "metadata": {},
   "source": [
    "#### Making dummies of categorical variables"
   ]
  },
  {
   "cell_type": "code",
   "execution_count": null,
   "metadata": {},
   "outputs": [],
   "source": [
    "df_full=pd.get_dummies(df_full, columns=[\"Pclass\"])"
   ]
  },
  {
   "cell_type": "code",
   "execution_count": null,
   "metadata": {},
   "outputs": [],
   "source": [
    "df_full=pd.get_dummies(df_full, columns=[\"Title\"])\n"
   ]
  },
  {
   "cell_type": "code",
   "execution_count": null,
   "metadata": {},
   "outputs": [],
   "source": [
    "df_full=pd.get_dummies(df_full, columns=[\"AgeBand\"])"
   ]
  },
  {
   "cell_type": "code",
   "execution_count": null,
   "metadata": {},
   "outputs": [],
   "source": [
    "df_full.head()"
   ]
  },
  {
   "cell_type": "markdown",
   "metadata": {},
   "source": [
    "### Modeling"
   ]
  },
  {
   "cell_type": "code",
   "execution_count": null,
   "metadata": {},
   "outputs": [],
   "source": [
    "#Generate the correlation matrix for the train set\n",
    "corr_full=df_full.corr()"
   ]
  },
  {
   "cell_type": "code",
   "execution_count": null,
   "metadata": {},
   "outputs": [],
   "source": [
    "fig_10=plt.figure(figsize=(10,10))\n",
    "sns.heatmap(corr_full, annot=True)\n",
    "plt.title(\"Titanic survivor correlation matrix heatmap\")\n",
    "plt.show()"
   ]
  },
  {
   "cell_type": "code",
   "execution_count": null,
   "metadata": {},
   "outputs": [],
   "source": [
    "df_full.columns"
   ]
  },
  {
   "cell_type": "code",
   "execution_count": null,
   "metadata": {},
   "outputs": [],
   "source": [
    "#features = Sex\tIsAlone\tFarePerPersonEmbarked_CEmbarked_QEmbarked_SPclass_1Pclass_2Pclass_3Title_MasterTitle_MissTitle_MrTitle_MrsTitle_NobleAgeBand_(0.0, 13.16]AgeBand_(13.16, 27.67]AgeBand_(27.67, 43.52]AgeBand_(43.52, inf]\n",
    "data = df_full.drop(['Survived','Name','Age','SibSp','Parch','Ticket','Fare','Cabin','FamilySize','TicketOcurr','FarePerPerson'],axis=1)\n",
    "data.head()"
   ]
  },
  {
   "cell_type": "code",
   "execution_count": null,
   "metadata": {},
   "outputs": [],
   "source": [
    "target = df_train.Survived # being df_train the original train data we imported in the beginning \n",
    "train = data[0:891]        # \"original\" train set containing transformed/selected features\n",
    "test = data[891:]    # \"original\" test set containing transformed/selected features "
   ]
  },
  {
   "cell_type": "code",
   "execution_count": null,
   "metadata": {},
   "outputs": [],
   "source": [
    "train.shape"
   ]
  },
  {
   "cell_type": "code",
   "execution_count": null,
   "metadata": {},
   "outputs": [],
   "source": [
    "target.shape"
   ]
  },
  {
   "cell_type": "code",
   "execution_count": null,
   "metadata": {},
   "outputs": [],
   "source": [
    "test.shape"
   ]
  },
  {
   "cell_type": "markdown",
   "metadata": {},
   "source": [
    "#### Preprocessing"
   ]
  },
  {
   "cell_type": "code",
   "execution_count": null,
   "metadata": {},
   "outputs": [],
   "source": [
    "X = preprocessing.StandardScaler().fit_transform(train)\n",
    "y = target"
   ]
  },
  {
   "cell_type": "markdown",
   "metadata": {},
   "source": [
    "### SVM"
   ]
  },
  {
   "cell_type": "code",
   "execution_count": null,
   "metadata": {},
   "outputs": [],
   "source": []
  },
  {
   "cell_type": "code",
   "execution_count": null,
   "metadata": {},
   "outputs": [],
   "source": [
    "from sklearn import svm\n",
    "from sklearn.model_selection import train_test_split\n",
    "from sklearn.metrics import f1_score, accuracy_score\n",
    "from sklearn.metrics import classification_report\n",
    "from sklearn.metrics import confusion_matrix\n",
    "from sklearn.model_selection import GridSearchCV"
   ]
  },
  {
   "cell_type": "code",
   "execution_count": null,
   "metadata": {},
   "outputs": [],
   "source": [
    "X_train, X_test, y_train, y_test = train_test_split(X, y, test_size=0.2, random_state=4)\n",
    "print ('Train set:', X_train.shape,  y_train.shape)\n",
    "print ('Test set:', X_test.shape,  y_test.shape)\n",
    "print('\\n')"
   ]
  },
  {
   "cell_type": "code",
   "execution_count": null,
   "metadata": {},
   "outputs": [],
   "source": [
    "clf_rbf = svm.SVC(kernel='rbf')\n",
    "clf_rbf.fit(X_train, y_train) \n",
    "yhat = clf_rbf.predict(X_test)\n",
    "mat=confusion_matrix(y_test, yhat)\n",
    "sns.heatmap(mat.T, cmap=(\"Blues\"), square=True, annot=True, fmt='d', cbar=False,\n",
    "            xticklabels=['Not survived','Survived'],\n",
    "            yticklabels=['Not survived','Survived'])\n",
    "plt.xlabel('true label')\n",
    "plt.ylabel('predicted label');\n",
    "print(classification_report(y_test, yhat))"
   ]
  },
  {
   "cell_type": "markdown",
   "metadata": {},
   "source": [
    "True or false indicated if the classifier predicted the class correctly. Positive or negative indicates if the classifier predicted the desired class."
   ]
  },
  {
   "cell_type": "code",
   "execution_count": null,
   "metadata": {},
   "outputs": [],
   "source": [
    "from sklearn.model_selection import learning_curve , ShuffleSplit"
   ]
  },
  {
   "cell_type": "code",
   "execution_count": null,
   "metadata": {},
   "outputs": [],
   "source": [
    "def plot_learning_curve(estimator, title, X, y, axes=None, ylim=None, cv=None,\n",
    "                        n_jobs=None, train_sizes=np.linspace(.1, 1.0, 5)):\n",
    "    \"\"\"\n",
    "    Generate 3 plots: the test and training learning curve, the training\n",
    "    samples vs fit times curve, the fit times vs score curve.\n",
    "\n",
    "    Parameters\n",
    "    ----------\n",
    "    estimator : object type that implements the \"fit\" and \"predict\" methods\n",
    "        An object of that type which is cloned for each validation.\n",
    "\n",
    "    title : string\n",
    "        Title for the chart.\n",
    "\n",
    "    X : array-like, shape (n_samples, n_features)\n",
    "        Training vector, where n_samples is the number of samples and\n",
    "        n_features is the number of features.\n",
    "\n",
    "    y : array-like, shape (n_samples) or (n_samples, n_features), optional\n",
    "        Target relative to X for classification or regression;\n",
    "        None for unsupervised learning.\n",
    "\n",
    "    axes : array of 3 axes, optional (default=None)\n",
    "        Axes to use for plotting the curves.\n",
    "\n",
    "    ylim : tuple, shape (ymin, ymax), optional\n",
    "        Defines minimum and maximum yvalues plotted.\n",
    "\n",
    "    cv : int, cross-validation generator or an iterable, optional\n",
    "        Determines the cross-validation splitting strategy.\n",
    "        Possible inputs for cv are:\n",
    "\n",
    "          - None, to use the default 5-fold cross-validation,\n",
    "          - integer, to specify the number of folds.\n",
    "          - :term:`CV splitter`,\n",
    "          - An iterable yielding (train, test) splits as arrays of indices.\n",
    "\n",
    "        For integer/None inputs, if ``y`` is binary or multiclass,\n",
    "        :class:`StratifiedKFold` used. If the estimator is not a classifier\n",
    "        or if ``y`` is neither binary nor multiclass, :class:`KFold` is used.\n",
    "\n",
    "        Refer :ref:`User Guide <cross_validation>` for the various\n",
    "        cross-validators that can be used here.\n",
    "\n",
    "    n_jobs : int or None, optional (default=None)\n",
    "        Number of jobs to run in parallel.\n",
    "        ``None`` means 1 unless in a :obj:`joblib.parallel_backend` context.\n",
    "        ``-1`` means using all processors. See :term:`Glossary <n_jobs>`\n",
    "        for more details.\n",
    "\n",
    "    train_sizes : array-like, shape (n_ticks,), dtype float or int\n",
    "        Relative or absolute numbers of training examples that will be used to\n",
    "        generate the learning curve. If the dtype is float, it is regarded as a\n",
    "        fraction of the maximum size of the training set (that is determined\n",
    "        by the selected validation method), i.e. it has to be within (0, 1].\n",
    "        Otherwise it is interpreted as absolute sizes of the training sets.\n",
    "        Note that for classification the number of samples usually have to\n",
    "        be big enough to contain at least one sample from each class.\n",
    "        (default: np.linspace(0.1, 1.0, 5))\n",
    "    \"\"\"\n",
    "    if axes is None:\n",
    "        _, axes = plt.subplots(1, 3, figsize=(20, 5))\n",
    "\n",
    "    axes[0].set_title(title)\n",
    "    if ylim is not None:\n",
    "        axes[0].set_ylim(*ylim)\n",
    "    axes[0].set_xlabel(\"Training examples\")\n",
    "    axes[0].set_ylabel(\"Score\")\n",
    "\n",
    "    train_sizes, train_scores, test_scores, fit_times, _ = \\\n",
    "        learning_curve(estimator, X, y, cv=cv, n_jobs=n_jobs,\n",
    "                       train_sizes=train_sizes,\n",
    "                       return_times=True)\n",
    "    train_scores_mean = np.mean(train_scores, axis=1)\n",
    "    train_scores_std = np.std(train_scores, axis=1)\n",
    "    test_scores_mean = np.mean(test_scores, axis=1)\n",
    "    test_scores_std = np.std(test_scores, axis=1)\n",
    "    fit_times_mean = np.mean(fit_times, axis=1)\n",
    "    fit_times_std = np.std(fit_times, axis=1)\n",
    "\n",
    "    # Plot learning curve\n",
    "    axes[0].grid()\n",
    "    axes[0].fill_between(train_sizes, train_scores_mean - train_scores_std,\n",
    "                         train_scores_mean + train_scores_std, alpha=0.1,\n",
    "                         color=\"r\")\n",
    "    axes[0].fill_between(train_sizes, test_scores_mean - test_scores_std,\n",
    "                         test_scores_mean + test_scores_std, alpha=0.1,\n",
    "                         color=\"g\")\n",
    "    axes[0].plot(train_sizes, train_scores_mean, 'o-', color=\"r\",\n",
    "                 label=\"Training score\")\n",
    "    axes[0].plot(train_sizes, test_scores_mean, 'o-', color=\"g\",\n",
    "                 label=\"Cross-validation score\")\n",
    "    axes[0].legend(loc=\"best\")\n",
    "\n",
    "    # Plot n_samples vs fit_times\n",
    "    axes[1].grid()\n",
    "    axes[1].plot(train_sizes, fit_times_mean, 'o-')\n",
    "    axes[1].fill_between(train_sizes, fit_times_mean - fit_times_std,\n",
    "                         fit_times_mean + fit_times_std, alpha=0.1)\n",
    "    axes[1].set_xlabel(\"Training examples\")\n",
    "    axes[1].set_ylabel(\"fit_times\")\n",
    "    axes[1].set_title(\"Scalability of the model\")\n",
    "\n",
    "    # Plot fit_time vs score\n",
    "    axes[2].grid()\n",
    "    axes[2].plot(fit_times_mean, test_scores_mean, 'o-')\n",
    "    axes[2].fill_between(fit_times_mean, test_scores_mean - test_scores_std,\n",
    "                         test_scores_mean + test_scores_std, alpha=0.1)\n",
    "    axes[2].set_xlabel(\"fit_times\")\n",
    "    axes[2].set_ylabel(\"Score\")\n",
    "    axes[2].set_title(\"Performance of the model\")\n",
    "\n",
    "    return plt"
   ]
  },
  {
   "cell_type": "code",
   "execution_count": null,
   "metadata": {},
   "outputs": [],
   "source": [
    "from sklearn.model_selection import learning_curve\n",
    "from sklearn.model_selection import ShuffleSplit\n",
    "\n",
    "title = r\"Learning Curves (SVM, RBF kernel)\"\n",
    "# SVC is more expensive so we do a lower number of CV iterations:\n",
    "cv = ShuffleSplit(n_splits=10, test_size=0.2, random_state=0)\n",
    "plot_learning_curve(clf_rbf, title, X, y, ylim=(0.7, 1.01),\n",
    "                    cv=cv, n_jobs=-1)\n",
    "\n",
    "plt.show()"
   ]
  },
  {
   "cell_type": "code",
   "execution_count": null,
   "metadata": {},
   "outputs": [],
   "source": [
    "print(f'Tuned SCV Accuracy: {round(accuracy_score(y_test, yhat), 2)}')"
   ]
  },
  {
   "cell_type": "code",
   "execution_count": null,
   "metadata": {},
   "outputs": [],
   "source": [
    "X_val=validation\n",
    "X_val=preprocessing.StandardScaler().fit(train).transform(X_val)\n",
    "y_val=clf_rbf.predict(X_val)\n",
    "\n",
    "#print(f'Tuned SCV Accuracy: {round(accuracy_score(y_test, y_val), 2)}')"
   ]
  },
  {
   "cell_type": "code",
   "execution_count": null,
   "metadata": {},
   "outputs": [],
   "source": [
    "submission = pd.DataFrame({\n",
    "       \"PassengerId\": df_test[\"PassengerId\"],\n",
    "       \"Survived\": y_val\n",
    "   })\n",
    "\n",
    "print(submission.shape)\n",
    "submission.to_csv('titanic_svc.csv', index=False)\n",
    "\n",
    "#kaggle competitions submit -c titanic -f titanic_svc_test.csv -m \"Test of automatic submission\""
   ]
  },
  {
   "cell_type": "markdown",
   "metadata": {},
   "source": [
    "### Optimized SVM"
   ]
  },
  {
   "cell_type": "code",
   "execution_count": null,
   "metadata": {},
   "outputs": [],
   "source": [
    "C_val=[0.01, 0.05, 0.1, 0.5, 1, 10]\n",
    "\n",
    "param_grid = [\n",
    "    {'kernel': ['linear'], 'C': C_val},\n",
    "    {'kernel': ['poly'], 'C': C_val, 'degree': [2, 3, 4, 5], 'gamma': ['scale', 'auto']},\n",
    "    {'kernel': ['rbf'], 'C': C_val, 'gamma': ['scale', 'auto']},\n",
    "    {'kernel': ['sigmoid'], 'C': C_val, 'gamma': ['scale', 'auto']}\n",
    "    ]\n",
    "\n",
    "#param_grid = [\n",
    "#    {'kernel': ['poly'], 'C': [0.05, 0.1, 0.5, 1, 5], 'degree': [2, 3, 4]},\n",
    "#    {'kernel': ['rbf'], 'C': [0.05, 0.1, 0.5, 1, 5]},\n",
    "#    {'kernel': ['sigmoid'], 'C': [0.05, 0.1, 0.5, 1, 5]}\n",
    "#    ]\n",
    "\n",
    "#param_grid = [{'kernel': ['rbf'], 'C': [0.1, 0.5]}\n",
    "#             ]"
   ]
  },
  {
   "cell_type": "code",
   "execution_count": null,
   "metadata": {},
   "outputs": [],
   "source": [
    "svc = svm.SVC()\n",
    "clf_svc_grid = GridSearchCV(svc, param_grid, cv=5)\n",
    "best_model = clf_svc_grid.fit(X_train, y_train)"
   ]
  },
  {
   "cell_type": "code",
   "execution_count": null,
   "metadata": {},
   "outputs": [],
   "source": [
    "##Print the value of best Hyperparameters\n",
    "print('Best kernel:', best_model.best_estimator_.get_params()['kernel'])\n",
    "print('Best C:', best_model.best_estimator_.get_params()['C'])\n",
    "print('Best degree:', best_model.best_estimator_.get_params()['degree'])\n",
    "print('Best gamma:', best_model.best_estimator_.get_params()['gamma'])\n",
    "print('\\n')"
   ]
  },
  {
   "cell_type": "code",
   "execution_count": null,
   "metadata": {},
   "outputs": [],
   "source": [
    "title = r\"Learning Curves (SVM, RBF kernel)\"\n",
    "# SVC is more expensive so we do a lower number of CV iterations:\n",
    "cv = ShuffleSplit(n_splits=5, test_size=0.2, random_state=0)\n",
    "plot_learning_curve(best_model, title, X, y, ylim=(0.7, 1.01),\n",
    "                    cv=cv, n_jobs=-1)\n",
    "\n",
    "plt.show()"
   ]
  },
  {
   "cell_type": "code",
   "execution_count": null,
   "metadata": {},
   "outputs": [],
   "source": [
    "y_pred = best_model.predict(X_test)\n",
    "## df = pd.DataFrame({'Actual': y_test, 'Predicted': y_pred})\n",
    "## print(df)\n",
    "## print('\\n')\n",
    "print(f'Tuned SCV Accuracy: {round(accuracy_score(y_test, y_pred), 2)}')"
   ]
  },
  {
   "cell_type": "markdown",
   "metadata": {},
   "source": [
    "### Random Forest"
   ]
  },
  {
   "cell_type": "code",
   "execution_count": null,
   "metadata": {},
   "outputs": [],
   "source": [
    "from sklearn.ensemble import RandomForestClassifier"
   ]
  },
  {
   "cell_type": "code",
   "execution_count": null,
   "metadata": {},
   "outputs": [],
   "source": [
    "param_grid = [\n",
    "    {'criterion': ['gini'], 'n_estimators': [100], 'max_depth': list(np.arange(5,11)) + [None], \n",
    "     'min_samples_split': np.arange(2, 6), 'min_samples_leaf': np.arange(1, 6),\n",
    "     'max_features': ['sqrt', 'log2', None], 'random_state': [4]},\n",
    "    {'criterion': ['entropy'], 'n_estimators': [100], 'max_depth': list(np.arange(5,11)) + [None], \n",
    "     'min_samples_split': np.arange(2, 6), 'min_samples_leaf': np.arange(1, 6),\n",
    "     'max_features': ['sqrt', 'log2', None], 'random_state': [4]}\n",
    "    ] "
   ]
  },
  {
   "cell_type": "code",
   "execution_count": null,
   "metadata": {},
   "outputs": [],
   "source": [
    "rf = RandomForestClassifier()\n",
    "clf_rf_grid = GridSearchCV(rf, param_grid, cv=5)\n",
    "best_model = clf_rf_grid.fit(X_train, y_train)"
   ]
  },
  {
   "cell_type": "code",
   "execution_count": null,
   "metadata": {},
   "outputs": [],
   "source": [
    "print('Criterion:', best_model.best_estimator_.get_params()['criterion'])\n",
    "print('Number of estimators:', best_model.best_estimator_.get_params()['n_estimators'])\n",
    "print('Max depth:', best_model.best_estimator_.get_params()['max_depth'])\n",
    "print('Min samples split:', best_model.best_estimator_.get_params()['min_samples_split'])\n",
    "print('Min samples leaf:', best_model.best_estimator_.get_params()['min_samples_leaf'])\n",
    "print('Max features:', best_model.best_estimator_.get_params()['max_features'])"
   ]
  },
  {
   "cell_type": "code",
   "execution_count": null,
   "metadata": {},
   "outputs": [],
   "source": [
    "y_pred = best_model.predict(X_test)\n",
    "accuracy = accuracy_score(y_test, y_pred)\n",
    "print(f'Random Forest Accuracy: {round(accuracy, 2)}')"
   ]
  },
  {
   "cell_type": "code",
   "execution_count": null,
   "metadata": {},
   "outputs": [],
   "source": [
    "validation.head()"
   ]
  },
  {
   "cell_type": "code",
   "execution_count": null,
   "metadata": {},
   "outputs": [],
   "source": [
    "X_val = validation\n",
    "X_val=preprocessing.StandardScaler().fit(train).transform(X_val)\n",
    "y_val=best_model.predict(X_val)"
   ]
  },
  {
   "cell_type": "code",
   "execution_count": null,
   "metadata": {},
   "outputs": [],
   "source": [
    "submission = pd.DataFrame({\n",
    "       \"PassengerId\": df_test[\"PassengerId\"],\n",
    "       \"Survived\": y_val\n",
    "   })\n",
    "submission.to_csv('titanic_RF_best.csv', index=False)"
   ]
  },
  {
   "cell_type": "code",
   "execution_count": null,
   "metadata": {},
   "outputs": [],
   "source": [
    "#rf_best_hand = RandomForestClassifier(criterion='entropy', n_estimators=100, max_depth=None, min_samples_split=4, \n",
    "                                 #min_samples_leaf=3, max_features=None, random_state=4)\n",
    "\n",
    "title = r\"Random Forest Classifier\"\n",
    "# SVC is more expensive so we do a lower number of CV iterations:\n",
    "cv = ShuffleSplit(n_splits=10, test_size=0.2, random_state=0)\n",
    "plot_learning_curve(best_model, title, X, y, ylim=(0.7, 1.01),\n",
    "                    cv=cv, n_jobs=-1)\n",
    "#plot_learning_curve(rf_best_hand, title, X, y, ylim=(0.7, 1.01),\n",
    "#                    cv=cv, n_jobs=-1)\n",
    "\n",
    "plt.show()"
   ]
  },
  {
   "cell_type": "markdown",
   "metadata": {},
   "source": [
    "To do:\n",
    "\n",
    "- Hacer seleccion de algoritmos (sin XGBoost)\n",
    "- Optimizar esos algoritmos\n",
    "- Usar esos algoritmos para dar predicciones\n",
    "- Feed predicciones a XGBoost (stacking)"
   ]
  },
  {
   "cell_type": "markdown",
   "metadata": {},
   "source": [
    "### Selecting the best ML Algorithm"
   ]
  },
  {
   "cell_type": "code",
   "execution_count": null,
   "metadata": {},
   "outputs": [],
   "source": [
    "# Some useful parameters which will come in handy later on\n",
    "ntrain = train.shape[0]\n",
    "ntest = test.shape[0]\n",
    "SEED = 2 # for reproducibility\n",
    "NFOLDS = 5 # set folds for out-of-fold prediction\n",
    "kf = KFold(n_splits= NFOLDS, shuffle= True, random_state=SEED)\n",
    "\n",
    "# Class to extend the Sklearn classifier\n",
    "class SklearnHelper(object):\n",
    "    def __init__(self, clf, seed=0, params=None):\n",
    "        params['random_state'] = seed\n",
    "        self.clf = clf(**params)\n",
    "\n",
    "    def train(self, x_train, y_train):\n",
    "        self.clf.fit(x_train, y_train)\n",
    "\n",
    "    def predict(self, x):\n",
    "        return self.clf.predict(x)\n",
    "    \n",
    "    def fit(self,x,y):\n",
    "        return self.clf.fit(x,y)\n",
    "    \n",
    "    def feature_importances(self,x,y):\n",
    "        print(self.clf.fit(x,y).feature_importances_)\n",
    "    \n",
    "# Class to extend XGboost classifer"
   ]
  },
  {
   "cell_type": "code",
   "execution_count": null,
   "metadata": {},
   "outputs": [],
   "source": [
    "def get_oof(clf, x_train, y_train, x_test):\n",
    "    oof_train = np.zeros((ntrain,)) #array vacio de longitud igual al numero de el de train en dataset\n",
    "    oof_test = np.zeros((ntest,)) #lo mismo con el test\n",
    "    oof_test_skf = np.empty((NFOLDS, ntest)) #tantas filas como KFolds y columnas igual a elemetos de test en dataset\n",
    "\n",
    "    for i, (train_index, test_index) in enumerate(kf): #i es el iterable de kfolds, train index y test index los valores que kfolds asigna a los elementos del train set\n",
    "        x_tr = x_train[train_index] #train del train set (crossvalidation)\n",
    "        y_tr = y_train[train_index] #etiquetas del train cross validation\n",
    "        x_te = x_train[test_index] # test del train set (crossvalidation)\n",
    "\n",
    "        clf.train(x_tr, y_tr) #entrena modelo con train cv\n",
    "\n",
    "        oof_train[test_index] = clf.predict(x_te) #predice valores de test crossvalidation\n",
    "        oof_test_skf[i, :] = clf.predict(x_test) #valores predichos del testset de verdad\n",
    "\n",
    "    oof_test[:] = oof_test_skf.mean(axis=0) #media en columnas de la prediccion de todos los entrenamientos del modelo con kfolds\n",
    "    return oof_train.reshape(-1, 1), oof_test.reshape(-1, 1) #devuelve los valores de test crossvalidation y del test de verdad"
   ]
  },
  {
   "cell_type": "code",
   "execution_count": null,
   "metadata": {},
   "outputs": [],
   "source": [
    "# Importing necessary modules for training and evaluation\n",
    "from sklearn.preprocessing import StandardScaler\n",
    "from sklearn.model_selection import train_test_split\n",
    "\n",
    "# Data preprocessing and splitting\n",
    "scaler = StandardScaler()\n",
    "X = scaler.fit_transform(train)\n",
    "y = target\n",
    "\n",
    "#Number of K folds\n",
    "n_kfolds=10\n",
    "\n",
    "# Number of estimators for tree-based ensembles\n",
    "num_estimators = 100\n",
    "\n",
    "#X_train, X_test, y_train, y_test = train_test_split(X, y, test_size=0.2, random_state=4)\n",
    "#print ('Train set:', X_train.shape,  y_train.shape)\n",
    "#print ('Test set:', X_test.shape,  y_test.shape)\n",
    "\n",
    "# Calculating score for a bunch of algortihms\n",
    "from sklearn.linear_model import LogisticRegression, Perceptron, SGDClassifier\n",
    "from sklearn.svm import SVC\n",
    "from sklearn.neighbors import KNeighborsClassifier\n",
    "from sklearn.naive_bayes import GaussianNB\n",
    "from sklearn.tree import DecisionTreeClassifier\n",
    "from sklearn.ensemble import RandomForestClassifier, AdaBoostClassifier, GradientBoostingClassifier, ExtraTreesClassifier\n",
    "from sklearn.model_selection import cross_val_score\n",
    "import xgboost as xgb\n",
    "\n",
    "rand_state=SEED\n",
    "\n",
    "models = [LogisticRegression(\n",
    "             random_state=rand_state),\n",
    "          Perceptron(\n",
    "              random_state=rand_state), \n",
    "          SGDClassifier(\n",
    "              random_state=rand_state), \n",
    "          SVC(\n",
    "              random_state=rand_state), \n",
    "          KNeighborsClassifier(\n",
    "              ), \n",
    "          GaussianNB(\n",
    "              ),\n",
    "          DecisionTreeClassifier(\n",
    "              random_state=rand_state), \n",
    "          RandomForestClassifier(\n",
    "              random_state=rand_state,\n",
    "              n_estimators=num_estimators),\n",
    "          ExtraTreesClassifier(\n",
    "              random_state=rand_state,\n",
    "              n_estimators=num_estimators),\n",
    "          AdaBoostClassifier(\n",
    "              random_state=rand_state,\n",
    "              n_estimators=num_estimators),\n",
    "          GradientBoostingClassifier(\n",
    "              random_state=rand_state, \n",
    "              n_estimators=num_estimators)\n",
    "         ]\n",
    "\n",
    "model_name = []\n",
    "acc_test = []\n",
    "acc_train = []\n",
    "cv_scores = []\n",
    "\n",
    "for model in models:\n",
    "    model.fit(X_train, y_train)\n",
    "    y_pred = model.predict(X_test)\n",
    "    model_name.append(model.__class__.__name__)\n",
    "    acc_test.append(model.score(X_test, y_test))\n",
    "    acc_train.append(model.score(X_train, y_train))\n",
    "    cv_scores.append(cross_val_score(model, X, y, cv=5))\n",
    "\n",
    "results = pd.DataFrame({\n",
    "    'Model': model_name,\n",
    "    'CvScore' : cv_scores,\n",
    "    'TestScore': acc_test,\n",
    "    'TrainScore': acc_train\n",
    "    })\n",
    "\n",
    "\n",
    "results.insert(1, 'CVMeanScore', np.mean(results['CvScore'].tolist(), axis=1))\n",
    "results.drop(['CvScore'],axis=1,inplace=True)\n",
    "\n",
    "#by='TestScore'\n",
    "results.sort_values(by='CVMeanScore', ascending=False, ignore_index=True, inplace=True)\n",
    "#print(results)\n",
    "\n",
    "print('The five best ML models for this problem are:\\n') \n",
    "print(results.iloc[:5,0:2])"
   ]
  },
  {
   "cell_type": "code",
   "execution_count": null,
   "metadata": {},
   "outputs": [],
   "source": []
  }
 ],
 "metadata": {
  "kernelspec": {
   "display_name": "Python 3",
   "language": "python",
   "name": "python3"
  },
  "language_info": {
   "codemirror_mode": {
    "name": "ipython",
    "version": 3
   },
   "file_extension": ".py",
   "mimetype": "text/x-python",
   "name": "python",
   "nbconvert_exporter": "python",
   "pygments_lexer": "ipython3",
   "version": "3.7.6"
  }
 },
 "nbformat": 4,
 "nbformat_minor": 4
}
